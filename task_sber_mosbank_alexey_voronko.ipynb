{
 "cells": [
  {
   "cell_type": "code",
   "execution_count": null,
   "metadata": {
    "id": "o6fLSVLvvpLW"
   },
   "outputs": [],
   "source": [
    "import pandas as pd\n",
    "import re\n",
    "from datetime import datetime"
   ]
  },
  {
   "cell_type": "markdown",
   "metadata": {
    "id": "bvgwROj--iZI"
   },
   "source": [
    "# Задание на работу с массивом данных (Python)\n",
    "Выполнил: Алексей Воронко"
   ]
  },
  {
   "cell_type": "markdown",
   "metadata": {
    "id": "rr_5YfXVwbY6"
   },
   "source": [
    "Основные нюансы работы скрипта:\n",
    "1.\tРезультат должен быть точно таким же, как в файле «Результат обработки.xlsx»;\n",
    "2.\tСкрипт должен фильтровать по Московскому банку (сотрудники Московского банка указаны в файле «ШЕ.xlsx»;\n",
    "3.\tСкрипт определяет сегмент исходя из файла «ШЕ.xlsx»;\n",
    "4.\tИсходя из сегмента определяется Направление, где:  \n",
    "- СБП и СБ1 = Премиальное направление  \n",
    "- ВСП = Массовое направление  \n",
    "-  КБ = Корпоративное направление;  \n",
    "5. Скрипт должен оставить только проведённые активности – это те активности, где «Техническое поле 3» меньше «Время регистрации»;\n",
    "6.\tСкрипт должен фильтровать только ВСП с припиской «9038_»;\n",
    "7.\tПоле «Дата загрузки» проставляет автоматически текущую дату и время.\n"
   ]
  },
  {
   "cell_type": "markdown",
   "metadata": {
    "id": "xKE0otoz-7Xf"
   },
   "source": [
    "## Чтение данных"
   ]
  },
  {
   "cell_type": "markdown",
   "metadata": {
    "id": "iXXC692C_OU3"
   },
   "source": [
    "Прочитаем данные, выведем информацию о таблицах"
   ]
  },
  {
   "cell_type": "code",
   "execution_count": null,
   "metadata": {
    "id": "fOQVtB7mvq0P"
   },
   "outputs": [],
   "source": [
    "df_origin = pd.read_excel('/content/drive/MyDrive/Colab Notebooks/sber_mos_bank/Исходный массив.xlsx')"
   ]
  },
  {
   "cell_type": "code",
   "execution_count": null,
   "metadata": {
    "colab": {
     "base_uri": "https://localhost:8080/",
     "height": 232
    },
    "executionInfo": {
     "elapsed": 11,
     "status": "ok",
     "timestamp": 1652087264229,
     "user": {
      "displayName": "Aleksey Efremov",
      "userId": "00286921861262744042"
     },
     "user_tz": -180
    },
    "id": "bmgNCmks_BP8",
    "outputId": "8f80f584-7491-4335-e15d-0f82a317ef98"
   },
   "outputs": [
    {
     "data": {
      "text/html": [
       "\n",
       "  <div id=\"df-7ff5e75b-4e34-4454-8c50-fdefbe29f19e\">\n",
       "    <div class=\"colab-df-container\">\n",
       "      <div>\n",
       "<style scoped>\n",
       "    .dataframe tbody tr th:only-of-type {\n",
       "        vertical-align: middle;\n",
       "    }\n",
       "\n",
       "    .dataframe tbody tr th {\n",
       "        vertical-align: top;\n",
       "    }\n",
       "\n",
       "    .dataframe thead th {\n",
       "        text-align: right;\n",
       "    }\n",
       "</style>\n",
       "<table border=\"1\" class=\"dataframe\">\n",
       "  <thead>\n",
       "    <tr style=\"text-align: right;\">\n",
       "      <th></th>\n",
       "      <th>Техническое поле 10</th>\n",
       "      <th>Техническое поле 8</th>\n",
       "      <th>Техническое поле 7</th>\n",
       "      <th>Техническое поле 6</th>\n",
       "      <th>Техническое поле 5</th>\n",
       "      <th>Техническое поле 4</th>\n",
       "      <th>Техническое поле 3</th>\n",
       "      <th>Техническое поле 2</th>\n",
       "      <th>Техническое поле 1</th>\n",
       "      <th>Услуга</th>\n",
       "      <th>Статус</th>\n",
       "      <th>Время регистрации</th>\n",
       "      <th>Контрольный срок</th>\n",
       "      <th>Краткое описание</th>\n",
       "    </tr>\n",
       "  </thead>\n",
       "  <tbody>\n",
       "    <tr>\n",
       "      <th>256</th>\n",
       "      <td>Премьер</td>\n",
       "      <td>ПАО Сбербанк/Территориальные банки/Поволжский ...</td>\n",
       "      <td>ППО</td>\n",
       "      <td>Очное обучение</td>\n",
       "      <td>Королева (458639)</td>\n",
       "      <td>Обучение БФО</td>\n",
       "      <td>2020-07-31</td>\n",
       "      <td>Дополнительный офис №8621/0709</td>\n",
       "      <td>NaN</td>\n",
       "      <td>Поддержка вертикали блока Управление благосост...</td>\n",
       "      <td>Закрыто</td>\n",
       "      <td>2020-08-02 15:29:24</td>\n",
       "      <td>2020-08-03 13:00:00</td>\n",
       "      <td>Внесение активностей сотрудников массового выс...</td>\n",
       "    </tr>\n",
       "  </tbody>\n",
       "</table>\n",
       "</div>\n",
       "      <button class=\"colab-df-convert\" onclick=\"convertToInteractive('df-7ff5e75b-4e34-4454-8c50-fdefbe29f19e')\"\n",
       "              title=\"Convert this dataframe to an interactive table.\"\n",
       "              style=\"display:none;\">\n",
       "        \n",
       "  <svg xmlns=\"http://www.w3.org/2000/svg\" height=\"24px\"viewBox=\"0 0 24 24\"\n",
       "       width=\"24px\">\n",
       "    <path d=\"M0 0h24v24H0V0z\" fill=\"none\"/>\n",
       "    <path d=\"M18.56 5.44l.94 2.06.94-2.06 2.06-.94-2.06-.94-.94-2.06-.94 2.06-2.06.94zm-11 1L8.5 8.5l.94-2.06 2.06-.94-2.06-.94L8.5 2.5l-.94 2.06-2.06.94zm10 10l.94 2.06.94-2.06 2.06-.94-2.06-.94-.94-2.06-.94 2.06-2.06.94z\"/><path d=\"M17.41 7.96l-1.37-1.37c-.4-.4-.92-.59-1.43-.59-.52 0-1.04.2-1.43.59L10.3 9.45l-7.72 7.72c-.78.78-.78 2.05 0 2.83L4 21.41c.39.39.9.59 1.41.59.51 0 1.02-.2 1.41-.59l7.78-7.78 2.81-2.81c.8-.78.8-2.07 0-2.86zM5.41 20L4 18.59l7.72-7.72 1.47 1.35L5.41 20z\"/>\n",
       "  </svg>\n",
       "      </button>\n",
       "      \n",
       "  <style>\n",
       "    .colab-df-container {\n",
       "      display:flex;\n",
       "      flex-wrap:wrap;\n",
       "      gap: 12px;\n",
       "    }\n",
       "\n",
       "    .colab-df-convert {\n",
       "      background-color: #E8F0FE;\n",
       "      border: none;\n",
       "      border-radius: 50%;\n",
       "      cursor: pointer;\n",
       "      display: none;\n",
       "      fill: #1967D2;\n",
       "      height: 32px;\n",
       "      padding: 0 0 0 0;\n",
       "      width: 32px;\n",
       "    }\n",
       "\n",
       "    .colab-df-convert:hover {\n",
       "      background-color: #E2EBFA;\n",
       "      box-shadow: 0px 1px 2px rgba(60, 64, 67, 0.3), 0px 1px 3px 1px rgba(60, 64, 67, 0.15);\n",
       "      fill: #174EA6;\n",
       "    }\n",
       "\n",
       "    [theme=dark] .colab-df-convert {\n",
       "      background-color: #3B4455;\n",
       "      fill: #D2E3FC;\n",
       "    }\n",
       "\n",
       "    [theme=dark] .colab-df-convert:hover {\n",
       "      background-color: #434B5C;\n",
       "      box-shadow: 0px 1px 3px 1px rgba(0, 0, 0, 0.15);\n",
       "      filter: drop-shadow(0px 1px 2px rgba(0, 0, 0, 0.3));\n",
       "      fill: #FFFFFF;\n",
       "    }\n",
       "  </style>\n",
       "\n",
       "      <script>\n",
       "        const buttonEl =\n",
       "          document.querySelector('#df-7ff5e75b-4e34-4454-8c50-fdefbe29f19e button.colab-df-convert');\n",
       "        buttonEl.style.display =\n",
       "          google.colab.kernel.accessAllowed ? 'block' : 'none';\n",
       "\n",
       "        async function convertToInteractive(key) {\n",
       "          const element = document.querySelector('#df-7ff5e75b-4e34-4454-8c50-fdefbe29f19e');\n",
       "          const dataTable =\n",
       "            await google.colab.kernel.invokeFunction('convertToInteractive',\n",
       "                                                     [key], {});\n",
       "          if (!dataTable) return;\n",
       "\n",
       "          const docLinkHtml = 'Like what you see? Visit the ' +\n",
       "            '<a target=\"_blank\" href=https://colab.research.google.com/notebooks/data_table.ipynb>data table notebook</a>'\n",
       "            + ' to learn more about interactive tables.';\n",
       "          element.innerHTML = '';\n",
       "          dataTable['output_type'] = 'display_data';\n",
       "          await google.colab.output.renderOutput(dataTable, element);\n",
       "          const docLink = document.createElement('div');\n",
       "          docLink.innerHTML = docLinkHtml;\n",
       "          element.appendChild(docLink);\n",
       "        }\n",
       "      </script>\n",
       "    </div>\n",
       "  </div>\n",
       "  "
      ],
      "text/plain": [
       "    Техническое поле 10                                 Техническое поле 8  \\\n",
       "256             Премьер  ПАО Сбербанк/Территориальные банки/Поволжский ...   \n",
       "\n",
       "    Техническое поле 7 Техническое поле 6 Техническое поле 5  \\\n",
       "256                ППО     Очное обучение  Королева (458639)   \n",
       "\n",
       "    Техническое поле 4 Техническое поле 3              Техническое поле 2  \\\n",
       "256       Обучение БФО         2020-07-31  Дополнительный офис №8621/0709   \n",
       "\n",
       "    Техническое поле 1                                             Услуга  \\\n",
       "256                NaN  Поддержка вертикали блока Управление благосост...   \n",
       "\n",
       "      Статус   Время регистрации    Контрольный срок  \\\n",
       "256  Закрыто 2020-08-02 15:29:24 2020-08-03 13:00:00   \n",
       "\n",
       "                                      Краткое описание  \n",
       "256  Внесение активностей сотрудников массового выс...  "
      ]
     },
     "execution_count": 43,
     "metadata": {},
     "output_type": "execute_result"
    }
   ],
   "source": [
    "df_origin.sample()"
   ]
  },
  {
   "cell_type": "code",
   "execution_count": null,
   "metadata": {
    "colab": {
     "base_uri": "https://localhost:8080/"
    },
    "executionInfo": {
     "elapsed": 11,
     "status": "ok",
     "timestamp": 1652087264230,
     "user": {
      "displayName": "Aleksey Efremov",
      "userId": "00286921861262744042"
     },
     "user_tz": -180
    },
    "id": "sF99j0Bi_FYf",
    "outputId": "a638b214-5303-4e38-ef4e-a2bb8a0eeba2"
   },
   "outputs": [
    {
     "name": "stdout",
     "output_type": "stream",
     "text": [
      "<class 'pandas.core.frame.DataFrame'>\n",
      "RangeIndex: 511 entries, 0 to 510\n",
      "Data columns (total 14 columns):\n",
      " #   Column               Non-Null Count  Dtype         \n",
      "---  ------               --------------  -----         \n",
      " 0   Техническое поле 10  511 non-null    object        \n",
      " 1   Техническое поле 8   511 non-null    object        \n",
      " 2   Техническое поле 7   511 non-null    object        \n",
      " 3   Техническое поле 6   511 non-null    object        \n",
      " 4   Техническое поле 5   511 non-null    object        \n",
      " 5   Техническое поле 4   511 non-null    object        \n",
      " 6   Техническое поле 3   511 non-null    datetime64[ns]\n",
      " 7   Техническое поле 2   329 non-null    object        \n",
      " 8   Техническое поле 1   82 non-null     object        \n",
      " 9   Услуга               511 non-null    object        \n",
      " 10  Статус               511 non-null    object        \n",
      " 11  Время регистрации    511 non-null    datetime64[ns]\n",
      " 12  Контрольный срок     511 non-null    datetime64[ns]\n",
      " 13  Краткое описание     511 non-null    object        \n",
      "dtypes: datetime64[ns](3), object(11)\n",
      "memory usage: 56.0+ KB\n"
     ]
    }
   ],
   "source": [
    "df_origin.info()"
   ]
  },
  {
   "cell_type": "code",
   "execution_count": null,
   "metadata": {
    "id": "BAKNEJ0xv_Ed"
   },
   "outputs": [],
   "source": [
    "df_example = pd.read_excel('/content/drive/MyDrive/Colab Notebooks/sber_mos_bank/Результат обработки.xlsx')"
   ]
  },
  {
   "cell_type": "code",
   "execution_count": null,
   "metadata": {
    "colab": {
     "base_uri": "https://localhost:8080/",
     "height": 232
    },
    "executionInfo": {
     "elapsed": 9,
     "status": "ok",
     "timestamp": 1652087264231,
     "user": {
      "displayName": "Aleksey Efremov",
      "userId": "00286921861262744042"
     },
     "user_tz": -180
    },
    "id": "i-mvu7Ek_CQY",
    "outputId": "4bea573f-bbe6-4a45-8685-591f5446e9b2"
   },
   "outputs": [
    {
     "data": {
      "text/html": [
       "\n",
       "  <div id=\"df-90bc7a42-adcb-41a4-8b91-089db58ed0c3\">\n",
       "    <div class=\"colab-df-container\">\n",
       "      <div>\n",
       "<style scoped>\n",
       "    .dataframe tbody tr th:only-of-type {\n",
       "        vertical-align: middle;\n",
       "    }\n",
       "\n",
       "    .dataframe tbody tr th {\n",
       "        vertical-align: top;\n",
       "    }\n",
       "\n",
       "    .dataframe thead th {\n",
       "        text-align: right;\n",
       "    }\n",
       "</style>\n",
       "<table border=\"1\" class=\"dataframe\">\n",
       "  <thead>\n",
       "    <tr style=\"text-align: right;\">\n",
       "      <th></th>\n",
       "      <th>Продукт/Услуга</th>\n",
       "      <th>Цель/Причина визита</th>\n",
       "      <th>Дата</th>\n",
       "      <th>ФИО коуча</th>\n",
       "      <th>Направление</th>\n",
       "      <th>Категория</th>\n",
       "      <th>Сегмент</th>\n",
       "      <th>ВСП</th>\n",
       "      <th>ТБ</th>\n",
       "      <th>Проведенные активности</th>\n",
       "      <th>Дата загрузки</th>\n",
       "    </tr>\n",
       "  </thead>\n",
       "  <tbody>\n",
       "    <tr>\n",
       "      <th>87</th>\n",
       "      <td>Теория: макроэкономика/инвестиции/страхование</td>\n",
       "      <td>Обучение сотрудников УППБ</td>\n",
       "      <td>2020-08-20</td>\n",
       "      <td>Свинюхин</td>\n",
       "      <td>Премиальное направление</td>\n",
       "      <td>Проведённая активность</td>\n",
       "      <td>СБП</td>\n",
       "      <td>МБ/0013</td>\n",
       "      <td>Московский банк</td>\n",
       "      <td>Дистанционное обучение ВКС</td>\n",
       "      <td>2020-09-01 18:30:54.629</td>\n",
       "    </tr>\n",
       "  </tbody>\n",
       "</table>\n",
       "</div>\n",
       "      <button class=\"colab-df-convert\" onclick=\"convertToInteractive('df-90bc7a42-adcb-41a4-8b91-089db58ed0c3')\"\n",
       "              title=\"Convert this dataframe to an interactive table.\"\n",
       "              style=\"display:none;\">\n",
       "        \n",
       "  <svg xmlns=\"http://www.w3.org/2000/svg\" height=\"24px\"viewBox=\"0 0 24 24\"\n",
       "       width=\"24px\">\n",
       "    <path d=\"M0 0h24v24H0V0z\" fill=\"none\"/>\n",
       "    <path d=\"M18.56 5.44l.94 2.06.94-2.06 2.06-.94-2.06-.94-.94-2.06-.94 2.06-2.06.94zm-11 1L8.5 8.5l.94-2.06 2.06-.94-2.06-.94L8.5 2.5l-.94 2.06-2.06.94zm10 10l.94 2.06.94-2.06 2.06-.94-2.06-.94-.94-2.06-.94 2.06-2.06.94z\"/><path d=\"M17.41 7.96l-1.37-1.37c-.4-.4-.92-.59-1.43-.59-.52 0-1.04.2-1.43.59L10.3 9.45l-7.72 7.72c-.78.78-.78 2.05 0 2.83L4 21.41c.39.39.9.59 1.41.59.51 0 1.02-.2 1.41-.59l7.78-7.78 2.81-2.81c.8-.78.8-2.07 0-2.86zM5.41 20L4 18.59l7.72-7.72 1.47 1.35L5.41 20z\"/>\n",
       "  </svg>\n",
       "      </button>\n",
       "      \n",
       "  <style>\n",
       "    .colab-df-container {\n",
       "      display:flex;\n",
       "      flex-wrap:wrap;\n",
       "      gap: 12px;\n",
       "    }\n",
       "\n",
       "    .colab-df-convert {\n",
       "      background-color: #E8F0FE;\n",
       "      border: none;\n",
       "      border-radius: 50%;\n",
       "      cursor: pointer;\n",
       "      display: none;\n",
       "      fill: #1967D2;\n",
       "      height: 32px;\n",
       "      padding: 0 0 0 0;\n",
       "      width: 32px;\n",
       "    }\n",
       "\n",
       "    .colab-df-convert:hover {\n",
       "      background-color: #E2EBFA;\n",
       "      box-shadow: 0px 1px 2px rgba(60, 64, 67, 0.3), 0px 1px 3px 1px rgba(60, 64, 67, 0.15);\n",
       "      fill: #174EA6;\n",
       "    }\n",
       "\n",
       "    [theme=dark] .colab-df-convert {\n",
       "      background-color: #3B4455;\n",
       "      fill: #D2E3FC;\n",
       "    }\n",
       "\n",
       "    [theme=dark] .colab-df-convert:hover {\n",
       "      background-color: #434B5C;\n",
       "      box-shadow: 0px 1px 3px 1px rgba(0, 0, 0, 0.15);\n",
       "      filter: drop-shadow(0px 1px 2px rgba(0, 0, 0, 0.3));\n",
       "      fill: #FFFFFF;\n",
       "    }\n",
       "  </style>\n",
       "\n",
       "      <script>\n",
       "        const buttonEl =\n",
       "          document.querySelector('#df-90bc7a42-adcb-41a4-8b91-089db58ed0c3 button.colab-df-convert');\n",
       "        buttonEl.style.display =\n",
       "          google.colab.kernel.accessAllowed ? 'block' : 'none';\n",
       "\n",
       "        async function convertToInteractive(key) {\n",
       "          const element = document.querySelector('#df-90bc7a42-adcb-41a4-8b91-089db58ed0c3');\n",
       "          const dataTable =\n",
       "            await google.colab.kernel.invokeFunction('convertToInteractive',\n",
       "                                                     [key], {});\n",
       "          if (!dataTable) return;\n",
       "\n",
       "          const docLinkHtml = 'Like what you see? Visit the ' +\n",
       "            '<a target=\"_blank\" href=https://colab.research.google.com/notebooks/data_table.ipynb>data table notebook</a>'\n",
       "            + ' to learn more about interactive tables.';\n",
       "          element.innerHTML = '';\n",
       "          dataTable['output_type'] = 'display_data';\n",
       "          await google.colab.output.renderOutput(dataTable, element);\n",
       "          const docLink = document.createElement('div');\n",
       "          docLink.innerHTML = docLinkHtml;\n",
       "          element.appendChild(docLink);\n",
       "        }\n",
       "      </script>\n",
       "    </div>\n",
       "  </div>\n",
       "  "
      ],
      "text/plain": [
       "                                   Продукт/Услуга        Цель/Причина визита  \\\n",
       "87  Теория: макроэкономика/инвестиции/страхование  Обучение сотрудников УППБ   \n",
       "\n",
       "         Дата  ФИО коуча              Направление               Категория  \\\n",
       "87 2020-08-20  Свинюхин   Премиальное направление  Проведённая активность   \n",
       "\n",
       "   Сегмент      ВСП               ТБ      Проведенные активности  \\\n",
       "87     СБП  МБ/0013  Московский банк  Дистанционное обучение ВКС   \n",
       "\n",
       "             Дата загрузки  \n",
       "87 2020-09-01 18:30:54.629  "
      ]
     },
     "execution_count": 46,
     "metadata": {},
     "output_type": "execute_result"
    }
   ],
   "source": [
    "df_example.sample()"
   ]
  },
  {
   "cell_type": "code",
   "execution_count": null,
   "metadata": {
    "colab": {
     "base_uri": "https://localhost:8080/"
    },
    "executionInfo": {
     "elapsed": 5,
     "status": "ok",
     "timestamp": 1652087264796,
     "user": {
      "displayName": "Aleksey Efremov",
      "userId": "00286921861262744042"
     },
     "user_tz": -180
    },
    "id": "IFW0Og51_JeH",
    "outputId": "7a9007a9-7341-4ffe-9072-25fe61c0eacb"
   },
   "outputs": [
    {
     "name": "stdout",
     "output_type": "stream",
     "text": [
      "<class 'pandas.core.frame.DataFrame'>\n",
      "RangeIndex: 176 entries, 0 to 175\n",
      "Data columns (total 11 columns):\n",
      " #   Column                  Non-Null Count  Dtype         \n",
      "---  ------                  --------------  -----         \n",
      " 0   Продукт/Услуга          176 non-null    object        \n",
      " 1   Цель/Причина визита     176 non-null    object        \n",
      " 2   Дата                    176 non-null    datetime64[ns]\n",
      " 3   ФИО коуча               176 non-null    object        \n",
      " 4   Направление             176 non-null    object        \n",
      " 5   Категория               176 non-null    object        \n",
      " 6   Сегмент                 176 non-null    object        \n",
      " 7   ВСП                     176 non-null    object        \n",
      " 8   ТБ                      176 non-null    object        \n",
      " 9   Проведенные активности  176 non-null    object        \n",
      " 10  Дата загрузки           176 non-null    datetime64[ns]\n",
      "dtypes: datetime64[ns](2), object(9)\n",
      "memory usage: 15.2+ KB\n"
     ]
    }
   ],
   "source": [
    "df_example.info()"
   ]
  },
  {
   "cell_type": "code",
   "execution_count": null,
   "metadata": {
    "id": "moB-2gMuwbeI"
   },
   "outputs": [],
   "source": [
    "df_clients = pd.read_excel('/content/drive/MyDrive/Colab Notebooks/sber_mos_bank/ШЕ.xlsx')"
   ]
  },
  {
   "cell_type": "code",
   "execution_count": null,
   "metadata": {
    "colab": {
     "base_uri": "https://localhost:8080/",
     "height": 426
    },
    "executionInfo": {
     "elapsed": 6,
     "status": "ok",
     "timestamp": 1652087265378,
     "user": {
      "displayName": "Aleksey Efremov",
      "userId": "00286921861262744042"
     },
     "user_tz": -180
    },
    "id": "iVmSLB5c_CsZ",
    "outputId": "ebbc9276-2007-4149-b5d3-929d4163c486"
   },
   "outputs": [
    {
     "data": {
      "text/html": [
       "\n",
       "  <div id=\"df-87042a30-7ace-492c-b2cf-81f17e84c187\">\n",
       "    <div class=\"colab-df-container\">\n",
       "      <div>\n",
       "<style scoped>\n",
       "    .dataframe tbody tr th:only-of-type {\n",
       "        vertical-align: middle;\n",
       "    }\n",
       "\n",
       "    .dataframe tbody tr th {\n",
       "        vertical-align: top;\n",
       "    }\n",
       "\n",
       "    .dataframe thead th {\n",
       "        text-align: right;\n",
       "    }\n",
       "</style>\n",
       "<table border=\"1\" class=\"dataframe\">\n",
       "  <thead>\n",
       "    <tr style=\"text-align: right;\">\n",
       "      <th></th>\n",
       "      <th>Таб. Номер</th>\n",
       "      <th>Фамилия</th>\n",
       "      <th>Сегмент</th>\n",
       "      <th>ТБ</th>\n",
       "    </tr>\n",
       "  </thead>\n",
       "  <tbody>\n",
       "    <tr>\n",
       "      <th>0</th>\n",
       "      <td>1386494</td>\n",
       "      <td>Иванов</td>\n",
       "      <td>КБ</td>\n",
       "      <td>Московский банк</td>\n",
       "    </tr>\n",
       "    <tr>\n",
       "      <th>1</th>\n",
       "      <td>1348033</td>\n",
       "      <td>Феротова</td>\n",
       "      <td>ВСП</td>\n",
       "      <td>Московский банк</td>\n",
       "    </tr>\n",
       "    <tr>\n",
       "      <th>2</th>\n",
       "      <td>31031</td>\n",
       "      <td>Скулакова</td>\n",
       "      <td>ВСП</td>\n",
       "      <td>Московский банк</td>\n",
       "    </tr>\n",
       "    <tr>\n",
       "      <th>3</th>\n",
       "      <td>1305104</td>\n",
       "      <td>Тяжелов</td>\n",
       "      <td>ВСП</td>\n",
       "      <td>Московский банк</td>\n",
       "    </tr>\n",
       "    <tr>\n",
       "      <th>4</th>\n",
       "      <td>1156848</td>\n",
       "      <td>Свинюхин</td>\n",
       "      <td>СБП</td>\n",
       "      <td>Московский банк</td>\n",
       "    </tr>\n",
       "    <tr>\n",
       "      <th>5</th>\n",
       "      <td>1385856</td>\n",
       "      <td>Галяутдинов</td>\n",
       "      <td>СБП</td>\n",
       "      <td>Московский банк</td>\n",
       "    </tr>\n",
       "    <tr>\n",
       "      <th>6</th>\n",
       "      <td>40313</td>\n",
       "      <td>Крикушин</td>\n",
       "      <td>СБП</td>\n",
       "      <td>Московский банк</td>\n",
       "    </tr>\n",
       "    <tr>\n",
       "      <th>7</th>\n",
       "      <td>1808036</td>\n",
       "      <td>Цквитария</td>\n",
       "      <td>СБ1</td>\n",
       "      <td>Московский банк</td>\n",
       "    </tr>\n",
       "    <tr>\n",
       "      <th>8</th>\n",
       "      <td>1386336</td>\n",
       "      <td>Амиянц</td>\n",
       "      <td>СБП</td>\n",
       "      <td>Московский банк</td>\n",
       "    </tr>\n",
       "    <tr>\n",
       "      <th>9</th>\n",
       "      <td>1354986</td>\n",
       "      <td>Таранец</td>\n",
       "      <td>КБ</td>\n",
       "      <td>Московский банк</td>\n",
       "    </tr>\n",
       "    <tr>\n",
       "      <th>10</th>\n",
       "      <td>1355863</td>\n",
       "      <td>Мартусенко</td>\n",
       "      <td>ВСП</td>\n",
       "      <td>Московский банк</td>\n",
       "    </tr>\n",
       "    <tr>\n",
       "      <th>11</th>\n",
       "      <td>1630300</td>\n",
       "      <td>Чеботарев</td>\n",
       "      <td>СБ1</td>\n",
       "      <td>Московский банк</td>\n",
       "    </tr>\n",
       "  </tbody>\n",
       "</table>\n",
       "</div>\n",
       "      <button class=\"colab-df-convert\" onclick=\"convertToInteractive('df-87042a30-7ace-492c-b2cf-81f17e84c187')\"\n",
       "              title=\"Convert this dataframe to an interactive table.\"\n",
       "              style=\"display:none;\">\n",
       "        \n",
       "  <svg xmlns=\"http://www.w3.org/2000/svg\" height=\"24px\"viewBox=\"0 0 24 24\"\n",
       "       width=\"24px\">\n",
       "    <path d=\"M0 0h24v24H0V0z\" fill=\"none\"/>\n",
       "    <path d=\"M18.56 5.44l.94 2.06.94-2.06 2.06-.94-2.06-.94-.94-2.06-.94 2.06-2.06.94zm-11 1L8.5 8.5l.94-2.06 2.06-.94-2.06-.94L8.5 2.5l-.94 2.06-2.06.94zm10 10l.94 2.06.94-2.06 2.06-.94-2.06-.94-.94-2.06-.94 2.06-2.06.94z\"/><path d=\"M17.41 7.96l-1.37-1.37c-.4-.4-.92-.59-1.43-.59-.52 0-1.04.2-1.43.59L10.3 9.45l-7.72 7.72c-.78.78-.78 2.05 0 2.83L4 21.41c.39.39.9.59 1.41.59.51 0 1.02-.2 1.41-.59l7.78-7.78 2.81-2.81c.8-.78.8-2.07 0-2.86zM5.41 20L4 18.59l7.72-7.72 1.47 1.35L5.41 20z\"/>\n",
       "  </svg>\n",
       "      </button>\n",
       "      \n",
       "  <style>\n",
       "    .colab-df-container {\n",
       "      display:flex;\n",
       "      flex-wrap:wrap;\n",
       "      gap: 12px;\n",
       "    }\n",
       "\n",
       "    .colab-df-convert {\n",
       "      background-color: #E8F0FE;\n",
       "      border: none;\n",
       "      border-radius: 50%;\n",
       "      cursor: pointer;\n",
       "      display: none;\n",
       "      fill: #1967D2;\n",
       "      height: 32px;\n",
       "      padding: 0 0 0 0;\n",
       "      width: 32px;\n",
       "    }\n",
       "\n",
       "    .colab-df-convert:hover {\n",
       "      background-color: #E2EBFA;\n",
       "      box-shadow: 0px 1px 2px rgba(60, 64, 67, 0.3), 0px 1px 3px 1px rgba(60, 64, 67, 0.15);\n",
       "      fill: #174EA6;\n",
       "    }\n",
       "\n",
       "    [theme=dark] .colab-df-convert {\n",
       "      background-color: #3B4455;\n",
       "      fill: #D2E3FC;\n",
       "    }\n",
       "\n",
       "    [theme=dark] .colab-df-convert:hover {\n",
       "      background-color: #434B5C;\n",
       "      box-shadow: 0px 1px 3px 1px rgba(0, 0, 0, 0.15);\n",
       "      filter: drop-shadow(0px 1px 2px rgba(0, 0, 0, 0.3));\n",
       "      fill: #FFFFFF;\n",
       "    }\n",
       "  </style>\n",
       "\n",
       "      <script>\n",
       "        const buttonEl =\n",
       "          document.querySelector('#df-87042a30-7ace-492c-b2cf-81f17e84c187 button.colab-df-convert');\n",
       "        buttonEl.style.display =\n",
       "          google.colab.kernel.accessAllowed ? 'block' : 'none';\n",
       "\n",
       "        async function convertToInteractive(key) {\n",
       "          const element = document.querySelector('#df-87042a30-7ace-492c-b2cf-81f17e84c187');\n",
       "          const dataTable =\n",
       "            await google.colab.kernel.invokeFunction('convertToInteractive',\n",
       "                                                     [key], {});\n",
       "          if (!dataTable) return;\n",
       "\n",
       "          const docLinkHtml = 'Like what you see? Visit the ' +\n",
       "            '<a target=\"_blank\" href=https://colab.research.google.com/notebooks/data_table.ipynb>data table notebook</a>'\n",
       "            + ' to learn more about interactive tables.';\n",
       "          element.innerHTML = '';\n",
       "          dataTable['output_type'] = 'display_data';\n",
       "          await google.colab.output.renderOutput(dataTable, element);\n",
       "          const docLink = document.createElement('div');\n",
       "          docLink.innerHTML = docLinkHtml;\n",
       "          element.appendChild(docLink);\n",
       "        }\n",
       "      </script>\n",
       "    </div>\n",
       "  </div>\n",
       "  "
      ],
      "text/plain": [
       "    Таб. Номер      Фамилия Сегмент               ТБ\n",
       "0      1386494       Иванов      КБ  Московский банк\n",
       "1      1348033     Феротова     ВСП  Московский банк\n",
       "2        31031    Скулакова     ВСП  Московский банк\n",
       "3      1305104      Тяжелов     ВСП  Московский банк\n",
       "4      1156848     Свинюхин     СБП  Московский банк\n",
       "5      1385856  Галяутдинов     СБП  Московский банк\n",
       "6        40313     Крикушин     СБП  Московский банк\n",
       "7      1808036    Цквитария     СБ1  Московский банк\n",
       "8      1386336       Амиянц     СБП  Московский банк\n",
       "9      1354986      Таранец      КБ  Московский банк\n",
       "10     1355863   Мартусенко     ВСП  Московский банк\n",
       "11     1630300    Чеботарев     СБ1  Московский банк"
      ]
     },
     "execution_count": 49,
     "metadata": {},
     "output_type": "execute_result"
    }
   ],
   "source": [
    "df_clients"
   ]
  },
  {
   "cell_type": "markdown",
   "metadata": {
    "id": "p4ofp00nwbWr"
   },
   "source": [
    "## Проработка по условию задачи"
   ]
  },
  {
   "cell_type": "markdown",
   "metadata": {
    "id": "hQ85l9VMEilg"
   },
   "source": [
    "### Переименование столбцов"
   ]
  },
  {
   "cell_type": "code",
   "execution_count": null,
   "metadata": {
    "id": "K-LsTvYt0MN0"
   },
   "outputs": [],
   "source": [
    "df_origin.columns = ['Техническое поле 10', 'ВСП', 'Продукт/Услуга',\n",
    "       'Проведенные активности', 'ФИО коуча', 'Цель/Причина визита',\n",
    "       'Дата', 'Техническое поле 2', 'Техническое поле 1',\n",
    "       'Услуга', 'Статус', 'Время регистрации', 'Контрольный срок',\n",
    "       'Краткое описание']"
   ]
  },
  {
   "cell_type": "markdown",
   "metadata": {
    "id": "rzpdyH_S5Rtd"
   },
   "source": [
    "### Удаление символов в ФИО коуча"
   ]
  },
  {
   "cell_type": "code",
   "execution_count": null,
   "metadata": {
    "id": "2XD7oHx85cq2"
   },
   "outputs": [],
   "source": [
    "def only_name(row):\n",
    "  text = re.sub(r'[^а-яА-ЯёЁ ]', ' ', row)\n",
    "  text = text.split()\n",
    "  text = \" \".join(text)\n",
    "  return text\n",
    "\n",
    "df_origin['ФИО коуча'] = df_origin['ФИО коуча'].apply(only_name)"
   ]
  },
  {
   "cell_type": "markdown",
   "metadata": {
    "id": "Z5knLmpm_-q3"
   },
   "source": [
    "### Только проведенные активности"
   ]
  },
  {
   "cell_type": "markdown",
   "metadata": {
    "id": "ZixEiDmG1_hC"
   },
   "source": [
    "Согласно условию № 5: Скрипт должен оставить только проведённые активности – это те активности, где «Техническое поле 3» меньше «Время регистрации»"
   ]
  },
  {
   "cell_type": "code",
   "execution_count": null,
   "metadata": {
    "id": "N6feTpSU0MMK"
   },
   "outputs": [],
   "source": [
    "df_origin = df_origin[df_origin['Дата'] < df_origin['Время регистрации']]"
   ]
  },
  {
   "cell_type": "code",
   "execution_count": null,
   "metadata": {
    "id": "wHC_S4jw9EQ4"
   },
   "outputs": [],
   "source": [
    "df_origin['Категория'] = 'Проведённая активность'"
   ]
  },
  {
   "cell_type": "markdown",
   "metadata": {
    "id": "Rqq1tFLyAIju"
   },
   "source": [
    "### Определим МБ (приписка \"9038_\")"
   ]
  },
  {
   "cell_type": "markdown",
   "metadata": {
    "id": "TVtDFcnF3LjE"
   },
   "source": [
    "Согласно условию № 6:\tСкрипт должен фильтровать только ВСП с припиской «9038_»"
   ]
  },
  {
   "cell_type": "code",
   "execution_count": null,
   "metadata": {
    "id": "JcT8qkje6IKO"
   },
   "outputs": [],
   "source": [
    "df_origin = df_origin[df_origin['ВСП'].str.contains('9038_').fillna(False)]"
   ]
  },
  {
   "cell_type": "code",
   "execution_count": null,
   "metadata": {
    "id": "UeOCkHtjBg6I"
   },
   "outputs": [],
   "source": [
    "def change_id_bank(row):\n",
    "  return row.replace('9038_', 'МБ/')\n",
    "\n",
    "df_origin['ВСП'] = df_origin['ВСП'].apply(change_id_bank)"
   ]
  },
  {
   "cell_type": "markdown",
   "metadata": {
    "id": "W799T-uoARJ_"
   },
   "source": [
    "### Фильтр по Московскому банку"
   ]
  },
  {
   "cell_type": "markdown",
   "metadata": {
    "id": "eWoQQAF17kWV"
   },
   "source": [
    "Согласно условию № 2:\tСкрипт должен фильтровать по Московскому банку (сотрудники Московского банка указаны в файле «ШЕ.xlsx»   \n",
    "Согласно условию № 3:\tСкрипт определяет сегмент исходя из файла «ШЕ.xlsx»;"
   ]
  },
  {
   "cell_type": "code",
   "execution_count": null,
   "metadata": {
    "id": "NZGJv2Gw3KA3"
   },
   "outputs": [],
   "source": [
    "df_origin = df_origin.merge(df_clients, left_on='ФИО коуча', right_on='Фамилия')"
   ]
  },
  {
   "cell_type": "markdown",
   "metadata": {
    "id": "0WEncWQEAd1P"
   },
   "source": [
    "### Определение направления"
   ]
  },
  {
   "cell_type": "markdown",
   "metadata": {
    "id": "vKOevBRC6sop"
   },
   "source": [
    "Согласно условию № 4:\tИсходя из сегмента определяется Направление, где:  \n",
    "СБП и СБ1 = Премиальное направление  \n",
    "ВСП = Массовое направление  \n",
    "КБ = Корпоративное направление"
   ]
  },
  {
   "cell_type": "code",
   "execution_count": null,
   "metadata": {
    "id": "pafqYfYV6sm0"
   },
   "outputs": [],
   "source": [
    "def bank_direction(row):\n",
    "  if row == 'ВСП':\n",
    "    return 'Массовое направление'\n",
    "  elif row == 'КБ':\n",
    "    return 'Корпоративное направление'\n",
    "  else:\n",
    "    return 'Премиальное направление'"
   ]
  },
  {
   "cell_type": "code",
   "execution_count": null,
   "metadata": {
    "id": "7PmovjtH6sk5"
   },
   "outputs": [],
   "source": [
    "df_origin['Направление'] = df_origin['Сегмент'].apply(bank_direction)"
   ]
  },
  {
   "cell_type": "markdown",
   "metadata": {
    "id": "x2mj1aPSAkqP"
   },
   "source": [
    "### Столбец Дата загрузки"
   ]
  },
  {
   "cell_type": "markdown",
   "metadata": {
    "id": "nLtXeTce6sjX"
   },
   "source": [
    "Согласно условию № 7: Поле «Дата загрузки» проставляет автоматически текущую дату и время"
   ]
  },
  {
   "cell_type": "code",
   "execution_count": null,
   "metadata": {
    "id": "u4NYIVHD9FQQ"
   },
   "outputs": [],
   "source": [
    "current_datetime = datetime.now().replace(microsecond=0)"
   ]
  },
  {
   "cell_type": "code",
   "execution_count": null,
   "metadata": {
    "id": "iXV84rst9FJ2"
   },
   "outputs": [],
   "source": [
    "df_origin['Дата загрузки'] = current_datetime"
   ]
  },
  {
   "cell_type": "markdown",
   "metadata": {
    "id": "lpXGAmlXAr-8"
   },
   "source": [
    "## Выгрузка готового (переработанного) массива"
   ]
  },
  {
   "cell_type": "markdown",
   "metadata": {
    "id": "dpv68OE59FF5"
   },
   "source": [
    "Переопределим следование столбцов:"
   ]
  },
  {
   "cell_type": "code",
   "execution_count": null,
   "metadata": {
    "id": "JExeYsS2_fFR"
   },
   "outputs": [],
   "source": [
    "df_origin = df_origin[['Продукт/Услуга', 'Цель/Причина визита', 'Дата', 'ФИО коуча',\n",
    " 'Направление', 'Категория', 'Сегмент', 'ВСП', 'ТБ', 'Проведенные активности', 'Дата загрузки']]"
   ]
  },
  {
   "cell_type": "markdown",
   "metadata": {
    "id": "Ng6du-lXGFu_"
   },
   "source": [
    "Поскольку задание \"Результат должен быть точно таким же, как в файле «Результат обработки.xlsx»\", нужно получить отчет за август 2020. Значит удалим даты младше 01  августа 2020 года."
   ]
  },
  {
   "cell_type": "code",
   "execution_count": null,
   "metadata": {
    "id": "de5zSN9gGFjH"
   },
   "outputs": [],
   "source": [
    "df_origin = df_origin[df_origin['Дата'] > \"2020-08-01 00:00:00\"]"
   ]
  },
  {
   "cell_type": "markdown",
   "metadata": {
    "id": "UG1dOCJwEqdZ"
   },
   "source": [
    "Проведем сортировку (до конца так и не понял, как выполнена сортировка в примере):"
   ]
  },
  {
   "cell_type": "code",
   "execution_count": null,
   "metadata": {
    "id": "hEjrv86HEthn"
   },
   "outputs": [],
   "source": [
    "df_origin = df_origin.sort_values(by=['Дата', 'Направление',])"
   ]
  },
  {
   "cell_type": "markdown",
   "metadata": {
    "id": "nrgghTzeA134"
   },
   "source": [
    "### Выгрузка файла"
   ]
  },
  {
   "cell_type": "code",
   "execution_count": null,
   "metadata": {
    "id": "XOoPnDS2_fCV"
   },
   "outputs": [],
   "source": [
    "df_origin.to_excel(\"Результат обработки.xlsx\", index=False,\n",
    "             sheet_name='Лист 1')"
   ]
  },
  {
   "cell_type": "code",
   "execution_count": null,
   "metadata": {
    "id": "Qh2ZbnkaCDJD"
   },
   "outputs": [],
   "source": [
    "# df_origin.head()"
   ]
  }
 ],
 "metadata": {
  "colab": {
   "authorship_tag": "ABX9TyOGkY/5BFniY6GlXz9OJfqa",
   "collapsed_sections": [],
   "mount_file_id": "1ZE-BYshK4apSmdS472hIqNG9nBABd48a",
   "name": "task_sber_mosbank.ipynb",
   "provenance": [],
   "toc_visible": true
  },
  "kernelspec": {
   "display_name": "Python 3 (ipykernel)",
   "language": "python",
   "name": "python3"
  },
  "language_info": {
   "codemirror_mode": {
    "name": "ipython",
    "version": 3
   },
   "file_extension": ".py",
   "mimetype": "text/x-python",
   "name": "python",
   "nbconvert_exporter": "python",
   "pygments_lexer": "ipython3",
   "version": "3.9.7"
  },
  "toc": {
   "base_numbering": 1,
   "nav_menu": {},
   "number_sections": true,
   "sideBar": true,
   "skip_h1_title": false,
   "title_cell": "Table of Contents",
   "title_sidebar": "Contents",
   "toc_cell": false,
   "toc_position": {},
   "toc_section_display": true,
   "toc_window_display": false
  }
 },
 "nbformat": 4,
 "nbformat_minor": 1
}
