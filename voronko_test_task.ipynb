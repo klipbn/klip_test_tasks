{
  "nbformat": 4,
  "nbformat_minor": 0,
  "metadata": {
    "colab": {
      "name": "voronko_aemcx_test_task.ipynb",
      "provenance": [],
      "collapsed_sections": [],
      "toc_visible": true,
      "mount_file_id": "1LbORUP4hI8QR2QQwIrc5lRLgJ0i9JrF7",
      "authorship_tag": "ABX9TyNIQZtRQfm7/61YGnKFFjpf"
    },
    "kernelspec": {
      "name": "python3",
      "display_name": "Python 3"
    },
    "language_info": {
      "name": "python"
    }
  },
  "cells": [
    {
      "cell_type": "markdown",
      "source": [
        "# Тестовое задание"
      ],
      "metadata": {
        "id": "FL0yzHWi4qj9"
      }
    },
    {
      "cell_type": "markdown",
      "source": [
        "Импорт библиотек для работы:"
      ],
      "metadata": {
        "id": "7QuOINiJ4wAf"
      }
    },
    {
      "cell_type": "code",
      "execution_count": null,
      "metadata": {
        "id": "ijYn6mHgYk_h"
      },
      "outputs": [],
      "source": [
        "import pandas as pd\n",
        "import seaborn as sns\n",
        "from matplotlib import pyplot as plt\n",
        "import numpy as np"
      ]
    },
    {
      "cell_type": "markdown",
      "source": [
        "## Изучение данных и их предобработка"
      ],
      "metadata": {
        "id": "BY-hNYfXfu94"
      }
    },
    {
      "cell_type": "markdown",
      "source": [
        "Читаем данные:"
      ],
      "metadata": {
        "id": "jce73-CNfi_c"
      }
    },
    {
      "cell_type": "code",
      "source": [
        "df = pd.read_csv('/content/drive/MyDrive/aemcx_test_task/Тестовое задание.csv', sep=r';', quotechar='\"')"
      ],
      "metadata": {
        "id": "reGu8FVyY8nV"
      },
      "execution_count": null,
      "outputs": []
    },
    {
      "cell_type": "markdown",
      "source": [
        "Выведем 5 строк:"
      ],
      "metadata": {
        "id": "eNto36on41mW"
      }
    },
    {
      "cell_type": "code",
      "source": [
        "df.head()"
      ],
      "metadata": {
        "colab": {
          "base_uri": "https://localhost:8080/",
          "height": 600
        },
        "id": "WWXuTJzaY_YM",
        "outputId": "941c610e-0670-46af-cce0-932379fa4f6d"
      },
      "execution_count": null,
      "outputs": [
        {
          "output_type": "execute_result",
          "data": {
            "text/html": [
              "\n",
              "  <div id=\"df-d92c0385-64a0-449a-9582-aa9bd07249c0\">\n",
              "    <div class=\"colab-df-container\">\n",
              "      <div>\n",
              "<style scoped>\n",
              "    .dataframe tbody tr th:only-of-type {\n",
              "        vertical-align: middle;\n",
              "    }\n",
              "\n",
              "    .dataframe tbody tr th {\n",
              "        vertical-align: top;\n",
              "    }\n",
              "\n",
              "    .dataframe thead th {\n",
              "        text-align: right;\n",
              "    }\n",
              "</style>\n",
              "<table border=\"1\" class=\"dataframe\">\n",
              "  <thead>\n",
              "    <tr style=\"text-align: right;\">\n",
              "      <th></th>\n",
              "      <th>classification</th>\n",
              "      <th>year</th>\n",
              "      <th>period</th>\n",
              "      <th>period_desc</th>\n",
              "      <th>aggregate_level</th>\n",
              "      <th>is_leaf_code</th>\n",
              "      <th>trade_flow_code</th>\n",
              "      <th>trade_flow</th>\n",
              "      <th>reporter_code</th>\n",
              "      <th>reporter</th>\n",
              "      <th>reporter_iso</th>\n",
              "      <th>partner_code</th>\n",
              "      <th>partner</th>\n",
              "      <th>commodity_code</th>\n",
              "      <th>commodity</th>\n",
              "      <th>qty_unit_code</th>\n",
              "      <th>qty_unit</th>\n",
              "      <th>qty</th>\n",
              "      <th>alt_qty_unit_code</th>\n",
              "      <th>alt_qty_unit</th>\n",
              "      <th>alt_qty</th>\n",
              "      <th>netweight</th>\n",
              "      <th>gross_weight</th>\n",
              "      <th>trade_value</th>\n",
              "      <th>cif_trade_value</th>\n",
              "      <th>fob_trade_value</th>\n",
              "      <th>flag</th>\n",
              "    </tr>\n",
              "  </thead>\n",
              "  <tbody>\n",
              "    <tr>\n",
              "      <th>0</th>\n",
              "      <td>HS</td>\n",
              "      <td>2019</td>\n",
              "      <td>01.01.2019</td>\n",
              "      <td>January 2019</td>\n",
              "      <td>6</td>\n",
              "      <td>1</td>\n",
              "      <td>1</td>\n",
              "      <td>Import</td>\n",
              "      <td>24</td>\n",
              "      <td>Angola</td>\n",
              "      <td>NaN</td>\n",
              "      <td>0</td>\n",
              "      <td>World</td>\n",
              "      <td>220890</td>\n",
              "      <td>Spirits, liqueurs and other spirituous beverag...</td>\n",
              "      <td>0</td>\n",
              "      <td>No Quantity</td>\n",
              "      <td>NaN</td>\n",
              "      <td>NaN</td>\n",
              "      <td>0</td>\n",
              "      <td>NaN</td>\n",
              "      <td>27278</td>\n",
              "      <td>NaN</td>\n",
              "      <td>36118</td>\n",
              "      <td>NaN</td>\n",
              "      <td>NaN</td>\n",
              "      <td>0</td>\n",
              "    </tr>\n",
              "    <tr>\n",
              "      <th>1</th>\n",
              "      <td>HS</td>\n",
              "      <td>2019</td>\n",
              "      <td>01.01.2019</td>\n",
              "      <td>January 2019</td>\n",
              "      <td>4</td>\n",
              "      <td>0</td>\n",
              "      <td>1</td>\n",
              "      <td>Import</td>\n",
              "      <td>24</td>\n",
              "      <td>Angola</td>\n",
              "      <td>NaN</td>\n",
              "      <td>0</td>\n",
              "      <td>World</td>\n",
              "      <td>2209</td>\n",
              "      <td>Vinegar and substitutes for vinegar obtained f...</td>\n",
              "      <td>0</td>\n",
              "      <td>No Quantity</td>\n",
              "      <td>NaN</td>\n",
              "      <td>NaN</td>\n",
              "      <td>0</td>\n",
              "      <td>NaN</td>\n",
              "      <td>414325</td>\n",
              "      <td>NaN</td>\n",
              "      <td>304413</td>\n",
              "      <td>NaN</td>\n",
              "      <td>NaN</td>\n",
              "      <td>0</td>\n",
              "    </tr>\n",
              "    <tr>\n",
              "      <th>2</th>\n",
              "      <td>HS</td>\n",
              "      <td>2019</td>\n",
              "      <td>01.01.2019</td>\n",
              "      <td>January 2019</td>\n",
              "      <td>6</td>\n",
              "      <td>1</td>\n",
              "      <td>1</td>\n",
              "      <td>Import</td>\n",
              "      <td>24</td>\n",
              "      <td>Angola</td>\n",
              "      <td>NaN</td>\n",
              "      <td>0</td>\n",
              "      <td>World</td>\n",
              "      <td>220900</td>\n",
              "      <td>Vinegar and substitutes for vinegar; obtained ...</td>\n",
              "      <td>0</td>\n",
              "      <td>No Quantity</td>\n",
              "      <td>NaN</td>\n",
              "      <td>NaN</td>\n",
              "      <td>0</td>\n",
              "      <td>NaN</td>\n",
              "      <td>414325</td>\n",
              "      <td>NaN</td>\n",
              "      <td>304413</td>\n",
              "      <td>NaN</td>\n",
              "      <td>NaN</td>\n",
              "      <td>0</td>\n",
              "    </tr>\n",
              "    <tr>\n",
              "      <th>3</th>\n",
              "      <td>HS</td>\n",
              "      <td>2019</td>\n",
              "      <td>01.01.2019</td>\n",
              "      <td>January 2019</td>\n",
              "      <td>2</td>\n",
              "      <td>0</td>\n",
              "      <td>1</td>\n",
              "      <td>Import</td>\n",
              "      <td>24</td>\n",
              "      <td>Angola</td>\n",
              "      <td>NaN</td>\n",
              "      <td>0</td>\n",
              "      <td>World</td>\n",
              "      <td>23</td>\n",
              "      <td>Food industries, residues and wastes thereof; ...</td>\n",
              "      <td>0</td>\n",
              "      <td>No Quantity</td>\n",
              "      <td>NaN</td>\n",
              "      <td>NaN</td>\n",
              "      <td>0</td>\n",
              "      <td>NaN</td>\n",
              "      <td>0</td>\n",
              "      <td>NaN</td>\n",
              "      <td>3246185</td>\n",
              "      <td>NaN</td>\n",
              "      <td>NaN</td>\n",
              "      <td>0</td>\n",
              "    </tr>\n",
              "    <tr>\n",
              "      <th>4</th>\n",
              "      <td>HS</td>\n",
              "      <td>2019</td>\n",
              "      <td>01.01.2019</td>\n",
              "      <td>January 2019</td>\n",
              "      <td>4</td>\n",
              "      <td>0</td>\n",
              "      <td>1</td>\n",
              "      <td>Import</td>\n",
              "      <td>24</td>\n",
              "      <td>Angola</td>\n",
              "      <td>NaN</td>\n",
              "      <td>0</td>\n",
              "      <td>World</td>\n",
              "      <td>2302</td>\n",
              "      <td>Bran, sharps and other residues; whether or no...</td>\n",
              "      <td>0</td>\n",
              "      <td>No Quantity</td>\n",
              "      <td>NaN</td>\n",
              "      <td>NaN</td>\n",
              "      <td>0</td>\n",
              "      <td>NaN</td>\n",
              "      <td>809</td>\n",
              "      <td>NaN</td>\n",
              "      <td>512</td>\n",
              "      <td>NaN</td>\n",
              "      <td>NaN</td>\n",
              "      <td>0</td>\n",
              "    </tr>\n",
              "  </tbody>\n",
              "</table>\n",
              "</div>\n",
              "      <button class=\"colab-df-convert\" onclick=\"convertToInteractive('df-d92c0385-64a0-449a-9582-aa9bd07249c0')\"\n",
              "              title=\"Convert this dataframe to an interactive table.\"\n",
              "              style=\"display:none;\">\n",
              "        \n",
              "  <svg xmlns=\"http://www.w3.org/2000/svg\" height=\"24px\"viewBox=\"0 0 24 24\"\n",
              "       width=\"24px\">\n",
              "    <path d=\"M0 0h24v24H0V0z\" fill=\"none\"/>\n",
              "    <path d=\"M18.56 5.44l.94 2.06.94-2.06 2.06-.94-2.06-.94-.94-2.06-.94 2.06-2.06.94zm-11 1L8.5 8.5l.94-2.06 2.06-.94-2.06-.94L8.5 2.5l-.94 2.06-2.06.94zm10 10l.94 2.06.94-2.06 2.06-.94-2.06-.94-.94-2.06-.94 2.06-2.06.94z\"/><path d=\"M17.41 7.96l-1.37-1.37c-.4-.4-.92-.59-1.43-.59-.52 0-1.04.2-1.43.59L10.3 9.45l-7.72 7.72c-.78.78-.78 2.05 0 2.83L4 21.41c.39.39.9.59 1.41.59.51 0 1.02-.2 1.41-.59l7.78-7.78 2.81-2.81c.8-.78.8-2.07 0-2.86zM5.41 20L4 18.59l7.72-7.72 1.47 1.35L5.41 20z\"/>\n",
              "  </svg>\n",
              "      </button>\n",
              "      \n",
              "  <style>\n",
              "    .colab-df-container {\n",
              "      display:flex;\n",
              "      flex-wrap:wrap;\n",
              "      gap: 12px;\n",
              "    }\n",
              "\n",
              "    .colab-df-convert {\n",
              "      background-color: #E8F0FE;\n",
              "      border: none;\n",
              "      border-radius: 50%;\n",
              "      cursor: pointer;\n",
              "      display: none;\n",
              "      fill: #1967D2;\n",
              "      height: 32px;\n",
              "      padding: 0 0 0 0;\n",
              "      width: 32px;\n",
              "    }\n",
              "\n",
              "    .colab-df-convert:hover {\n",
              "      background-color: #E2EBFA;\n",
              "      box-shadow: 0px 1px 2px rgba(60, 64, 67, 0.3), 0px 1px 3px 1px rgba(60, 64, 67, 0.15);\n",
              "      fill: #174EA6;\n",
              "    }\n",
              "\n",
              "    [theme=dark] .colab-df-convert {\n",
              "      background-color: #3B4455;\n",
              "      fill: #D2E3FC;\n",
              "    }\n",
              "\n",
              "    [theme=dark] .colab-df-convert:hover {\n",
              "      background-color: #434B5C;\n",
              "      box-shadow: 0px 1px 3px 1px rgba(0, 0, 0, 0.15);\n",
              "      filter: drop-shadow(0px 1px 2px rgba(0, 0, 0, 0.3));\n",
              "      fill: #FFFFFF;\n",
              "    }\n",
              "  </style>\n",
              "\n",
              "      <script>\n",
              "        const buttonEl =\n",
              "          document.querySelector('#df-d92c0385-64a0-449a-9582-aa9bd07249c0 button.colab-df-convert');\n",
              "        buttonEl.style.display =\n",
              "          google.colab.kernel.accessAllowed ? 'block' : 'none';\n",
              "\n",
              "        async function convertToInteractive(key) {\n",
              "          const element = document.querySelector('#df-d92c0385-64a0-449a-9582-aa9bd07249c0');\n",
              "          const dataTable =\n",
              "            await google.colab.kernel.invokeFunction('convertToInteractive',\n",
              "                                                     [key], {});\n",
              "          if (!dataTable) return;\n",
              "\n",
              "          const docLinkHtml = 'Like what you see? Visit the ' +\n",
              "            '<a target=\"_blank\" href=https://colab.research.google.com/notebooks/data_table.ipynb>data table notebook</a>'\n",
              "            + ' to learn more about interactive tables.';\n",
              "          element.innerHTML = '';\n",
              "          dataTable['output_type'] = 'display_data';\n",
              "          await google.colab.output.renderOutput(dataTable, element);\n",
              "          const docLink = document.createElement('div');\n",
              "          docLink.innerHTML = docLinkHtml;\n",
              "          element.appendChild(docLink);\n",
              "        }\n",
              "      </script>\n",
              "    </div>\n",
              "  </div>\n",
              "  "
            ],
            "text/plain": [
              "  classification  year      period  ... cif_trade_value  fob_trade_value  flag\n",
              "0             HS  2019  01.01.2019  ...             NaN              NaN     0\n",
              "1             HS  2019  01.01.2019  ...             NaN              NaN     0\n",
              "2             HS  2019  01.01.2019  ...             NaN              NaN     0\n",
              "3             HS  2019  01.01.2019  ...             NaN              NaN     0\n",
              "4             HS  2019  01.01.2019  ...             NaN              NaN     0\n",
              "\n",
              "[5 rows x 27 columns]"
            ]
          },
          "metadata": {},
          "execution_count": 3
        }
      ]
    },
    {
      "cell_type": "markdown",
      "source": [
        "Посмотрим информацию о пропущенных значениях, и типах данных:"
      ],
      "metadata": {
        "id": "cuO3oWUU44Xb"
      }
    },
    {
      "cell_type": "code",
      "source": [
        "df.info()"
      ],
      "metadata": {
        "colab": {
          "base_uri": "https://localhost:8080/"
        },
        "id": "hPr1UXyeZdzq",
        "outputId": "86e9907c-6d13-49f2-d3ef-3a78384644a7"
      },
      "execution_count": null,
      "outputs": [
        {
          "output_type": "stream",
          "name": "stdout",
          "text": [
            "<class 'pandas.core.frame.DataFrame'>\n",
            "RangeIndex: 513266 entries, 0 to 513265\n",
            "Data columns (total 27 columns):\n",
            " #   Column             Non-Null Count   Dtype  \n",
            "---  ------             --------------   -----  \n",
            " 0   classification     513266 non-null  object \n",
            " 1   year               513266 non-null  int64  \n",
            " 2   period             513266 non-null  object \n",
            " 3   period_desc        513266 non-null  object \n",
            " 4   aggregate_level    513266 non-null  int64  \n",
            " 5   is_leaf_code       513266 non-null  int64  \n",
            " 6   trade_flow_code    513266 non-null  int64  \n",
            " 7   trade_flow         513266 non-null  object \n",
            " 8   reporter_code      513266 non-null  int64  \n",
            " 9   reporter           513266 non-null  object \n",
            " 10  reporter_iso       0 non-null       float64\n",
            " 11  partner_code       513266 non-null  int64  \n",
            " 12  partner            513266 non-null  object \n",
            " 13  commodity_code     513266 non-null  object \n",
            " 14  commodity          513266 non-null  object \n",
            " 15  qty_unit_code      513266 non-null  int64  \n",
            " 16  qty_unit           513266 non-null  object \n",
            " 17  qty                0 non-null       float64\n",
            " 18  alt_qty_unit_code  0 non-null       float64\n",
            " 19  alt_qty_unit       513266 non-null  int64  \n",
            " 20  alt_qty            0 non-null       float64\n",
            " 21  netweight          513266 non-null  int64  \n",
            " 22  gross_weight       0 non-null       float64\n",
            " 23  trade_value        513266 non-null  int64  \n",
            " 24  cif_trade_value    0 non-null       float64\n",
            " 25  fob_trade_value    0 non-null       float64\n",
            " 26  flag               513266 non-null  int64  \n",
            "dtypes: float64(7), int64(11), object(9)\n",
            "memory usage: 105.7+ MB\n"
          ]
        }
      ]
    },
    {
      "cell_type": "markdown",
      "source": [
        "Удалим столбцы в которых пустые значения:"
      ],
      "metadata": {
        "id": "hMDwUzf8fkwb"
      }
    },
    {
      "cell_type": "code",
      "source": [
        "df = df.dropna(axis=1, how='all')"
      ],
      "metadata": {
        "id": "fDzGyNCvZtHC"
      },
      "execution_count": null,
      "outputs": []
    },
    {
      "cell_type": "markdown",
      "source": [
        "Удалим столбцы в которых только одно значение:"
      ],
      "metadata": {
        "id": "W3tFjct3ffSE"
      }
    },
    {
      "cell_type": "code",
      "source": [
        "for i in list(df.columns):\n",
        "  if len(df[i].unique()) == 1:\n",
        "    df = df.drop(columns=[i], axis = 1)"
      ],
      "metadata": {
        "id": "u_dTVW_9ds1-"
      },
      "execution_count": null,
      "outputs": []
    },
    {
      "cell_type": "markdown",
      "source": [
        "Приведем тип данных для столбца `period` к датам, и удалим дублирующий столбец с периодом `period_desc`:"
      ],
      "metadata": {
        "id": "AIOXdPZbg3xB"
      }
    },
    {
      "cell_type": "code",
      "source": [
        "df['period'] = pd.to_datetime(df['period'], format='%d.%m.%Y')\n",
        "df = df.drop(columns=['period_desc', 'year'], axis = 1)"
      ],
      "metadata": {
        "id": "VFexhDdMfzQI"
      },
      "execution_count": null,
      "outputs": []
    },
    {
      "cell_type": "markdown",
      "source": [
        "Удалим знаки ',' и ';' в столбце `commodity` для снижения ошибок при работке с *.csv:"
      ],
      "metadata": {
        "id": "V2WDjnWhsNjw"
      }
    },
    {
      "cell_type": "code",
      "source": [
        "df['commodity'] = df['commodity'].replace(to_replace=r';', value='', regex=True)\n",
        "df['commodity'] = df['commodity'].replace(to_replace=r',', value='', regex=True)"
      ],
      "metadata": {
        "id": "ecsikmBoqv20"
      },
      "execution_count": null,
      "outputs": []
    },
    {
      "cell_type": "markdown",
      "source": [
        "Выведем информацию о получившийся таблице:"
      ],
      "metadata": {
        "id": "qEv4lNSA4-kx"
      }
    },
    {
      "cell_type": "code",
      "source": [
        "df.head()"
      ],
      "metadata": {
        "colab": {
          "base_uri": "https://localhost:8080/",
          "height": 206
        },
        "id": "kL6S2r2WhYhP",
        "outputId": "318ae7ec-cb4f-4543-ffa9-06632755cc45"
      },
      "execution_count": null,
      "outputs": [
        {
          "output_type": "execute_result",
          "data": {
            "text/html": [
              "\n",
              "  <div id=\"df-e0bf422c-bc20-4e42-ad8f-21ce69f84411\">\n",
              "    <div class=\"colab-df-container\">\n",
              "      <div>\n",
              "<style scoped>\n",
              "    .dataframe tbody tr th:only-of-type {\n",
              "        vertical-align: middle;\n",
              "    }\n",
              "\n",
              "    .dataframe tbody tr th {\n",
              "        vertical-align: top;\n",
              "    }\n",
              "\n",
              "    .dataframe thead th {\n",
              "        text-align: right;\n",
              "    }\n",
              "</style>\n",
              "<table border=\"1\" class=\"dataframe\">\n",
              "  <thead>\n",
              "    <tr style=\"text-align: right;\">\n",
              "      <th></th>\n",
              "      <th>period</th>\n",
              "      <th>aggregate_level</th>\n",
              "      <th>is_leaf_code</th>\n",
              "      <th>trade_flow_code</th>\n",
              "      <th>trade_flow</th>\n",
              "      <th>reporter_code</th>\n",
              "      <th>reporter</th>\n",
              "      <th>partner_code</th>\n",
              "      <th>partner</th>\n",
              "      <th>commodity_code</th>\n",
              "      <th>commodity</th>\n",
              "      <th>netweight</th>\n",
              "      <th>trade_value</th>\n",
              "    </tr>\n",
              "  </thead>\n",
              "  <tbody>\n",
              "    <tr>\n",
              "      <th>0</th>\n",
              "      <td>2019-01-01</td>\n",
              "      <td>6</td>\n",
              "      <td>1</td>\n",
              "      <td>1</td>\n",
              "      <td>Import</td>\n",
              "      <td>24</td>\n",
              "      <td>Angola</td>\n",
              "      <td>0</td>\n",
              "      <td>World</td>\n",
              "      <td>220890</td>\n",
              "      <td>Spirits liqueurs and other spirituous beverage...</td>\n",
              "      <td>27278</td>\n",
              "      <td>36118</td>\n",
              "    </tr>\n",
              "    <tr>\n",
              "      <th>1</th>\n",
              "      <td>2019-01-01</td>\n",
              "      <td>4</td>\n",
              "      <td>0</td>\n",
              "      <td>1</td>\n",
              "      <td>Import</td>\n",
              "      <td>24</td>\n",
              "      <td>Angola</td>\n",
              "      <td>0</td>\n",
              "      <td>World</td>\n",
              "      <td>2209</td>\n",
              "      <td>Vinegar and substitutes for vinegar obtained f...</td>\n",
              "      <td>414325</td>\n",
              "      <td>304413</td>\n",
              "    </tr>\n",
              "    <tr>\n",
              "      <th>2</th>\n",
              "      <td>2019-01-01</td>\n",
              "      <td>6</td>\n",
              "      <td>1</td>\n",
              "      <td>1</td>\n",
              "      <td>Import</td>\n",
              "      <td>24</td>\n",
              "      <td>Angola</td>\n",
              "      <td>0</td>\n",
              "      <td>World</td>\n",
              "      <td>220900</td>\n",
              "      <td>Vinegar and substitutes for vinegar obtained f...</td>\n",
              "      <td>414325</td>\n",
              "      <td>304413</td>\n",
              "    </tr>\n",
              "    <tr>\n",
              "      <th>3</th>\n",
              "      <td>2019-01-01</td>\n",
              "      <td>2</td>\n",
              "      <td>0</td>\n",
              "      <td>1</td>\n",
              "      <td>Import</td>\n",
              "      <td>24</td>\n",
              "      <td>Angola</td>\n",
              "      <td>0</td>\n",
              "      <td>World</td>\n",
              "      <td>23</td>\n",
              "      <td>Food industries residues and wastes thereof pr...</td>\n",
              "      <td>0</td>\n",
              "      <td>3246185</td>\n",
              "    </tr>\n",
              "    <tr>\n",
              "      <th>4</th>\n",
              "      <td>2019-01-01</td>\n",
              "      <td>4</td>\n",
              "      <td>0</td>\n",
              "      <td>1</td>\n",
              "      <td>Import</td>\n",
              "      <td>24</td>\n",
              "      <td>Angola</td>\n",
              "      <td>0</td>\n",
              "      <td>World</td>\n",
              "      <td>2302</td>\n",
              "      <td>Bran sharps and other residues whether or not ...</td>\n",
              "      <td>809</td>\n",
              "      <td>512</td>\n",
              "    </tr>\n",
              "  </tbody>\n",
              "</table>\n",
              "</div>\n",
              "      <button class=\"colab-df-convert\" onclick=\"convertToInteractive('df-e0bf422c-bc20-4e42-ad8f-21ce69f84411')\"\n",
              "              title=\"Convert this dataframe to an interactive table.\"\n",
              "              style=\"display:none;\">\n",
              "        \n",
              "  <svg xmlns=\"http://www.w3.org/2000/svg\" height=\"24px\"viewBox=\"0 0 24 24\"\n",
              "       width=\"24px\">\n",
              "    <path d=\"M0 0h24v24H0V0z\" fill=\"none\"/>\n",
              "    <path d=\"M18.56 5.44l.94 2.06.94-2.06 2.06-.94-2.06-.94-.94-2.06-.94 2.06-2.06.94zm-11 1L8.5 8.5l.94-2.06 2.06-.94-2.06-.94L8.5 2.5l-.94 2.06-2.06.94zm10 10l.94 2.06.94-2.06 2.06-.94-2.06-.94-.94-2.06-.94 2.06-2.06.94z\"/><path d=\"M17.41 7.96l-1.37-1.37c-.4-.4-.92-.59-1.43-.59-.52 0-1.04.2-1.43.59L10.3 9.45l-7.72 7.72c-.78.78-.78 2.05 0 2.83L4 21.41c.39.39.9.59 1.41.59.51 0 1.02-.2 1.41-.59l7.78-7.78 2.81-2.81c.8-.78.8-2.07 0-2.86zM5.41 20L4 18.59l7.72-7.72 1.47 1.35L5.41 20z\"/>\n",
              "  </svg>\n",
              "      </button>\n",
              "      \n",
              "  <style>\n",
              "    .colab-df-container {\n",
              "      display:flex;\n",
              "      flex-wrap:wrap;\n",
              "      gap: 12px;\n",
              "    }\n",
              "\n",
              "    .colab-df-convert {\n",
              "      background-color: #E8F0FE;\n",
              "      border: none;\n",
              "      border-radius: 50%;\n",
              "      cursor: pointer;\n",
              "      display: none;\n",
              "      fill: #1967D2;\n",
              "      height: 32px;\n",
              "      padding: 0 0 0 0;\n",
              "      width: 32px;\n",
              "    }\n",
              "\n",
              "    .colab-df-convert:hover {\n",
              "      background-color: #E2EBFA;\n",
              "      box-shadow: 0px 1px 2px rgba(60, 64, 67, 0.3), 0px 1px 3px 1px rgba(60, 64, 67, 0.15);\n",
              "      fill: #174EA6;\n",
              "    }\n",
              "\n",
              "    [theme=dark] .colab-df-convert {\n",
              "      background-color: #3B4455;\n",
              "      fill: #D2E3FC;\n",
              "    }\n",
              "\n",
              "    [theme=dark] .colab-df-convert:hover {\n",
              "      background-color: #434B5C;\n",
              "      box-shadow: 0px 1px 3px 1px rgba(0, 0, 0, 0.15);\n",
              "      filter: drop-shadow(0px 1px 2px rgba(0, 0, 0, 0.3));\n",
              "      fill: #FFFFFF;\n",
              "    }\n",
              "  </style>\n",
              "\n",
              "      <script>\n",
              "        const buttonEl =\n",
              "          document.querySelector('#df-e0bf422c-bc20-4e42-ad8f-21ce69f84411 button.colab-df-convert');\n",
              "        buttonEl.style.display =\n",
              "          google.colab.kernel.accessAllowed ? 'block' : 'none';\n",
              "\n",
              "        async function convertToInteractive(key) {\n",
              "          const element = document.querySelector('#df-e0bf422c-bc20-4e42-ad8f-21ce69f84411');\n",
              "          const dataTable =\n",
              "            await google.colab.kernel.invokeFunction('convertToInteractive',\n",
              "                                                     [key], {});\n",
              "          if (!dataTable) return;\n",
              "\n",
              "          const docLinkHtml = 'Like what you see? Visit the ' +\n",
              "            '<a target=\"_blank\" href=https://colab.research.google.com/notebooks/data_table.ipynb>data table notebook</a>'\n",
              "            + ' to learn more about interactive tables.';\n",
              "          element.innerHTML = '';\n",
              "          dataTable['output_type'] = 'display_data';\n",
              "          await google.colab.output.renderOutput(dataTable, element);\n",
              "          const docLink = document.createElement('div');\n",
              "          docLink.innerHTML = docLinkHtml;\n",
              "          element.appendChild(docLink);\n",
              "        }\n",
              "      </script>\n",
              "    </div>\n",
              "  </div>\n",
              "  "
            ],
            "text/plain": [
              "      period  aggregate_level  ...  netweight  trade_value\n",
              "0 2019-01-01                6  ...      27278        36118\n",
              "1 2019-01-01                4  ...     414325       304413\n",
              "2 2019-01-01                6  ...     414325       304413\n",
              "3 2019-01-01                2  ...          0      3246185\n",
              "4 2019-01-01                4  ...        809          512\n",
              "\n",
              "[5 rows x 13 columns]"
            ]
          },
          "metadata": {},
          "execution_count": 9
        }
      ]
    },
    {
      "cell_type": "code",
      "source": [
        "df.info()"
      ],
      "metadata": {
        "colab": {
          "base_uri": "https://localhost:8080/"
        },
        "id": "6FC_UAl4haH2",
        "outputId": "92ae5b18-5398-455a-e61b-44b722819639"
      },
      "execution_count": null,
      "outputs": [
        {
          "output_type": "stream",
          "name": "stdout",
          "text": [
            "<class 'pandas.core.frame.DataFrame'>\n",
            "RangeIndex: 513266 entries, 0 to 513265\n",
            "Data columns (total 13 columns):\n",
            " #   Column           Non-Null Count   Dtype         \n",
            "---  ------           --------------   -----         \n",
            " 0   period           513266 non-null  datetime64[ns]\n",
            " 1   aggregate_level  513266 non-null  int64         \n",
            " 2   is_leaf_code     513266 non-null  int64         \n",
            " 3   trade_flow_code  513266 non-null  int64         \n",
            " 4   trade_flow       513266 non-null  object        \n",
            " 5   reporter_code    513266 non-null  int64         \n",
            " 6   reporter         513266 non-null  object        \n",
            " 7   partner_code     513266 non-null  int64         \n",
            " 8   partner          513266 non-null  object        \n",
            " 9   commodity_code   513266 non-null  object        \n",
            " 10  commodity        513266 non-null  object        \n",
            " 11  netweight        513266 non-null  int64         \n",
            " 12  trade_value      513266 non-null  int64         \n",
            "dtypes: datetime64[ns](1), int64(7), object(5)\n",
            "memory usage: 50.9+ MB\n"
          ]
        }
      ]
    },
    {
      "cell_type": "markdown",
      "source": [
        "Сохраним обработанный датасет:"
      ],
      "metadata": {
        "id": "EDHwyZZjneBl"
      }
    },
    {
      "cell_type": "markdown",
      "source": [
        "Для БД Postgresql создадим несколько *.csv для подгрузки в нее (основные данные, справочники: типы продаж, поставщик, партнер, расшифорвка ТНВЭД):"
      ],
      "metadata": {
        "id": "stAXtXiQyob8"
      }
    },
    {
      "cell_type": "code",
      "source": [
        "table_main = df.drop(columns=['trade_flow', 'reporter', 'partner', 'commodity'], axis = 1)\n",
        "table_main['year_n'] = table_main['period'].dt.year\n",
        "table_main['month_n'] = table_main['period'].dt.month\n",
        "table_main = table_main.drop(columns=['period'], axis = 1)\n",
        "\n",
        "table_trade_flow = df[['trade_flow', 'trade_flow_code']].drop_duplicates()\n",
        "table_reporter = df[['reporter', 'reporter_code']].drop_duplicates()\n",
        "table_partner = df[['partner', 'partner_code']].drop_duplicates()\n",
        "table_commodity = df[['commodity', 'commodity_code']].drop_duplicates()"
      ],
      "metadata": {
        "id": "GG5vCWkYzT3G"
      },
      "execution_count": null,
      "outputs": []
    },
    {
      "cell_type": "code",
      "source": [
        "#table_main.to_csv('/content/drive/MyDrive/aemcx_test_task/table_main.csv', index=False)\n",
        "#table_trade_flow.to_csv('/content/drive/MyDrive/aemcx_test_task/table_trade_flow.csv', index=False)\n",
        "#table_reporter.to_csv('/content/drive/MyDrive/aemcx_test_task/table_reporter.csv', index=False)\n",
        "#table_partner.to_csv('/content/drive/MyDrive/aemcx_test_task/table_partner.csv', index=False)\n",
        "#table_commodity.to_csv('/content/drive/MyDrive/aemcx_test_task/table_commodity.csv', index=False)"
      ],
      "metadata": {
        "id": "NE6Sl5ly0R34"
      },
      "execution_count": null,
      "outputs": []
    },
    {
      "cell_type": "markdown",
      "source": [
        "Создание в БД таблиц:"
      ],
      "metadata": {
        "id": "t1Yv-Xgs0Rog"
      }
    },
    {
      "cell_type": "markdown",
      "source": [
        "CREATE TABLE table_main  \n",
        "(\t\n",
        "\tid SERIAL PRIMARY KEY,  \n",
        "\taggregate_level int,  \n",
        "\tis_leaf_code int,  \n",
        "\ttrade_flow_code int,  \n",
        "\treporter_code int,  \n",
        "\tpartner_code int,  \n",
        "\tcommodity_code VARCHAR(40),  \n",
        "\tnetweight DECIMAL(20, 2),  \n",
        "\ttrade_value DECIMAL(20, 2),  \n",
        "\tyear_n int,  \n",
        "\tmonth_n int  \n",
        ");    \n",
        "\n",
        "\n",
        "CREATE TABLE table_trade_flow (trade_flow_code INT, trade_flow VARCHAR(100));  \n",
        "CREATE TABLE table_reporter(reporter_code INT, reporter VARCHAR(100));  \n",
        "CREATE TABLE table_partner(partner_code INT, partner VARCHAR(100));  \n",
        "CREATE TABLE table_commodity(commodity_code VARCHAR(30), commodity VARCHAR(350));"
      ],
      "metadata": {
        "id": "ri-Qnl0TAsNA"
      }
    },
    {
      "cell_type": "markdown",
      "source": [
        "`Загрузку *.csv выполним через IDE. Создадим связи.`\n",
        "\n",
        "Получившиеся диаграмма БД:"
      ],
      "metadata": {
        "id": "3mteIBTpAsLj"
      }
    },
    {
      "cell_type": "markdown",
      "source": [
        "![Снимок экрана от 2022-02-16 13-11-36.png](data:image/png;base64,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)"
      ],
      "metadata": {
        "id": "77QQEOpwAsJy"
      }
    },
    {
      "cell_type": "markdown",
      "source": [
        "### Вывод"
      ],
      "metadata": {
        "id": "a8kqSFcKf_uJ"
      }
    },
    {
      "cell_type": "markdown",
      "source": [
        "Провели предобратоку данных, удалили лишние столбцы.\n",
        "Возможно в дальнешей потребуется изучить значения в столбцах.\n",
        "Создали БД."
      ],
      "metadata": {
        "id": "CSXX8BGlhGsQ"
      }
    },
    {
      "cell_type": "markdown",
      "source": [
        "## Ответы на вопросы"
      ],
      "metadata": {
        "id": "4pirmz1ohGp3"
      }
    },
    {
      "cell_type": "markdown",
      "source": [
        "### Объем импорта мяса птицы Анголой в 2019 году  \n",
        "\n",
        "Примечание: ТН ВЭД\t0207\tМясо и пищевые субпродукты домашней птицы, указанной в товарной позиции 0105, свежие, охлажденные или замороженные"
      ],
      "metadata": {
        "id": "OtOM8jJyLlJ3"
      }
    },
    {
      "cell_type": "markdown",
      "source": [
        "Выведем суммарную стоимость мяса птицы (не живой) в долларах США импортированной Ангологой в 2019:"
      ],
      "metadata": {
        "id": "GAjtNDL_W4Mv"
      }
    },
    {
      "cell_type": "code",
      "source": [
        "df_bird_angola = df[(df['commodity_code'].str.startswith('0207')) & (df['reporter'] == 'Angola') & (df['trade_flow'] == 'Import')]"
      ],
      "metadata": {
        "id": "HjzW7oWwY2vO"
      },
      "execution_count": null,
      "outputs": []
    },
    {
      "cell_type": "code",
      "source": [
        "df_bird_angola['trade_value'].sum()"
      ],
      "metadata": {
        "colab": {
          "base_uri": "https://localhost:8080/"
        },
        "id": "gDbNIewMK1J5",
        "outputId": "40f3764e-d8b3-4fda-c1ee-23300d555f85"
      },
      "execution_count": null,
      "outputs": [
        {
          "output_type": "execute_result",
          "data": {
            "text/plain": [
              "790508582"
            ]
          },
          "metadata": {},
          "execution_count": 14
        }
      ]
    },
    {
      "cell_type": "markdown",
      "source": [
        "Решение на SQL:"
      ],
      "metadata": {
        "id": "os3q6IKqukV-"
      }
    },
    {
      "cell_type": "markdown",
      "source": [
        "SELECT SUM(trade_value)  \n",
        "FROM table_main tm   \n",
        "WHERE commodity_code like '0207%' AND reporter_code = '24' AND trade_flow_code = '1';"
      ],
      "metadata": {
        "id": "qt2ezKkQundt"
      }
    },
    {
      "cell_type": "markdown",
      "source": [
        "### Cтрана, поставившая в Анголу наибольший объем мяса птицы в стоимостном выражении в марте 2019 года"
      ],
      "metadata": {
        "id": "DdBfmzKZXD4E"
      }
    },
    {
      "cell_type": "markdown",
      "source": [
        "Проведем группировку данных с учетом требований вопроса:"
      ],
      "metadata": {
        "id": "aXNl8ckz5Ozi"
      }
    },
    {
      "cell_type": "code",
      "source": [
        "df_bird_angola[df_bird_angola['period'].dt.month == 3].pivot_table(values='trade_value', index='partner', aggfunc='sum').sort_values(by='trade_value', ascending=False).reset_index().head()"
      ],
      "metadata": {
        "colab": {
          "base_uri": "https://localhost:8080/",
          "height": 206
        },
        "id": "VhH-nPEaZmdv",
        "outputId": "c6527680-6c76-4f7b-f4dc-ea615f7a3876"
      },
      "execution_count": null,
      "outputs": [
        {
          "output_type": "execute_result",
          "data": {
            "text/html": [
              "\n",
              "  <div id=\"df-9496e34b-c8b1-48ba-9070-0c64c56abefb\">\n",
              "    <div class=\"colab-df-container\">\n",
              "      <div>\n",
              "<style scoped>\n",
              "    .dataframe tbody tr th:only-of-type {\n",
              "        vertical-align: middle;\n",
              "    }\n",
              "\n",
              "    .dataframe tbody tr th {\n",
              "        vertical-align: top;\n",
              "    }\n",
              "\n",
              "    .dataframe thead th {\n",
              "        text-align: right;\n",
              "    }\n",
              "</style>\n",
              "<table border=\"1\" class=\"dataframe\">\n",
              "  <thead>\n",
              "    <tr style=\"text-align: right;\">\n",
              "      <th></th>\n",
              "      <th>partner</th>\n",
              "      <th>trade_value</th>\n",
              "    </tr>\n",
              "  </thead>\n",
              "  <tbody>\n",
              "    <tr>\n",
              "      <th>0</th>\n",
              "      <td>World</td>\n",
              "      <td>32944663</td>\n",
              "    </tr>\n",
              "    <tr>\n",
              "      <th>1</th>\n",
              "      <td>United States of America</td>\n",
              "      <td>19015178</td>\n",
              "    </tr>\n",
              "    <tr>\n",
              "      <th>2</th>\n",
              "      <td>Brazil</td>\n",
              "      <td>5632528</td>\n",
              "    </tr>\n",
              "    <tr>\n",
              "      <th>3</th>\n",
              "      <td>Portugal</td>\n",
              "      <td>1978442</td>\n",
              "    </tr>\n",
              "    <tr>\n",
              "      <th>4</th>\n",
              "      <td>France</td>\n",
              "      <td>1539382</td>\n",
              "    </tr>\n",
              "  </tbody>\n",
              "</table>\n",
              "</div>\n",
              "      <button class=\"colab-df-convert\" onclick=\"convertToInteractive('df-9496e34b-c8b1-48ba-9070-0c64c56abefb')\"\n",
              "              title=\"Convert this dataframe to an interactive table.\"\n",
              "              style=\"display:none;\">\n",
              "        \n",
              "  <svg xmlns=\"http://www.w3.org/2000/svg\" height=\"24px\"viewBox=\"0 0 24 24\"\n",
              "       width=\"24px\">\n",
              "    <path d=\"M0 0h24v24H0V0z\" fill=\"none\"/>\n",
              "    <path d=\"M18.56 5.44l.94 2.06.94-2.06 2.06-.94-2.06-.94-.94-2.06-.94 2.06-2.06.94zm-11 1L8.5 8.5l.94-2.06 2.06-.94-2.06-.94L8.5 2.5l-.94 2.06-2.06.94zm10 10l.94 2.06.94-2.06 2.06-.94-2.06-.94-.94-2.06-.94 2.06-2.06.94z\"/><path d=\"M17.41 7.96l-1.37-1.37c-.4-.4-.92-.59-1.43-.59-.52 0-1.04.2-1.43.59L10.3 9.45l-7.72 7.72c-.78.78-.78 2.05 0 2.83L4 21.41c.39.39.9.59 1.41.59.51 0 1.02-.2 1.41-.59l7.78-7.78 2.81-2.81c.8-.78.8-2.07 0-2.86zM5.41 20L4 18.59l7.72-7.72 1.47 1.35L5.41 20z\"/>\n",
              "  </svg>\n",
              "      </button>\n",
              "      \n",
              "  <style>\n",
              "    .colab-df-container {\n",
              "      display:flex;\n",
              "      flex-wrap:wrap;\n",
              "      gap: 12px;\n",
              "    }\n",
              "\n",
              "    .colab-df-convert {\n",
              "      background-color: #E8F0FE;\n",
              "      border: none;\n",
              "      border-radius: 50%;\n",
              "      cursor: pointer;\n",
              "      display: none;\n",
              "      fill: #1967D2;\n",
              "      height: 32px;\n",
              "      padding: 0 0 0 0;\n",
              "      width: 32px;\n",
              "    }\n",
              "\n",
              "    .colab-df-convert:hover {\n",
              "      background-color: #E2EBFA;\n",
              "      box-shadow: 0px 1px 2px rgba(60, 64, 67, 0.3), 0px 1px 3px 1px rgba(60, 64, 67, 0.15);\n",
              "      fill: #174EA6;\n",
              "    }\n",
              "\n",
              "    [theme=dark] .colab-df-convert {\n",
              "      background-color: #3B4455;\n",
              "      fill: #D2E3FC;\n",
              "    }\n",
              "\n",
              "    [theme=dark] .colab-df-convert:hover {\n",
              "      background-color: #434B5C;\n",
              "      box-shadow: 0px 1px 3px 1px rgba(0, 0, 0, 0.15);\n",
              "      filter: drop-shadow(0px 1px 2px rgba(0, 0, 0, 0.3));\n",
              "      fill: #FFFFFF;\n",
              "    }\n",
              "  </style>\n",
              "\n",
              "      <script>\n",
              "        const buttonEl =\n",
              "          document.querySelector('#df-9496e34b-c8b1-48ba-9070-0c64c56abefb button.colab-df-convert');\n",
              "        buttonEl.style.display =\n",
              "          google.colab.kernel.accessAllowed ? 'block' : 'none';\n",
              "\n",
              "        async function convertToInteractive(key) {\n",
              "          const element = document.querySelector('#df-9496e34b-c8b1-48ba-9070-0c64c56abefb');\n",
              "          const dataTable =\n",
              "            await google.colab.kernel.invokeFunction('convertToInteractive',\n",
              "                                                     [key], {});\n",
              "          if (!dataTable) return;\n",
              "\n",
              "          const docLinkHtml = 'Like what you see? Visit the ' +\n",
              "            '<a target=\"_blank\" href=https://colab.research.google.com/notebooks/data_table.ipynb>data table notebook</a>'\n",
              "            + ' to learn more about interactive tables.';\n",
              "          element.innerHTML = '';\n",
              "          dataTable['output_type'] = 'display_data';\n",
              "          await google.colab.output.renderOutput(dataTable, element);\n",
              "          const docLink = document.createElement('div');\n",
              "          docLink.innerHTML = docLinkHtml;\n",
              "          element.appendChild(docLink);\n",
              "        }\n",
              "      </script>\n",
              "    </div>\n",
              "  </div>\n",
              "  "
            ],
            "text/plain": [
              "                    partner  trade_value\n",
              "0                     World     32944663\n",
              "1  United States of America     19015178\n",
              "2                    Brazil      5632528\n",
              "3                  Portugal      1978442\n",
              "4                    France      1539382"
            ]
          },
          "metadata": {},
          "execution_count": 15
        }
      ]
    },
    {
      "cell_type": "markdown",
      "source": [
        "Решение на SQL:"
      ],
      "metadata": {
        "id": "xCo8zKg4xKrE"
      }
    },
    {
      "cell_type": "markdown",
      "source": [
        "SELECT tp.partner AS \"Поставщик\", sum(trade_value) AS \"Суммарная стоимость\"  \n",
        "FROM table_main tm   \n",
        "JOIN table_partner tp ON tp.partner_code = tm.partner_code  \n",
        "WHERE tm.commodity_code LIKE '0207%' AND tm.reporter_code = '24' AND tm.trade_flow_code = '1' AND tm.month_n = 3  \n",
        "GROUP BY tp.partner  \n",
        "ORDER BY 2 DESC;"
      ],
      "metadata": {
        "id": "N6QVZZijxKOa"
      }
    },
    {
      "cell_type": "markdown",
      "source": [
        "### Структуру импорта мяса птицы Анголой по странам поставщикам по весу"
      ],
      "metadata": {
        "id": "B1_1P_GNXDx7"
      }
    },
    {
      "cell_type": "markdown",
      "source": [
        "Сгруппируем данные, а также создадим столбец `mean` со средним значением доли импорта в %:"
      ],
      "metadata": {
        "id": "9DcJXHWi5TBJ"
      }
    },
    {
      "cell_type": "code",
      "source": [
        "df_bird_angola_county = df_bird_angola.pivot_table(values='trade_value', index='partner', aggfunc='sum').reset_index()\n",
        "df_bird_angola_county['mean'] = round(df_bird_angola_county['trade_value'] / df_bird_angola_county['trade_value'].sum(), 4) * 100"
      ],
      "metadata": {
        "id": "DrgHb8uoiQup"
      },
      "execution_count": null,
      "outputs": []
    },
    {
      "cell_type": "code",
      "source": [
        "df_bird_angola_county.sort_values(by='mean', ascending=False).head(10)"
      ],
      "metadata": {
        "colab": {
          "base_uri": "https://localhost:8080/",
          "height": 363
        },
        "id": "ansWFqF-XDv7",
        "outputId": "2a5fa8b4-62bf-49dc-ad3e-8b18a560885b"
      },
      "execution_count": null,
      "outputs": [
        {
          "output_type": "execute_result",
          "data": {
            "text/html": [
              "\n",
              "  <div id=\"df-86a8b898-5545-4c7e-b928-520e653df148\">\n",
              "    <div class=\"colab-df-container\">\n",
              "      <div>\n",
              "<style scoped>\n",
              "    .dataframe tbody tr th:only-of-type {\n",
              "        vertical-align: middle;\n",
              "    }\n",
              "\n",
              "    .dataframe tbody tr th {\n",
              "        vertical-align: top;\n",
              "    }\n",
              "\n",
              "    .dataframe thead th {\n",
              "        text-align: right;\n",
              "    }\n",
              "</style>\n",
              "<table border=\"1\" class=\"dataframe\">\n",
              "  <thead>\n",
              "    <tr style=\"text-align: right;\">\n",
              "      <th></th>\n",
              "      <th>partner</th>\n",
              "      <th>trade_value</th>\n",
              "      <th>mean</th>\n",
              "    </tr>\n",
              "  </thead>\n",
              "  <tbody>\n",
              "    <tr>\n",
              "      <th>35</th>\n",
              "      <td>World</td>\n",
              "      <td>395254284</td>\n",
              "      <td>50.00</td>\n",
              "    </tr>\n",
              "    <tr>\n",
              "      <th>33</th>\n",
              "      <td>United States of America</td>\n",
              "      <td>231631336</td>\n",
              "      <td>29.30</td>\n",
              "    </tr>\n",
              "    <tr>\n",
              "      <th>3</th>\n",
              "      <td>Brazil</td>\n",
              "      <td>86749146</td>\n",
              "      <td>10.97</td>\n",
              "    </tr>\n",
              "    <tr>\n",
              "      <th>29</th>\n",
              "      <td>Turkey</td>\n",
              "      <td>16115965</td>\n",
              "      <td>2.04</td>\n",
              "    </tr>\n",
              "    <tr>\n",
              "      <th>0</th>\n",
              "      <td>Argentina</td>\n",
              "      <td>13588876</td>\n",
              "      <td>1.72</td>\n",
              "    </tr>\n",
              "    <tr>\n",
              "      <th>11</th>\n",
              "      <td>France</td>\n",
              "      <td>8751768</td>\n",
              "      <td>1.11</td>\n",
              "    </tr>\n",
              "    <tr>\n",
              "      <th>25</th>\n",
              "      <td>Portugal</td>\n",
              "      <td>8137198</td>\n",
              "      <td>1.03</td>\n",
              "    </tr>\n",
              "    <tr>\n",
              "      <th>2</th>\n",
              "      <td>Belgium</td>\n",
              "      <td>5693172</td>\n",
              "      <td>0.72</td>\n",
              "    </tr>\n",
              "    <tr>\n",
              "      <th>32</th>\n",
              "      <td>United Kingdom</td>\n",
              "      <td>5476440</td>\n",
              "      <td>0.69</td>\n",
              "    </tr>\n",
              "    <tr>\n",
              "      <th>17</th>\n",
              "      <td>Italy</td>\n",
              "      <td>4014726</td>\n",
              "      <td>0.51</td>\n",
              "    </tr>\n",
              "  </tbody>\n",
              "</table>\n",
              "</div>\n",
              "      <button class=\"colab-df-convert\" onclick=\"convertToInteractive('df-86a8b898-5545-4c7e-b928-520e653df148')\"\n",
              "              title=\"Convert this dataframe to an interactive table.\"\n",
              "              style=\"display:none;\">\n",
              "        \n",
              "  <svg xmlns=\"http://www.w3.org/2000/svg\" height=\"24px\"viewBox=\"0 0 24 24\"\n",
              "       width=\"24px\">\n",
              "    <path d=\"M0 0h24v24H0V0z\" fill=\"none\"/>\n",
              "    <path d=\"M18.56 5.44l.94 2.06.94-2.06 2.06-.94-2.06-.94-.94-2.06-.94 2.06-2.06.94zm-11 1L8.5 8.5l.94-2.06 2.06-.94-2.06-.94L8.5 2.5l-.94 2.06-2.06.94zm10 10l.94 2.06.94-2.06 2.06-.94-2.06-.94-.94-2.06-.94 2.06-2.06.94z\"/><path d=\"M17.41 7.96l-1.37-1.37c-.4-.4-.92-.59-1.43-.59-.52 0-1.04.2-1.43.59L10.3 9.45l-7.72 7.72c-.78.78-.78 2.05 0 2.83L4 21.41c.39.39.9.59 1.41.59.51 0 1.02-.2 1.41-.59l7.78-7.78 2.81-2.81c.8-.78.8-2.07 0-2.86zM5.41 20L4 18.59l7.72-7.72 1.47 1.35L5.41 20z\"/>\n",
              "  </svg>\n",
              "      </button>\n",
              "      \n",
              "  <style>\n",
              "    .colab-df-container {\n",
              "      display:flex;\n",
              "      flex-wrap:wrap;\n",
              "      gap: 12px;\n",
              "    }\n",
              "\n",
              "    .colab-df-convert {\n",
              "      background-color: #E8F0FE;\n",
              "      border: none;\n",
              "      border-radius: 50%;\n",
              "      cursor: pointer;\n",
              "      display: none;\n",
              "      fill: #1967D2;\n",
              "      height: 32px;\n",
              "      padding: 0 0 0 0;\n",
              "      width: 32px;\n",
              "    }\n",
              "\n",
              "    .colab-df-convert:hover {\n",
              "      background-color: #E2EBFA;\n",
              "      box-shadow: 0px 1px 2px rgba(60, 64, 67, 0.3), 0px 1px 3px 1px rgba(60, 64, 67, 0.15);\n",
              "      fill: #174EA6;\n",
              "    }\n",
              "\n",
              "    [theme=dark] .colab-df-convert {\n",
              "      background-color: #3B4455;\n",
              "      fill: #D2E3FC;\n",
              "    }\n",
              "\n",
              "    [theme=dark] .colab-df-convert:hover {\n",
              "      background-color: #434B5C;\n",
              "      box-shadow: 0px 1px 3px 1px rgba(0, 0, 0, 0.15);\n",
              "      filter: drop-shadow(0px 1px 2px rgba(0, 0, 0, 0.3));\n",
              "      fill: #FFFFFF;\n",
              "    }\n",
              "  </style>\n",
              "\n",
              "      <script>\n",
              "        const buttonEl =\n",
              "          document.querySelector('#df-86a8b898-5545-4c7e-b928-520e653df148 button.colab-df-convert');\n",
              "        buttonEl.style.display =\n",
              "          google.colab.kernel.accessAllowed ? 'block' : 'none';\n",
              "\n",
              "        async function convertToInteractive(key) {\n",
              "          const element = document.querySelector('#df-86a8b898-5545-4c7e-b928-520e653df148');\n",
              "          const dataTable =\n",
              "            await google.colab.kernel.invokeFunction('convertToInteractive',\n",
              "                                                     [key], {});\n",
              "          if (!dataTable) return;\n",
              "\n",
              "          const docLinkHtml = 'Like what you see? Visit the ' +\n",
              "            '<a target=\"_blank\" href=https://colab.research.google.com/notebooks/data_table.ipynb>data table notebook</a>'\n",
              "            + ' to learn more about interactive tables.';\n",
              "          element.innerHTML = '';\n",
              "          dataTable['output_type'] = 'display_data';\n",
              "          await google.colab.output.renderOutput(dataTable, element);\n",
              "          const docLink = document.createElement('div');\n",
              "          docLink.innerHTML = docLinkHtml;\n",
              "          element.appendChild(docLink);\n",
              "        }\n",
              "      </script>\n",
              "    </div>\n",
              "  </div>\n",
              "  "
            ],
            "text/plain": [
              "                     partner  trade_value   mean\n",
              "35                     World    395254284  50.00\n",
              "33  United States of America    231631336  29.30\n",
              "3                     Brazil     86749146  10.97\n",
              "29                    Turkey     16115965   2.04\n",
              "0                  Argentina     13588876   1.72\n",
              "11                    France      8751768   1.11\n",
              "25                  Portugal      8137198   1.03\n",
              "2                    Belgium      5693172   0.72\n",
              "32            United Kingdom      5476440   0.69\n",
              "17                     Italy      4014726   0.51"
            ]
          },
          "metadata": {},
          "execution_count": 25
        }
      ]
    },
    {
      "cell_type": "markdown",
      "source": [
        "Решение SQL:"
      ],
      "metadata": {
        "id": "_vaadX_-4I4a"
      }
    },
    {
      "cell_type": "markdown",
      "source": [
        "SELECT   \n",
        "\ttp.partner AS \"Поставщик\",   \n",
        "\tSUM(trade_value) AS \"Суммарная стоимость\",  \n",
        "\tROUND(SUM(trade_value) / SUM(SUM(trade_value)) OVER () * 100, 2) AS \"Доля\"  \n",
        "FROM table_main tm   \n",
        "JOIN table_partner tp ON tp.partner_code = tm.partner_code  \n",
        "WHERE tm.commodity_code LIKE '0207%' AND tm.reporter_code = '24' AND tm.trade_flow_code = '1' AND tm.month_n = 3  \n",
        "GROUP BY tp.partner  \n",
        "ORDER BY 2 DESC;  "
      ],
      "metadata": {
        "id": "aIiQ8BnU4LCn"
      }
    },
    {
      "cell_type": "markdown",
      "source": [
        "### Динамика средневзвешенной цены закупаемой Анголой мяса птицы по месяцам"
      ],
      "metadata": {
        "id": "HsaTYOMBXDty"
      }
    },
    {
      "cell_type": "markdown",
      "source": [
        "Для построения гистограммы создадим столбец с месяцами, а также проведем группировку с создадием столбца со средним значениями:"
      ],
      "metadata": {
        "id": "TsTiAY1o5bog"
      }
    },
    {
      "cell_type": "code",
      "source": [
        "df_bird_angola['month'] = df_bird_angola['period'].dt.month\n",
        "df_bird_angola_fig = df_bird_angola.pivot_table(values='trade_value', index='month', aggfunc='mean').reset_index()"
      ],
      "metadata": {
        "id": "jsvdx0sOgHvv"
      },
      "execution_count": null,
      "outputs": []
    },
    {
      "cell_type": "markdown",
      "source": [
        "Вывдем первые пять строк:"
      ],
      "metadata": {
        "id": "QV18Mh8b5qAI"
      }
    },
    {
      "cell_type": "code",
      "source": [
        "df_bird_angola_fig.head()"
      ],
      "metadata": {
        "colab": {
          "base_uri": "https://localhost:8080/",
          "height": 206
        },
        "id": "r5EDNkIW5l3X",
        "outputId": "24ce2f81-f36e-4881-b82c-69543646e64a"
      },
      "execution_count": null,
      "outputs": [
        {
          "output_type": "execute_result",
          "data": {
            "text/html": [
              "\n",
              "  <div id=\"df-7ab21393-0374-42be-99ad-1e5c380d478a\">\n",
              "    <div class=\"colab-df-container\">\n",
              "      <div>\n",
              "<style scoped>\n",
              "    .dataframe tbody tr th:only-of-type {\n",
              "        vertical-align: middle;\n",
              "    }\n",
              "\n",
              "    .dataframe tbody tr th {\n",
              "        vertical-align: top;\n",
              "    }\n",
              "\n",
              "    .dataframe thead th {\n",
              "        text-align: right;\n",
              "    }\n",
              "</style>\n",
              "<table border=\"1\" class=\"dataframe\">\n",
              "  <thead>\n",
              "    <tr style=\"text-align: right;\">\n",
              "      <th></th>\n",
              "      <th>month</th>\n",
              "      <th>trade_value</th>\n",
              "    </tr>\n",
              "  </thead>\n",
              "  <tbody>\n",
              "    <tr>\n",
              "      <th>0</th>\n",
              "      <td>1</td>\n",
              "      <td>1.264891e+06</td>\n",
              "    </tr>\n",
              "    <tr>\n",
              "      <th>1</th>\n",
              "      <td>2</td>\n",
              "      <td>1.483365e+06</td>\n",
              "    </tr>\n",
              "    <tr>\n",
              "      <th>2</th>\n",
              "      <td>3</td>\n",
              "      <td>1.062731e+06</td>\n",
              "    </tr>\n",
              "    <tr>\n",
              "      <th>3</th>\n",
              "      <td>4</td>\n",
              "      <td>1.189669e+06</td>\n",
              "    </tr>\n",
              "    <tr>\n",
              "      <th>4</th>\n",
              "      <td>5</td>\n",
              "      <td>8.004174e+05</td>\n",
              "    </tr>\n",
              "  </tbody>\n",
              "</table>\n",
              "</div>\n",
              "      <button class=\"colab-df-convert\" onclick=\"convertToInteractive('df-7ab21393-0374-42be-99ad-1e5c380d478a')\"\n",
              "              title=\"Convert this dataframe to an interactive table.\"\n",
              "              style=\"display:none;\">\n",
              "        \n",
              "  <svg xmlns=\"http://www.w3.org/2000/svg\" height=\"24px\"viewBox=\"0 0 24 24\"\n",
              "       width=\"24px\">\n",
              "    <path d=\"M0 0h24v24H0V0z\" fill=\"none\"/>\n",
              "    <path d=\"M18.56 5.44l.94 2.06.94-2.06 2.06-.94-2.06-.94-.94-2.06-.94 2.06-2.06.94zm-11 1L8.5 8.5l.94-2.06 2.06-.94-2.06-.94L8.5 2.5l-.94 2.06-2.06.94zm10 10l.94 2.06.94-2.06 2.06-.94-2.06-.94-.94-2.06-.94 2.06-2.06.94z\"/><path d=\"M17.41 7.96l-1.37-1.37c-.4-.4-.92-.59-1.43-.59-.52 0-1.04.2-1.43.59L10.3 9.45l-7.72 7.72c-.78.78-.78 2.05 0 2.83L4 21.41c.39.39.9.59 1.41.59.51 0 1.02-.2 1.41-.59l7.78-7.78 2.81-2.81c.8-.78.8-2.07 0-2.86zM5.41 20L4 18.59l7.72-7.72 1.47 1.35L5.41 20z\"/>\n",
              "  </svg>\n",
              "      </button>\n",
              "      \n",
              "  <style>\n",
              "    .colab-df-container {\n",
              "      display:flex;\n",
              "      flex-wrap:wrap;\n",
              "      gap: 12px;\n",
              "    }\n",
              "\n",
              "    .colab-df-convert {\n",
              "      background-color: #E8F0FE;\n",
              "      border: none;\n",
              "      border-radius: 50%;\n",
              "      cursor: pointer;\n",
              "      display: none;\n",
              "      fill: #1967D2;\n",
              "      height: 32px;\n",
              "      padding: 0 0 0 0;\n",
              "      width: 32px;\n",
              "    }\n",
              "\n",
              "    .colab-df-convert:hover {\n",
              "      background-color: #E2EBFA;\n",
              "      box-shadow: 0px 1px 2px rgba(60, 64, 67, 0.3), 0px 1px 3px 1px rgba(60, 64, 67, 0.15);\n",
              "      fill: #174EA6;\n",
              "    }\n",
              "\n",
              "    [theme=dark] .colab-df-convert {\n",
              "      background-color: #3B4455;\n",
              "      fill: #D2E3FC;\n",
              "    }\n",
              "\n",
              "    [theme=dark] .colab-df-convert:hover {\n",
              "      background-color: #434B5C;\n",
              "      box-shadow: 0px 1px 3px 1px rgba(0, 0, 0, 0.15);\n",
              "      filter: drop-shadow(0px 1px 2px rgba(0, 0, 0, 0.3));\n",
              "      fill: #FFFFFF;\n",
              "    }\n",
              "  </style>\n",
              "\n",
              "      <script>\n",
              "        const buttonEl =\n",
              "          document.querySelector('#df-7ab21393-0374-42be-99ad-1e5c380d478a button.colab-df-convert');\n",
              "        buttonEl.style.display =\n",
              "          google.colab.kernel.accessAllowed ? 'block' : 'none';\n",
              "\n",
              "        async function convertToInteractive(key) {\n",
              "          const element = document.querySelector('#df-7ab21393-0374-42be-99ad-1e5c380d478a');\n",
              "          const dataTable =\n",
              "            await google.colab.kernel.invokeFunction('convertToInteractive',\n",
              "                                                     [key], {});\n",
              "          if (!dataTable) return;\n",
              "\n",
              "          const docLinkHtml = 'Like what you see? Visit the ' +\n",
              "            '<a target=\"_blank\" href=https://colab.research.google.com/notebooks/data_table.ipynb>data table notebook</a>'\n",
              "            + ' to learn more about interactive tables.';\n",
              "          element.innerHTML = '';\n",
              "          dataTable['output_type'] = 'display_data';\n",
              "          await google.colab.output.renderOutput(dataTable, element);\n",
              "          const docLink = document.createElement('div');\n",
              "          docLink.innerHTML = docLinkHtml;\n",
              "          element.appendChild(docLink);\n",
              "        }\n",
              "      </script>\n",
              "    </div>\n",
              "  </div>\n",
              "  "
            ],
            "text/plain": [
              "   month   trade_value\n",
              "0      1  1.264891e+06\n",
              "1      2  1.483365e+06\n",
              "2      3  1.062731e+06\n",
              "3      4  1.189669e+06\n",
              "4      5  8.004174e+05"
            ]
          },
          "metadata": {},
          "execution_count": 27
        }
      ]
    },
    {
      "cell_type": "markdown",
      "source": [
        "Нарисуем гистрограмму:"
      ],
      "metadata": {
        "id": "HP_tvlwB5sDk"
      }
    },
    {
      "cell_type": "code",
      "source": [
        "plt.figure(figsize=(15, 5))\n",
        "sns.barplot(data=df_bird_angola_fig, x=df_bird_angola_fig['month'], y=\"trade_value\")\n",
        "plt.title('Средние цены на закупаемой Анголой мяса птицы по месяцам 2019')\n",
        "plt.ylabel('Средняя цена')\n",
        "plt.xlabel('Месяц')\n",
        "plt.grid(color='grey', axis='both', alpha=0.5)\n",
        "plt.yticks(np.arange(0, 1900000, 100000))\n",
        "plt.show()"
      ],
      "metadata": {
        "colab": {
          "base_uri": "https://localhost:8080/",
          "height": 350
        },
        "id": "IFJXbXcBXDpV",
        "outputId": "1967ec2d-82dc-4be0-b489-63233aaed79f"
      },
      "execution_count": null,
      "outputs": [
        {
          "output_type": "display_data",
          "data": {
            "image/png": "[encoded data removed]",
            "text/plain": [
              "<Figure size 1080x360 with 1 Axes>"
            ]
          },
          "metadata": {
            "needs_background": "light"
          }
        }
      ]
    },
    {
      "cell_type": "markdown",
      "source": [
        "### Объем поставок в стоимостном выражении продукции из Российской Федерации в первом полугодии"
      ],
      "metadata": {
        "id": "phOJR1SPXDk4"
      }
    },
    {
      "cell_type": "markdown",
      "source": [
        "Определим объем поставок в стоимостном выражении продукции, первые два символа ТН ВЭД которой входят в интервал от 01 до 24 включительно, в Анголу и Антигуа и Барбуда из Российской Федерации в первом полугодии 2019 года."
      ],
      "metadata": {
        "id": "_lxTojPI4i53"
      }
    },
    {
      "cell_type": "markdown",
      "source": [
        "Выполним группировку, а также пройдемся циклом с целью выбрать первые два символа кода ТН ВЭД с диапазоном с 01 до 24:"
      ],
      "metadata": {
        "id": "TmmioYui5vXh"
      }
    },
    {
      "cell_type": "code",
      "source": [
        "df_from_russia = df[(df['commodity_code'].str.startswith(f\"01\")) & (df['partner'] == 'Russian Federation')]\n",
        "for i in range(2, 25):\n",
        "  df_from_russia_i = df[(df['commodity_code'].str.startswith(f\"{i:02d}\")) & (df['partner'] == 'Russian Federation')]\n",
        "  df_from_russia = pd.concat([df_from_russia, df_from_russia_i], ignore_index=True)\n",
        "df_from_russia['month'] = df_from_russia['period'].dt.month\n",
        "df_from_russia = df_from_russia[df_from_russia['month'] <= 6]"
      ],
      "metadata": {
        "id": "lnoq8qQa3G6I"
      },
      "execution_count": null,
      "outputs": []
    },
    {
      "cell_type": "markdown",
      "source": [
        "Посмотрим на таблицу:"
      ],
      "metadata": {
        "id": "xsUaR9hH5-Gw"
      }
    },
    {
      "cell_type": "code",
      "source": [
        "df_from_russia.head()"
      ],
      "metadata": {
        "colab": {
          "base_uri": "https://localhost:8080/",
          "height": 206
        },
        "id": "40xzs2XhACah",
        "outputId": "c5c40bc7-7bf0-4145-f303-6d9094c8c050"
      },
      "execution_count": null,
      "outputs": [
        {
          "output_type": "execute_result",
          "data": {
            "text/html": [
              "\n",
              "  <div id=\"df-ea3582a2-4930-414b-9351-93978561e611\">\n",
              "    <div class=\"colab-df-container\">\n",
              "      <div>\n",
              "<style scoped>\n",
              "    .dataframe tbody tr th:only-of-type {\n",
              "        vertical-align: middle;\n",
              "    }\n",
              "\n",
              "    .dataframe tbody tr th {\n",
              "        vertical-align: top;\n",
              "    }\n",
              "\n",
              "    .dataframe thead th {\n",
              "        text-align: right;\n",
              "    }\n",
              "</style>\n",
              "<table border=\"1\" class=\"dataframe\">\n",
              "  <thead>\n",
              "    <tr style=\"text-align: right;\">\n",
              "      <th></th>\n",
              "      <th>period</th>\n",
              "      <th>aggregate_level</th>\n",
              "      <th>is_leaf_code</th>\n",
              "      <th>trade_flow_code</th>\n",
              "      <th>trade_flow</th>\n",
              "      <th>reporter_code</th>\n",
              "      <th>reporter</th>\n",
              "      <th>partner_code</th>\n",
              "      <th>partner</th>\n",
              "      <th>commodity_code</th>\n",
              "      <th>commodity</th>\n",
              "      <th>netweight</th>\n",
              "      <th>trade_value</th>\n",
              "      <th>month</th>\n",
              "    </tr>\n",
              "  </thead>\n",
              "  <tbody>\n",
              "    <tr>\n",
              "      <th>0</th>\n",
              "      <td>2019-02-01</td>\n",
              "      <td>2</td>\n",
              "      <td>0</td>\n",
              "      <td>1</td>\n",
              "      <td>Import</td>\n",
              "      <td>24</td>\n",
              "      <td>Angola</td>\n",
              "      <td>643</td>\n",
              "      <td>Russian Federation</td>\n",
              "      <td>01</td>\n",
              "      <td>Animals live</td>\n",
              "      <td>0</td>\n",
              "      <td>1204</td>\n",
              "      <td>2</td>\n",
              "    </tr>\n",
              "    <tr>\n",
              "      <th>1</th>\n",
              "      <td>2019-02-01</td>\n",
              "      <td>4</td>\n",
              "      <td>0</td>\n",
              "      <td>1</td>\n",
              "      <td>Import</td>\n",
              "      <td>24</td>\n",
              "      <td>Angola</td>\n",
              "      <td>643</td>\n",
              "      <td>Russian Federation</td>\n",
              "      <td>0106</td>\n",
              "      <td>Animals n.e.s. in chapter 01 live</td>\n",
              "      <td>20</td>\n",
              "      <td>1204</td>\n",
              "      <td>2</td>\n",
              "    </tr>\n",
              "    <tr>\n",
              "      <th>2</th>\n",
              "      <td>2019-02-01</td>\n",
              "      <td>6</td>\n",
              "      <td>1</td>\n",
              "      <td>1</td>\n",
              "      <td>Import</td>\n",
              "      <td>24</td>\n",
              "      <td>Angola</td>\n",
              "      <td>643</td>\n",
              "      <td>Russian Federation</td>\n",
              "      <td>010619</td>\n",
              "      <td>Mammals live other than primates whales dolphi...</td>\n",
              "      <td>20</td>\n",
              "      <td>1204</td>\n",
              "      <td>2</td>\n",
              "    </tr>\n",
              "    <tr>\n",
              "      <th>3</th>\n",
              "      <td>2019-01-01</td>\n",
              "      <td>2</td>\n",
              "      <td>0</td>\n",
              "      <td>1</td>\n",
              "      <td>Import</td>\n",
              "      <td>24</td>\n",
              "      <td>Angola</td>\n",
              "      <td>643</td>\n",
              "      <td>Russian Federation</td>\n",
              "      <td>02</td>\n",
              "      <td>Meat and edible meat offal</td>\n",
              "      <td>0</td>\n",
              "      <td>255872</td>\n",
              "      <td>1</td>\n",
              "    </tr>\n",
              "    <tr>\n",
              "      <th>4</th>\n",
              "      <td>2019-01-01</td>\n",
              "      <td>4</td>\n",
              "      <td>0</td>\n",
              "      <td>1</td>\n",
              "      <td>Import</td>\n",
              "      <td>24</td>\n",
              "      <td>Angola</td>\n",
              "      <td>643</td>\n",
              "      <td>Russian Federation</td>\n",
              "      <td>0202</td>\n",
              "      <td>Meat of bovine animals frozen</td>\n",
              "      <td>13578</td>\n",
              "      <td>71834</td>\n",
              "      <td>1</td>\n",
              "    </tr>\n",
              "  </tbody>\n",
              "</table>\n",
              "</div>\n",
              "      <button class=\"colab-df-convert\" onclick=\"convertToInteractive('df-ea3582a2-4930-414b-9351-93978561e611')\"\n",
              "              title=\"Convert this dataframe to an interactive table.\"\n",
              "              style=\"display:none;\">\n",
              "        \n",
              "  <svg xmlns=\"http://www.w3.org/2000/svg\" height=\"24px\"viewBox=\"0 0 24 24\"\n",
              "       width=\"24px\">\n",
              "    <path d=\"M0 0h24v24H0V0z\" fill=\"none\"/>\n",
              "    <path d=\"M18.56 5.44l.94 2.06.94-2.06 2.06-.94-2.06-.94-.94-2.06-.94 2.06-2.06.94zm-11 1L8.5 8.5l.94-2.06 2.06-.94-2.06-.94L8.5 2.5l-.94 2.06-2.06.94zm10 10l.94 2.06.94-2.06 2.06-.94-2.06-.94-.94-2.06-.94 2.06-2.06.94z\"/><path d=\"M17.41 7.96l-1.37-1.37c-.4-.4-.92-.59-1.43-.59-.52 0-1.04.2-1.43.59L10.3 9.45l-7.72 7.72c-.78.78-.78 2.05 0 2.83L4 21.41c.39.39.9.59 1.41.59.51 0 1.02-.2 1.41-.59l7.78-7.78 2.81-2.81c.8-.78.8-2.07 0-2.86zM5.41 20L4 18.59l7.72-7.72 1.47 1.35L5.41 20z\"/>\n",
              "  </svg>\n",
              "      </button>\n",
              "      \n",
              "  <style>\n",
              "    .colab-df-container {\n",
              "      display:flex;\n",
              "      flex-wrap:wrap;\n",
              "      gap: 12px;\n",
              "    }\n",
              "\n",
              "    .colab-df-convert {\n",
              "      background-color: #E8F0FE;\n",
              "      border: none;\n",
              "      border-radius: 50%;\n",
              "      cursor: pointer;\n",
              "      display: none;\n",
              "      fill: #1967D2;\n",
              "      height: 32px;\n",
              "      padding: 0 0 0 0;\n",
              "      width: 32px;\n",
              "    }\n",
              "\n",
              "    .colab-df-convert:hover {\n",
              "      background-color: #E2EBFA;\n",
              "      box-shadow: 0px 1px 2px rgba(60, 64, 67, 0.3), 0px 1px 3px 1px rgba(60, 64, 67, 0.15);\n",
              "      fill: #174EA6;\n",
              "    }\n",
              "\n",
              "    [theme=dark] .colab-df-convert {\n",
              "      background-color: #3B4455;\n",
              "      fill: #D2E3FC;\n",
              "    }\n",
              "\n",
              "    [theme=dark] .colab-df-convert:hover {\n",
              "      background-color: #434B5C;\n",
              "      box-shadow: 0px 1px 3px 1px rgba(0, 0, 0, 0.15);\n",
              "      filter: drop-shadow(0px 1px 2px rgba(0, 0, 0, 0.3));\n",
              "      fill: #FFFFFF;\n",
              "    }\n",
              "  </style>\n",
              "\n",
              "      <script>\n",
              "        const buttonEl =\n",
              "          document.querySelector('#df-ea3582a2-4930-414b-9351-93978561e611 button.colab-df-convert');\n",
              "        buttonEl.style.display =\n",
              "          google.colab.kernel.accessAllowed ? 'block' : 'none';\n",
              "\n",
              "        async function convertToInteractive(key) {\n",
              "          const element = document.querySelector('#df-ea3582a2-4930-414b-9351-93978561e611');\n",
              "          const dataTable =\n",
              "            await google.colab.kernel.invokeFunction('convertToInteractive',\n",
              "                                                     [key], {});\n",
              "          if (!dataTable) return;\n",
              "\n",
              "          const docLinkHtml = 'Like what you see? Visit the ' +\n",
              "            '<a target=\"_blank\" href=https://colab.research.google.com/notebooks/data_table.ipynb>data table notebook</a>'\n",
              "            + ' to learn more about interactive tables.';\n",
              "          element.innerHTML = '';\n",
              "          dataTable['output_type'] = 'display_data';\n",
              "          await google.colab.output.renderOutput(dataTable, element);\n",
              "          const docLink = document.createElement('div');\n",
              "          docLink.innerHTML = docLinkHtml;\n",
              "          element.appendChild(docLink);\n",
              "        }\n",
              "      </script>\n",
              "    </div>\n",
              "  </div>\n",
              "  "
            ],
            "text/plain": [
              "      period  aggregate_level  is_leaf_code  ...  netweight trade_value  month\n",
              "0 2019-02-01                2             0  ...          0        1204      2\n",
              "1 2019-02-01                4             0  ...         20        1204      2\n",
              "2 2019-02-01                6             1  ...         20        1204      2\n",
              "3 2019-01-01                2             0  ...          0      255872      1\n",
              "4 2019-01-01                4             0  ...      13578       71834      1\n",
              "\n",
              "[5 rows x 14 columns]"
            ]
          },
          "metadata": {},
          "execution_count": 21
        }
      ]
    },
    {
      "cell_type": "markdown",
      "source": [
        "Агрегируем данные и выведем таблицу со стоимостном выражении продукции из РФ:"
      ],
      "metadata": {
        "id": "zcd4PkR66A2A"
      }
    },
    {
      "cell_type": "code",
      "source": [
        "df_from_russia_group = df_from_russia.pivot_table(values='trade_value', index='month', aggfunc='sum').reset_index()"
      ],
      "metadata": {
        "id": "itz7Wlgd-nmP"
      },
      "execution_count": null,
      "outputs": []
    },
    {
      "cell_type": "code",
      "source": [
        "df_from_russia_group"
      ],
      "metadata": {
        "colab": {
          "base_uri": "https://localhost:8080/",
          "height": 206
        },
        "id": "IAFBbj8U3G3T",
        "outputId": "729a10ae-c4a4-4336-90a3-5d45372b89ef"
      },
      "execution_count": null,
      "outputs": [
        {
          "output_type": "execute_result",
          "data": {
            "text/html": [
              "\n",
              "  <div id=\"df-83635032-d864-4ef3-b477-8b048ce12140\">\n",
              "    <div class=\"colab-df-container\">\n",
              "      <div>\n",
              "<style scoped>\n",
              "    .dataframe tbody tr th:only-of-type {\n",
              "        vertical-align: middle;\n",
              "    }\n",
              "\n",
              "    .dataframe tbody tr th {\n",
              "        vertical-align: top;\n",
              "    }\n",
              "\n",
              "    .dataframe thead th {\n",
              "        text-align: right;\n",
              "    }\n",
              "</style>\n",
              "<table border=\"1\" class=\"dataframe\">\n",
              "  <thead>\n",
              "    <tr style=\"text-align: right;\">\n",
              "      <th></th>\n",
              "      <th>month</th>\n",
              "      <th>trade_value</th>\n",
              "    </tr>\n",
              "  </thead>\n",
              "  <tbody>\n",
              "    <tr>\n",
              "      <th>0</th>\n",
              "      <td>1</td>\n",
              "      <td>767616</td>\n",
              "    </tr>\n",
              "    <tr>\n",
              "      <th>1</th>\n",
              "      <td>2</td>\n",
              "      <td>3612</td>\n",
              "    </tr>\n",
              "    <tr>\n",
              "      <th>2</th>\n",
              "      <td>4</td>\n",
              "      <td>889839</td>\n",
              "    </tr>\n",
              "    <tr>\n",
              "      <th>3</th>\n",
              "      <td>5</td>\n",
              "      <td>387</td>\n",
              "    </tr>\n",
              "    <tr>\n",
              "      <th>4</th>\n",
              "      <td>6</td>\n",
              "      <td>110019</td>\n",
              "    </tr>\n",
              "  </tbody>\n",
              "</table>\n",
              "</div>\n",
              "      <button class=\"colab-df-convert\" onclick=\"convertToInteractive('df-83635032-d864-4ef3-b477-8b048ce12140')\"\n",
              "              title=\"Convert this dataframe to an interactive table.\"\n",
              "              style=\"display:none;\">\n",
              "        \n",
              "  <svg xmlns=\"http://www.w3.org/2000/svg\" height=\"24px\"viewBox=\"0 0 24 24\"\n",
              "       width=\"24px\">\n",
              "    <path d=\"M0 0h24v24H0V0z\" fill=\"none\"/>\n",
              "    <path d=\"M18.56 5.44l.94 2.06.94-2.06 2.06-.94-2.06-.94-.94-2.06-.94 2.06-2.06.94zm-11 1L8.5 8.5l.94-2.06 2.06-.94-2.06-.94L8.5 2.5l-.94 2.06-2.06.94zm10 10l.94 2.06.94-2.06 2.06-.94-2.06-.94-.94-2.06-.94 2.06-2.06.94z\"/><path d=\"M17.41 7.96l-1.37-1.37c-.4-.4-.92-.59-1.43-.59-.52 0-1.04.2-1.43.59L10.3 9.45l-7.72 7.72c-.78.78-.78 2.05 0 2.83L4 21.41c.39.39.9.59 1.41.59.51 0 1.02-.2 1.41-.59l7.78-7.78 2.81-2.81c.8-.78.8-2.07 0-2.86zM5.41 20L4 18.59l7.72-7.72 1.47 1.35L5.41 20z\"/>\n",
              "  </svg>\n",
              "      </button>\n",
              "      \n",
              "  <style>\n",
              "    .colab-df-container {\n",
              "      display:flex;\n",
              "      flex-wrap:wrap;\n",
              "      gap: 12px;\n",
              "    }\n",
              "\n",
              "    .colab-df-convert {\n",
              "      background-color: #E8F0FE;\n",
              "      border: none;\n",
              "      border-radius: 50%;\n",
              "      cursor: pointer;\n",
              "      display: none;\n",
              "      fill: #1967D2;\n",
              "      height: 32px;\n",
              "      padding: 0 0 0 0;\n",
              "      width: 32px;\n",
              "    }\n",
              "\n",
              "    .colab-df-convert:hover {\n",
              "      background-color: #E2EBFA;\n",
              "      box-shadow: 0px 1px 2px rgba(60, 64, 67, 0.3), 0px 1px 3px 1px rgba(60, 64, 67, 0.15);\n",
              "      fill: #174EA6;\n",
              "    }\n",
              "\n",
              "    [theme=dark] .colab-df-convert {\n",
              "      background-color: #3B4455;\n",
              "      fill: #D2E3FC;\n",
              "    }\n",
              "\n",
              "    [theme=dark] .colab-df-convert:hover {\n",
              "      background-color: #434B5C;\n",
              "      box-shadow: 0px 1px 3px 1px rgba(0, 0, 0, 0.15);\n",
              "      filter: drop-shadow(0px 1px 2px rgba(0, 0, 0, 0.3));\n",
              "      fill: #FFFFFF;\n",
              "    }\n",
              "  </style>\n",
              "\n",
              "      <script>\n",
              "        const buttonEl =\n",
              "          document.querySelector('#df-83635032-d864-4ef3-b477-8b048ce12140 button.colab-df-convert');\n",
              "        buttonEl.style.display =\n",
              "          google.colab.kernel.accessAllowed ? 'block' : 'none';\n",
              "\n",
              "        async function convertToInteractive(key) {\n",
              "          const element = document.querySelector('#df-83635032-d864-4ef3-b477-8b048ce12140');\n",
              "          const dataTable =\n",
              "            await google.colab.kernel.invokeFunction('convertToInteractive',\n",
              "                                                     [key], {});\n",
              "          if (!dataTable) return;\n",
              "\n",
              "          const docLinkHtml = 'Like what you see? Visit the ' +\n",
              "            '<a target=\"_blank\" href=https://colab.research.google.com/notebooks/data_table.ipynb>data table notebook</a>'\n",
              "            + ' to learn more about interactive tables.';\n",
              "          element.innerHTML = '';\n",
              "          dataTable['output_type'] = 'display_data';\n",
              "          await google.colab.output.renderOutput(dataTable, element);\n",
              "          const docLink = document.createElement('div');\n",
              "          docLink.innerHTML = docLinkHtml;\n",
              "          element.appendChild(docLink);\n",
              "        }\n",
              "      </script>\n",
              "    </div>\n",
              "  </div>\n",
              "  "
            ],
            "text/plain": [
              "   month  trade_value\n",
              "0      1       767616\n",
              "1      2         3612\n",
              "2      4       889839\n",
              "3      5          387\n",
              "4      6       110019"
            ]
          },
          "metadata": {},
          "execution_count": 23
        }
      ]
    },
    {
      "cell_type": "markdown",
      "source": [
        "## Вывод"
      ],
      "metadata": {
        "id": "YqylSuUFAn9D"
      }
    },
    {
      "cell_type": "markdown",
      "source": [
        "- наибольшее количество мясо птицы в марте 2019 года в Анголу поставляла США и Бразилия (19015178 и 5632528 в долларах США соотвественно);\n",
        "- за 2019 год в Анголу поставки распределены в целом равномерно, но наблюдается небольшой спад к лету;\n",
        "- наиболелье количество продукции из РФ поставлено в апреле 2019 года."
      ],
      "metadata": {
        "id": "S9JozHneAn6o"
      }
    }
  ]
}