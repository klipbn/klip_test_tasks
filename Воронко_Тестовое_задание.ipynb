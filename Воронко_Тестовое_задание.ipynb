{
  "cells": [
    {
      "cell_type": "markdown",
      "metadata": {
        "id": "zZzTe2JHIwLq"
      },
      "source": [
        "## Тестовое задание"
      ]
    },
    {
      "cell_type": "markdown",
      "metadata": {
        "id": "Z9oAXk66IwLu"
      },
      "source": [
        "В этом задании вам предстоит поработать с обезличенными транзакциями: посчитать описательные статистики, ответить на содержательные вопросы по данным, выполнить несколько adhoc-запросов."
      ]
    },
    {
      "cell_type": "markdown",
      "metadata": {
        "id": "_O-zLLvnIwLv"
      },
      "source": [
        "Данные к заданию содержатся в файле `trans.xlsx`"
      ]
    },
    {
      "cell_type": "markdown",
      "metadata": {
        "id": "xV42ZxlIIwLv"
      },
      "source": [
        "#### 1. Загрузка данных"
      ]
    },
    {
      "cell_type": "code",
      "execution_count": null,
      "metadata": {
        "id": "sstz7MXjIwLw"
      },
      "outputs": [],
      "source": [
        "### Импорт нужных библиотек\n",
        "import matplotlib.pyplot as plt\n",
        "import seaborn as sns\n",
        "import numpy as np\n",
        "import pandas as pd\n",
        "pd.set_option('display.float_format', '{:.2f}'.format)"
      ]
    },
    {
      "cell_type": "code",
      "execution_count": null,
      "metadata": {
        "id": "ZlJkO6e2IwLx"
      },
      "outputs": [],
      "source": [
        "trans = pd.read_excel('trans.xlsx', engine='openpyxl')"
      ]
    },
    {
      "cell_type": "code",
      "execution_count": null,
      "metadata": {
        "colab": {
          "base_uri": "https://localhost:8080/",
          "height": 206
        },
        "id": "E2juXjpLJD0x",
        "outputId": "5ae59c73-dd2f-4258-ee85-fd52097ac794"
      },
      "outputs": [
        {
          "data": {
            "text/html": [
              "\n",
              "  <div id=\"df-c564750a-e254-4363-a356-0b3cb992427c\">\n",
              "    <div class=\"colab-df-container\">\n",
              "      <div>\n",
              "<style scoped>\n",
              "    .dataframe tbody tr th:only-of-type {\n",
              "        vertical-align: middle;\n",
              "    }\n",
              "\n",
              "    .dataframe tbody tr th {\n",
              "        vertical-align: top;\n",
              "    }\n",
              "\n",
              "    .dataframe thead th {\n",
              "        text-align: right;\n",
              "    }\n",
              "</style>\n",
              "<table border=\"1\" class=\"dataframe\">\n",
              "  <thead>\n",
              "    <tr style=\"text-align: right;\">\n",
              "      <th></th>\n",
              "      <th>city_date</th>\n",
              "      <th>city_time</th>\n",
              "      <th>brand_depers</th>\n",
              "      <th>category_depers</th>\n",
              "      <th>amt_depers</th>\n",
              "    </tr>\n",
              "  </thead>\n",
              "  <tbody>\n",
              "    <tr>\n",
              "      <th>0</th>\n",
              "      <td>2021-01-12</td>\n",
              "      <td>2021-01-12 13:09:22</td>\n",
              "      <td>Бренд 403</td>\n",
              "      <td>Категория 12</td>\n",
              "      <td>165.11</td>\n",
              "    </tr>\n",
              "    <tr>\n",
              "      <th>1</th>\n",
              "      <td>2021-01-24</td>\n",
              "      <td>2021-01-24 12:23:49</td>\n",
              "      <td>Бренд 426</td>\n",
              "      <td>Категория 10</td>\n",
              "      <td>2520.17</td>\n",
              "    </tr>\n",
              "    <tr>\n",
              "      <th>2</th>\n",
              "      <td>2021-01-01</td>\n",
              "      <td>2021-01-01 19:04:06</td>\n",
              "      <td>Бренд 192</td>\n",
              "      <td>Категория 9</td>\n",
              "      <td>737.58</td>\n",
              "    </tr>\n",
              "    <tr>\n",
              "      <th>3</th>\n",
              "      <td>2021-01-04</td>\n",
              "      <td>2021-01-04 15:32:53</td>\n",
              "      <td>Бренд 119</td>\n",
              "      <td>Категория 17</td>\n",
              "      <td>3563.71</td>\n",
              "    </tr>\n",
              "    <tr>\n",
              "      <th>4</th>\n",
              "      <td>2021-01-11</td>\n",
              "      <td>2021-01-11 15:28:53</td>\n",
              "      <td>Бренд 119</td>\n",
              "      <td>Категория 17</td>\n",
              "      <td>5435.01</td>\n",
              "    </tr>\n",
              "  </tbody>\n",
              "</table>\n",
              "</div>\n",
              "      <button class=\"colab-df-convert\" onclick=\"convertToInteractive('df-c564750a-e254-4363-a356-0b3cb992427c')\"\n",
              "              title=\"Convert this dataframe to an interactive table.\"\n",
              "              style=\"display:none;\">\n",
              "        \n",
              "  <svg xmlns=\"http://www.w3.org/2000/svg\" height=\"24px\"viewBox=\"0 0 24 24\"\n",
              "       width=\"24px\">\n",
              "    <path d=\"M0 0h24v24H0V0z\" fill=\"none\"/>\n",
              "    <path d=\"M18.56 5.44l.94 2.06.94-2.06 2.06-.94-2.06-.94-.94-2.06-.94 2.06-2.06.94zm-11 1L8.5 8.5l.94-2.06 2.06-.94-2.06-.94L8.5 2.5l-.94 2.06-2.06.94zm10 10l.94 2.06.94-2.06 2.06-.94-2.06-.94-.94-2.06-.94 2.06-2.06.94z\"/><path d=\"M17.41 7.96l-1.37-1.37c-.4-.4-.92-.59-1.43-.59-.52 0-1.04.2-1.43.59L10.3 9.45l-7.72 7.72c-.78.78-.78 2.05 0 2.83L4 21.41c.39.39.9.59 1.41.59.51 0 1.02-.2 1.41-.59l7.78-7.78 2.81-2.81c.8-.78.8-2.07 0-2.86zM5.41 20L4 18.59l7.72-7.72 1.47 1.35L5.41 20z\"/>\n",
              "  </svg>\n",
              "      </button>\n",
              "      \n",
              "  <style>\n",
              "    .colab-df-container {\n",
              "      display:flex;\n",
              "      flex-wrap:wrap;\n",
              "      gap: 12px;\n",
              "    }\n",
              "\n",
              "    .colab-df-convert {\n",
              "      background-color: #E8F0FE;\n",
              "      border: none;\n",
              "      border-radius: 50%;\n",
              "      cursor: pointer;\n",
              "      display: none;\n",
              "      fill: #1967D2;\n",
              "      height: 32px;\n",
              "      padding: 0 0 0 0;\n",
              "      width: 32px;\n",
              "    }\n",
              "\n",
              "    .colab-df-convert:hover {\n",
              "      background-color: #E2EBFA;\n",
              "      box-shadow: 0px 1px 2px rgba(60, 64, 67, 0.3), 0px 1px 3px 1px rgba(60, 64, 67, 0.15);\n",
              "      fill: #174EA6;\n",
              "    }\n",
              "\n",
              "    [theme=dark] .colab-df-convert {\n",
              "      background-color: #3B4455;\n",
              "      fill: #D2E3FC;\n",
              "    }\n",
              "\n",
              "    [theme=dark] .colab-df-convert:hover {\n",
              "      background-color: #434B5C;\n",
              "      box-shadow: 0px 1px 3px 1px rgba(0, 0, 0, 0.15);\n",
              "      filter: drop-shadow(0px 1px 2px rgba(0, 0, 0, 0.3));\n",
              "      fill: #FFFFFF;\n",
              "    }\n",
              "  </style>\n",
              "\n",
              "      <script>\n",
              "        const buttonEl =\n",
              "          document.querySelector('#df-c564750a-e254-4363-a356-0b3cb992427c button.colab-df-convert');\n",
              "        buttonEl.style.display =\n",
              "          google.colab.kernel.accessAllowed ? 'block' : 'none';\n",
              "\n",
              "        async function convertToInteractive(key) {\n",
              "          const element = document.querySelector('#df-c564750a-e254-4363-a356-0b3cb992427c');\n",
              "          const dataTable =\n",
              "            await google.colab.kernel.invokeFunction('convertToInteractive',\n",
              "                                                     [key], {});\n",
              "          if (!dataTable) return;\n",
              "\n",
              "          const docLinkHtml = 'Like what you see? Visit the ' +\n",
              "            '<a target=\"_blank\" href=https://colab.research.google.com/notebooks/data_table.ipynb>data table notebook</a>'\n",
              "            + ' to learn more about interactive tables.';\n",
              "          element.innerHTML = '';\n",
              "          dataTable['output_type'] = 'display_data';\n",
              "          await google.colab.output.renderOutput(dataTable, element);\n",
              "          const docLink = document.createElement('div');\n",
              "          docLink.innerHTML = docLinkHtml;\n",
              "          element.appendChild(docLink);\n",
              "        }\n",
              "      </script>\n",
              "    </div>\n",
              "  </div>\n",
              "  "
            ],
            "text/plain": [
              "   city_date            city_time brand_depers category_depers  amt_depers\n",
              "0 2021-01-12  2021-01-12 13:09:22    Бренд 403    Категория 12      165.11\n",
              "1 2021-01-24  2021-01-24 12:23:49    Бренд 426    Категория 10     2520.17\n",
              "2 2021-01-01  2021-01-01 19:04:06    Бренд 192     Категория 9      737.58\n",
              "3 2021-01-04  2021-01-04 15:32:53    Бренд 119    Категория 17     3563.71\n",
              "4 2021-01-11  2021-01-11 15:28:53    Бренд 119    Категория 17     5435.01"
            ]
          },
          "execution_count": 5,
          "metadata": {},
          "output_type": "execute_result"
        }
      ],
      "source": [
        "trans.head()"
      ]
    },
    {
      "cell_type": "markdown",
      "metadata": {
        "id": "tzW-EwAPIwLz"
      },
      "source": [
        "* `city_date` - дата совершения покупки\n",
        "* `city_time` - дата и время совершения покупки\n",
        "* `brand_depers` - наименование бренда\n",
        "* `category_depers` - наименование категории\n",
        "* `amt_depers` - сумма покупки, руб."
      ]
    },
    {
      "cell_type": "code",
      "execution_count": null,
      "metadata": {
        "colab": {
          "base_uri": "https://localhost:8080/"
        },
        "id": "Pk7sw620JsGE",
        "outputId": "23b0e76c-e9bd-4dd0-ac40-702632810b8f"
      },
      "outputs": [
        {
          "name": "stdout",
          "output_type": "stream",
          "text": [
            "<class 'pandas.core.frame.DataFrame'>\n",
            "RangeIndex: 5000 entries, 0 to 4999\n",
            "Data columns (total 5 columns):\n",
            " #   Column           Non-Null Count  Dtype         \n",
            "---  ------           --------------  -----         \n",
            " 0   city_date        5000 non-null   datetime64[ns]\n",
            " 1   city_time        5000 non-null   object        \n",
            " 2   brand_depers     5000 non-null   object        \n",
            " 3   category_depers  5000 non-null   object        \n",
            " 4   amt_depers       5000 non-null   float64       \n",
            "dtypes: datetime64[ns](1), float64(1), object(3)\n",
            "memory usage: 195.4+ KB\n"
          ]
        }
      ],
      "source": [
        "trans.info()"
      ]
    },
    {
      "cell_type": "code",
      "execution_count": null,
      "metadata": {
        "colab": {
          "base_uri": "https://localhost:8080/"
        },
        "id": "rjgkG70lPwSF",
        "outputId": "e4f83ec0-3bab-4eed-8b38-93718c653f59"
      },
      "outputs": [
        {
          "data": {
            "text/plain": [
              "0"
            ]
          },
          "execution_count": 7,
          "metadata": {},
          "output_type": "execute_result"
        }
      ],
      "source": [
        "trans.duplicated().sum()"
      ]
    },
    {
      "cell_type": "markdown",
      "metadata": {
        "id": "dhGiDE78IwL0"
      },
      "source": [
        "#### 2. Описательные статистики"
      ]
    },
    {
      "cell_type": "markdown",
      "metadata": {
        "id": "AqYGffeSIwL1"
      },
      "source": [
        "За какой период представлены данные?"
      ]
    },
    {
      "cell_type": "code",
      "execution_count": null,
      "metadata": {
        "colab": {
          "base_uri": "https://localhost:8080/",
          "height": 35
        },
        "id": "UtHMdHnmIwL1",
        "outputId": "01d86e65-35ef-4e9b-99e1-0540d4ea99ec"
      },
      "outputs": [
        {
          "data": {
            "application/vnd.google.colaboratory.intrinsic+json": {
              "type": "string"
            },
            "text/plain": [
              "'В нашем датасете представлены данные с 2021-01-01 01:10:15 по 2021-01-31 23:42:36'"
            ]
          },
          "execution_count": 8,
          "metadata": {},
          "output_type": "execute_result"
        }
      ],
      "source": [
        "f\"В нашем датасете представлены данные с {trans['city_time'].min()} по {trans['city_time'].max()}\""
      ]
    },
    {
      "cell_type": "markdown",
      "metadata": {
        "id": "nHdy2sYSIwL2"
      },
      "source": [
        "Вычислите среднее арифметическое, медиану, максимум, минимум и стандартное отклонение для `amt_depers`"
      ]
    },
    {
      "cell_type": "markdown",
      "metadata": {
        "id": "6REog5WuMank"
      },
      "source": [
        "Выведем при помощи `describe`:"
      ]
    },
    {
      "cell_type": "code",
      "execution_count": null,
      "metadata": {
        "colab": {
          "base_uri": "https://localhost:8080/"
        },
        "id": "On3Kh07cIwL2",
        "outputId": "1cbde379-c398-4a2e-b70a-db4f37f8c89e"
      },
      "outputs": [
        {
          "data": {
            "text/plain": [
              "count     5000.00\n",
              "mean      1733.62\n",
              "std       5004.72\n",
              "min          0.92\n",
              "25%        180.80\n",
              "50%        500.70\n",
              "75%       1516.17\n",
              "max     117752.13\n",
              "Name: amt_depers, dtype: float64"
            ]
          },
          "execution_count": 9,
          "metadata": {},
          "output_type": "execute_result"
        }
      ],
      "source": [
        "trans['amt_depers'].describe()"
      ]
    },
    {
      "cell_type": "markdown",
      "metadata": {
        "id": "1xwxXa6jMhnK"
      },
      "source": [
        "Создадим таблицу со значениями:"
      ]
    },
    {
      "cell_type": "code",
      "execution_count": null,
      "metadata": {
        "colab": {
          "base_uri": "https://localhost:8080/",
          "height": 206
        },
        "id": "U3wRfmh2Ld0b",
        "outputId": "59cc6ffc-88b9-4bbf-fd1a-5e5de36fe2b9"
      },
      "outputs": [
        {
          "data": {
            "text/html": [
              "\n",
              "  <div id=\"df-eed19352-0bdd-4b60-911a-956902a7c1e4\">\n",
              "    <div class=\"colab-df-container\">\n",
              "      <div>\n",
              "<style scoped>\n",
              "    .dataframe tbody tr th:only-of-type {\n",
              "        vertical-align: middle;\n",
              "    }\n",
              "\n",
              "    .dataframe tbody tr th {\n",
              "        vertical-align: top;\n",
              "    }\n",
              "\n",
              "    .dataframe thead th {\n",
              "        text-align: right;\n",
              "    }\n",
              "</style>\n",
              "<table border=\"1\" class=\"dataframe\">\n",
              "  <thead>\n",
              "    <tr style=\"text-align: right;\">\n",
              "      <th></th>\n",
              "      <th>Параметр</th>\n",
              "      <th>amt_depers_metrics</th>\n",
              "    </tr>\n",
              "  </thead>\n",
              "  <tbody>\n",
              "    <tr>\n",
              "      <th>0</th>\n",
              "      <td>Среднее</td>\n",
              "      <td>1733.62</td>\n",
              "    </tr>\n",
              "    <tr>\n",
              "      <th>1</th>\n",
              "      <td>Медиана</td>\n",
              "      <td>500.70</td>\n",
              "    </tr>\n",
              "    <tr>\n",
              "      <th>2</th>\n",
              "      <td>Максимум</td>\n",
              "      <td>117752.13</td>\n",
              "    </tr>\n",
              "    <tr>\n",
              "      <th>3</th>\n",
              "      <td>Минимум</td>\n",
              "      <td>0.92</td>\n",
              "    </tr>\n",
              "    <tr>\n",
              "      <th>4</th>\n",
              "      <td>Стандартное отклоенения</td>\n",
              "      <td>5004.22</td>\n",
              "    </tr>\n",
              "  </tbody>\n",
              "</table>\n",
              "</div>\n",
              "      <button class=\"colab-df-convert\" onclick=\"convertToInteractive('df-eed19352-0bdd-4b60-911a-956902a7c1e4')\"\n",
              "              title=\"Convert this dataframe to an interactive table.\"\n",
              "              style=\"display:none;\">\n",
              "        \n",
              "  <svg xmlns=\"http://www.w3.org/2000/svg\" height=\"24px\"viewBox=\"0 0 24 24\"\n",
              "       width=\"24px\">\n",
              "    <path d=\"M0 0h24v24H0V0z\" fill=\"none\"/>\n",
              "    <path d=\"M18.56 5.44l.94 2.06.94-2.06 2.06-.94-2.06-.94-.94-2.06-.94 2.06-2.06.94zm-11 1L8.5 8.5l.94-2.06 2.06-.94-2.06-.94L8.5 2.5l-.94 2.06-2.06.94zm10 10l.94 2.06.94-2.06 2.06-.94-2.06-.94-.94-2.06-.94 2.06-2.06.94z\"/><path d=\"M17.41 7.96l-1.37-1.37c-.4-.4-.92-.59-1.43-.59-.52 0-1.04.2-1.43.59L10.3 9.45l-7.72 7.72c-.78.78-.78 2.05 0 2.83L4 21.41c.39.39.9.59 1.41.59.51 0 1.02-.2 1.41-.59l7.78-7.78 2.81-2.81c.8-.78.8-2.07 0-2.86zM5.41 20L4 18.59l7.72-7.72 1.47 1.35L5.41 20z\"/>\n",
              "  </svg>\n",
              "      </button>\n",
              "      \n",
              "  <style>\n",
              "    .colab-df-container {\n",
              "      display:flex;\n",
              "      flex-wrap:wrap;\n",
              "      gap: 12px;\n",
              "    }\n",
              "\n",
              "    .colab-df-convert {\n",
              "      background-color: #E8F0FE;\n",
              "      border: none;\n",
              "      border-radius: 50%;\n",
              "      cursor: pointer;\n",
              "      display: none;\n",
              "      fill: #1967D2;\n",
              "      height: 32px;\n",
              "      padding: 0 0 0 0;\n",
              "      width: 32px;\n",
              "    }\n",
              "\n",
              "    .colab-df-convert:hover {\n",
              "      background-color: #E2EBFA;\n",
              "      box-shadow: 0px 1px 2px rgba(60, 64, 67, 0.3), 0px 1px 3px 1px rgba(60, 64, 67, 0.15);\n",
              "      fill: #174EA6;\n",
              "    }\n",
              "\n",
              "    [theme=dark] .colab-df-convert {\n",
              "      background-color: #3B4455;\n",
              "      fill: #D2E3FC;\n",
              "    }\n",
              "\n",
              "    [theme=dark] .colab-df-convert:hover {\n",
              "      background-color: #434B5C;\n",
              "      box-shadow: 0px 1px 3px 1px rgba(0, 0, 0, 0.15);\n",
              "      filter: drop-shadow(0px 1px 2px rgba(0, 0, 0, 0.3));\n",
              "      fill: #FFFFFF;\n",
              "    }\n",
              "  </style>\n",
              "\n",
              "      <script>\n",
              "        const buttonEl =\n",
              "          document.querySelector('#df-eed19352-0bdd-4b60-911a-956902a7c1e4 button.colab-df-convert');\n",
              "        buttonEl.style.display =\n",
              "          google.colab.kernel.accessAllowed ? 'block' : 'none';\n",
              "\n",
              "        async function convertToInteractive(key) {\n",
              "          const element = document.querySelector('#df-eed19352-0bdd-4b60-911a-956902a7c1e4');\n",
              "          const dataTable =\n",
              "            await google.colab.kernel.invokeFunction('convertToInteractive',\n",
              "                                                     [key], {});\n",
              "          if (!dataTable) return;\n",
              "\n",
              "          const docLinkHtml = 'Like what you see? Visit the ' +\n",
              "            '<a target=\"_blank\" href=https://colab.research.google.com/notebooks/data_table.ipynb>data table notebook</a>'\n",
              "            + ' to learn more about interactive tables.';\n",
              "          element.innerHTML = '';\n",
              "          dataTable['output_type'] = 'display_data';\n",
              "          await google.colab.output.renderOutput(dataTable, element);\n",
              "          const docLink = document.createElement('div');\n",
              "          docLink.innerHTML = docLinkHtml;\n",
              "          element.appendChild(docLink);\n",
              "        }\n",
              "      </script>\n",
              "    </div>\n",
              "  </div>\n",
              "  "
            ],
            "text/plain": [
              "                  Параметр  amt_depers_metrics\n",
              "0                  Среднее             1733.62\n",
              "1                  Медиана              500.70\n",
              "2                 Максимум           117752.13\n",
              "3                  Минимум                0.92\n",
              "4  Стандартное отклоенения             5004.22"
            ]
          },
          "execution_count": 10,
          "metadata": {},
          "output_type": "execute_result"
        }
      ],
      "source": [
        "amt_depers_describe = pd.DataFrame(\n",
        "    {'Параметр' : ['Среднее', 'Медиана', 'Максимум', 'Минимум', 'Стандартное отклоенения'],\n",
        "     'amt_depers_metrics' : [round(np.mean(trans['amt_depers']), 2),\n",
        "                     round(np.median(trans['amt_depers']), 2),\n",
        "                     round(np.max(trans['amt_depers']), 2),\n",
        "                     round(np.min(trans['amt_depers']), 2),\n",
        "                     round(np.std(trans['amt_depers']), 2)\n",
        "                     ]\n",
        "    }\n",
        ")\n",
        "amt_depers_describe"
      ]
    },
    {
      "cell_type": "markdown",
      "metadata": {
        "id": "Dku_Dff8IwL2"
      },
      "source": [
        "Постройте гистограмму распределения `amt_depers`. Подпишите оси графика."
      ]
    },
    {
      "cell_type": "code",
      "execution_count": null,
      "metadata": {
        "colab": {
          "base_uri": "https://localhost:8080/",
          "height": 350
        },
        "id": "QENv5G3FNDyr",
        "outputId": "15a3242b-cca4-4b17-f8ab-daf9ddcf9466"
      },
      "outputs": [
        {
          "data": {
            "image/png": "[encoded data removed]",
            "text/plain": [
              "<Figure size 1080x360 with 1 Axes>"
            ]
          },
          "metadata": {
            "needs_background": "light"
          },
          "output_type": "display_data"
        }
      ],
      "source": [
        "plt.figure(figsize=(15, 5))\n",
        "trans['amt_depers'].plot(kind='hist', bins=35)\n",
        "plt.title('Распределение суммы покупок')\n",
        "plt.ylabel('Количество покупок')\n",
        "plt.xlabel('Сумма, руб.')\n",
        "plt.grid(color='grey', axis='both', alpha=0.5)\n",
        "plt.yticks(np.arange(0, 5000, 500))\n",
        "plt.xticks(np.arange(0, 120000, 10000))\n",
        "plt.show()"
      ]
    },
    {
      "cell_type": "markdown",
      "metadata": {
        "id": "X5oSRYD_IwL3"
      },
      "source": [
        "Есть ли в  `amt_depers` выбросы?"
      ]
    },
    {
      "cell_type": "code",
      "execution_count": null,
      "metadata": {
        "colab": {
          "base_uri": "https://localhost:8080/",
          "height": 187
        },
        "id": "D22Xtv9eIwL3",
        "outputId": "0790f5b6-2be4-4202-cc5e-be79c973fb51"
      },
      "outputs": [
        {
          "data": {
            "image/png": "[encoded data removed]",
            "text/plain": [
              "<Figure size 1440x144 with 1 Axes>"
            ]
          },
          "metadata": {
            "needs_background": "light"
          },
          "output_type": "display_data"
        }
      ],
      "source": [
        "trans.boxplot(column='amt_depers', vert=0, figsize=(20, 2))\n",
        "plt.title('Диаграмма размаха суммы покупок')\n",
        "plt.xlabel('Сумма, руб.')\n",
        "plt.grid(color='grey', axis='both', alpha=0.5)\n",
        "plt.xticks(np.arange(0, 120000, 10000))\n",
        "plt.show()"
      ]
    },
    {
      "cell_type": "markdown",
      "metadata": {
        "id": "NwpxwHSeIwL4"
      },
      "source": [
        "Если да, удалите их и постройте гистограмму заново"
      ]
    },
    {
      "cell_type": "code",
      "execution_count": null,
      "metadata": {
        "id": "fR5Vc7JJIwL4"
      },
      "outputs": [],
      "source": [
        "trans['amt_depers'] = trans['amt_depers'][trans['amt_depers'] < np.percentile(trans['amt_depers'], 95)]"
      ]
    },
    {
      "cell_type": "code",
      "execution_count": null,
      "metadata": {
        "colab": {
          "base_uri": "https://localhost:8080/",
          "height": 350
        },
        "id": "V6kfl0m0PCze",
        "outputId": "bb678e57-e19b-4edb-a8b7-7989c4e54c8c"
      },
      "outputs": [
        {
          "data": {
            "image/png": "[encoded data removed]",
            "text/plain": [
              "<Figure size 1080x360 with 1 Axes>"
            ]
          },
          "metadata": {
            "needs_background": "light"
          },
          "output_type": "display_data"
        }
      ],
      "source": [
        "plt.figure(figsize=(15, 5))\n",
        "trans['amt_depers'].plot(kind='hist', bins=35)\n",
        "plt.title('Распределение суммы покупок')\n",
        "plt.ylabel('Количество покупок')\n",
        "plt.xlabel('Сумма, руб.')\n",
        "plt.grid(color='grey', axis='both', alpha=0.5)\n",
        "plt.yticks(np.arange(0, 1500, 100))\n",
        "plt.xticks(np.arange(0, 10000, 1000))\n",
        "plt.show()"
      ]
    },
    {
      "cell_type": "markdown",
      "metadata": {
        "id": "X_vhkkn-IwL4"
      },
      "source": [
        "Сколько в транзакционных данных уникальных брендов?"
      ]
    },
    {
      "cell_type": "code",
      "execution_count": null,
      "metadata": {
        "colab": {
          "base_uri": "https://localhost:8080/",
          "height": 35
        },
        "id": "Y7OblBQlIwL5",
        "outputId": "24a9b1d6-e533-4220-c0d9-9e2318ad4846"
      },
      "outputs": [
        {
          "data": {
            "application/vnd.google.colaboratory.intrinsic+json": {
              "type": "string"
            },
            "text/plain": [
              "'Количество уникальных брендов: 317'"
            ]
          },
          "execution_count": 15,
          "metadata": {},
          "output_type": "execute_result"
        }
      ],
      "source": [
        "f\"Количество уникальных брендов: {len(trans['brand_depers'].unique())}\""
      ]
    },
    {
      "cell_type": "markdown",
      "metadata": {
        "id": "77lvDqLwIwL5"
      },
      "source": [
        "А сколько уникальных категорий?"
      ]
    },
    {
      "cell_type": "code",
      "execution_count": null,
      "metadata": {
        "colab": {
          "base_uri": "https://localhost:8080/",
          "height": 35
        },
        "id": "tnDHaAaxIwL5",
        "outputId": "ae24edad-2c1c-4f42-f428-eca7caeaded8"
      },
      "outputs": [
        {
          "data": {
            "application/vnd.google.colaboratory.intrinsic+json": {
              "type": "string"
            },
            "text/plain": [
              "'Количество уникальных категорий: 23'"
            ]
          },
          "execution_count": 16,
          "metadata": {},
          "output_type": "execute_result"
        }
      ],
      "source": [
        "f\"Количество уникальных категорий: {len(trans['category_depers'].unique())}\""
      ]
    },
    {
      "cell_type": "markdown",
      "metadata": {
        "id": "ww81bxa7IwL5"
      },
      "source": [
        "В какой день было совершено больше всего покупок?"
      ]
    },
    {
      "cell_type": "code",
      "execution_count": null,
      "metadata": {
        "colab": {
          "base_uri": "https://localhost:8080/",
          "height": 81
        },
        "id": "Qky1oAg-IwL6",
        "outputId": "17d7fc02-447f-49ea-ffde-6fa8db28bf76"
      },
      "outputs": [
        {
          "data": {
            "text/html": [
              "\n",
              "  <div id=\"df-e0f16ecf-e547-44ee-ab7e-9a50866c5a9e\">\n",
              "    <div class=\"colab-df-container\">\n",
              "      <div>\n",
              "<style scoped>\n",
              "    .dataframe tbody tr th:only-of-type {\n",
              "        vertical-align: middle;\n",
              "    }\n",
              "\n",
              "    .dataframe tbody tr th {\n",
              "        vertical-align: top;\n",
              "    }\n",
              "\n",
              "    .dataframe thead th {\n",
              "        text-align: right;\n",
              "    }\n",
              "</style>\n",
              "<table border=\"1\" class=\"dataframe\">\n",
              "  <thead>\n",
              "    <tr style=\"text-align: right;\">\n",
              "      <th></th>\n",
              "      <th>city_date</th>\n",
              "      <th>Количество_покупок</th>\n",
              "    </tr>\n",
              "  </thead>\n",
              "  <tbody>\n",
              "    <tr>\n",
              "      <th>0</th>\n",
              "      <td>2021-01-03</td>\n",
              "      <td>238</td>\n",
              "    </tr>\n",
              "  </tbody>\n",
              "</table>\n",
              "</div>\n",
              "      <button class=\"colab-df-convert\" onclick=\"convertToInteractive('df-e0f16ecf-e547-44ee-ab7e-9a50866c5a9e')\"\n",
              "              title=\"Convert this dataframe to an interactive table.\"\n",
              "              style=\"display:none;\">\n",
              "        \n",
              "  <svg xmlns=\"http://www.w3.org/2000/svg\" height=\"24px\"viewBox=\"0 0 24 24\"\n",
              "       width=\"24px\">\n",
              "    <path d=\"M0 0h24v24H0V0z\" fill=\"none\"/>\n",
              "    <path d=\"M18.56 5.44l.94 2.06.94-2.06 2.06-.94-2.06-.94-.94-2.06-.94 2.06-2.06.94zm-11 1L8.5 8.5l.94-2.06 2.06-.94-2.06-.94L8.5 2.5l-.94 2.06-2.06.94zm10 10l.94 2.06.94-2.06 2.06-.94-2.06-.94-.94-2.06-.94 2.06-2.06.94z\"/><path d=\"M17.41 7.96l-1.37-1.37c-.4-.4-.92-.59-1.43-.59-.52 0-1.04.2-1.43.59L10.3 9.45l-7.72 7.72c-.78.78-.78 2.05 0 2.83L4 21.41c.39.39.9.59 1.41.59.51 0 1.02-.2 1.41-.59l7.78-7.78 2.81-2.81c.8-.78.8-2.07 0-2.86zM5.41 20L4 18.59l7.72-7.72 1.47 1.35L5.41 20z\"/>\n",
              "  </svg>\n",
              "      </button>\n",
              "      \n",
              "  <style>\n",
              "    .colab-df-container {\n",
              "      display:flex;\n",
              "      flex-wrap:wrap;\n",
              "      gap: 12px;\n",
              "    }\n",
              "\n",
              "    .colab-df-convert {\n",
              "      background-color: #E8F0FE;\n",
              "      border: none;\n",
              "      border-radius: 50%;\n",
              "      cursor: pointer;\n",
              "      display: none;\n",
              "      fill: #1967D2;\n",
              "      height: 32px;\n",
              "      padding: 0 0 0 0;\n",
              "      width: 32px;\n",
              "    }\n",
              "\n",
              "    .colab-df-convert:hover {\n",
              "      background-color: #E2EBFA;\n",
              "      box-shadow: 0px 1px 2px rgba(60, 64, 67, 0.3), 0px 1px 3px 1px rgba(60, 64, 67, 0.15);\n",
              "      fill: #174EA6;\n",
              "    }\n",
              "\n",
              "    [theme=dark] .colab-df-convert {\n",
              "      background-color: #3B4455;\n",
              "      fill: #D2E3FC;\n",
              "    }\n",
              "\n",
              "    [theme=dark] .colab-df-convert:hover {\n",
              "      background-color: #434B5C;\n",
              "      box-shadow: 0px 1px 3px 1px rgba(0, 0, 0, 0.15);\n",
              "      filter: drop-shadow(0px 1px 2px rgba(0, 0, 0, 0.3));\n",
              "      fill: #FFFFFF;\n",
              "    }\n",
              "  </style>\n",
              "\n",
              "      <script>\n",
              "        const buttonEl =\n",
              "          document.querySelector('#df-e0f16ecf-e547-44ee-ab7e-9a50866c5a9e button.colab-df-convert');\n",
              "        buttonEl.style.display =\n",
              "          google.colab.kernel.accessAllowed ? 'block' : 'none';\n",
              "\n",
              "        async function convertToInteractive(key) {\n",
              "          const element = document.querySelector('#df-e0f16ecf-e547-44ee-ab7e-9a50866c5a9e');\n",
              "          const dataTable =\n",
              "            await google.colab.kernel.invokeFunction('convertToInteractive',\n",
              "                                                     [key], {});\n",
              "          if (!dataTable) return;\n",
              "\n",
              "          const docLinkHtml = 'Like what you see? Visit the ' +\n",
              "            '<a target=\"_blank\" href=https://colab.research.google.com/notebooks/data_table.ipynb>data table notebook</a>'\n",
              "            + ' to learn more about interactive tables.';\n",
              "          element.innerHTML = '';\n",
              "          dataTable['output_type'] = 'display_data';\n",
              "          await google.colab.output.renderOutput(dataTable, element);\n",
              "          const docLink = document.createElement('div');\n",
              "          docLink.innerHTML = docLinkHtml;\n",
              "          element.appendChild(docLink);\n",
              "        }\n",
              "      </script>\n",
              "    </div>\n",
              "  </div>\n",
              "  "
            ],
            "text/plain": [
              "   city_date  Количество_покупок\n",
              "0 2021-01-03                 238"
            ]
          },
          "execution_count": 17,
          "metadata": {},
          "output_type": "execute_result"
        }
      ],
      "source": [
        "trans.groupby('city_date')['city_date'].agg(['count']).sort_values(\n",
        "    by='count', ascending=False).reset_index().rename(\n",
        "        columns = {'count': 'Количество_покупок'}).head(1)"
      ]
    },
    {
      "cell_type": "markdown",
      "metadata": {
        "id": "NmezxgduIwL6"
      },
      "source": [
        "А меньше всего покупок?"
      ]
    },
    {
      "cell_type": "code",
      "execution_count": null,
      "metadata": {
        "colab": {
          "base_uri": "https://localhost:8080/",
          "height": 81
        },
        "id": "vftmhWG7IwL6",
        "outputId": "b537ac40-99ce-4892-93e4-12fda638c886"
      },
      "outputs": [
        {
          "data": {
            "text/html": [
              "\n",
              "  <div id=\"df-40330d3b-3fae-4a50-9ca5-3b822acab0df\">\n",
              "    <div class=\"colab-df-container\">\n",
              "      <div>\n",
              "<style scoped>\n",
              "    .dataframe tbody tr th:only-of-type {\n",
              "        vertical-align: middle;\n",
              "    }\n",
              "\n",
              "    .dataframe tbody tr th {\n",
              "        vertical-align: top;\n",
              "    }\n",
              "\n",
              "    .dataframe thead th {\n",
              "        text-align: right;\n",
              "    }\n",
              "</style>\n",
              "<table border=\"1\" class=\"dataframe\">\n",
              "  <thead>\n",
              "    <tr style=\"text-align: right;\">\n",
              "      <th></th>\n",
              "      <th>city_date</th>\n",
              "      <th>Количество_покупок</th>\n",
              "    </tr>\n",
              "  </thead>\n",
              "  <tbody>\n",
              "    <tr>\n",
              "      <th>30</th>\n",
              "      <td>2021-01-18</td>\n",
              "      <td>98</td>\n",
              "    </tr>\n",
              "  </tbody>\n",
              "</table>\n",
              "</div>\n",
              "      <button class=\"colab-df-convert\" onclick=\"convertToInteractive('df-40330d3b-3fae-4a50-9ca5-3b822acab0df')\"\n",
              "              title=\"Convert this dataframe to an interactive table.\"\n",
              "              style=\"display:none;\">\n",
              "        \n",
              "  <svg xmlns=\"http://www.w3.org/2000/svg\" height=\"24px\"viewBox=\"0 0 24 24\"\n",
              "       width=\"24px\">\n",
              "    <path d=\"M0 0h24v24H0V0z\" fill=\"none\"/>\n",
              "    <path d=\"M18.56 5.44l.94 2.06.94-2.06 2.06-.94-2.06-.94-.94-2.06-.94 2.06-2.06.94zm-11 1L8.5 8.5l.94-2.06 2.06-.94-2.06-.94L8.5 2.5l-.94 2.06-2.06.94zm10 10l.94 2.06.94-2.06 2.06-.94-2.06-.94-.94-2.06-.94 2.06-2.06.94z\"/><path d=\"M17.41 7.96l-1.37-1.37c-.4-.4-.92-.59-1.43-.59-.52 0-1.04.2-1.43.59L10.3 9.45l-7.72 7.72c-.78.78-.78 2.05 0 2.83L4 21.41c.39.39.9.59 1.41.59.51 0 1.02-.2 1.41-.59l7.78-7.78 2.81-2.81c.8-.78.8-2.07 0-2.86zM5.41 20L4 18.59l7.72-7.72 1.47 1.35L5.41 20z\"/>\n",
              "  </svg>\n",
              "      </button>\n",
              "      \n",
              "  <style>\n",
              "    .colab-df-container {\n",
              "      display:flex;\n",
              "      flex-wrap:wrap;\n",
              "      gap: 12px;\n",
              "    }\n",
              "\n",
              "    .colab-df-convert {\n",
              "      background-color: #E8F0FE;\n",
              "      border: none;\n",
              "      border-radius: 50%;\n",
              "      cursor: pointer;\n",
              "      display: none;\n",
              "      fill: #1967D2;\n",
              "      height: 32px;\n",
              "      padding: 0 0 0 0;\n",
              "      width: 32px;\n",
              "    }\n",
              "\n",
              "    .colab-df-convert:hover {\n",
              "      background-color: #E2EBFA;\n",
              "      box-shadow: 0px 1px 2px rgba(60, 64, 67, 0.3), 0px 1px 3px 1px rgba(60, 64, 67, 0.15);\n",
              "      fill: #174EA6;\n",
              "    }\n",
              "\n",
              "    [theme=dark] .colab-df-convert {\n",
              "      background-color: #3B4455;\n",
              "      fill: #D2E3FC;\n",
              "    }\n",
              "\n",
              "    [theme=dark] .colab-df-convert:hover {\n",
              "      background-color: #434B5C;\n",
              "      box-shadow: 0px 1px 3px 1px rgba(0, 0, 0, 0.15);\n",
              "      filter: drop-shadow(0px 1px 2px rgba(0, 0, 0, 0.3));\n",
              "      fill: #FFFFFF;\n",
              "    }\n",
              "  </style>\n",
              "\n",
              "      <script>\n",
              "        const buttonEl =\n",
              "          document.querySelector('#df-40330d3b-3fae-4a50-9ca5-3b822acab0df button.colab-df-convert');\n",
              "        buttonEl.style.display =\n",
              "          google.colab.kernel.accessAllowed ? 'block' : 'none';\n",
              "\n",
              "        async function convertToInteractive(key) {\n",
              "          const element = document.querySelector('#df-40330d3b-3fae-4a50-9ca5-3b822acab0df');\n",
              "          const dataTable =\n",
              "            await google.colab.kernel.invokeFunction('convertToInteractive',\n",
              "                                                     [key], {});\n",
              "          if (!dataTable) return;\n",
              "\n",
              "          const docLinkHtml = 'Like what you see? Visit the ' +\n",
              "            '<a target=\"_blank\" href=https://colab.research.google.com/notebooks/data_table.ipynb>data table notebook</a>'\n",
              "            + ' to learn more about interactive tables.';\n",
              "          element.innerHTML = '';\n",
              "          dataTable['output_type'] = 'display_data';\n",
              "          await google.colab.output.renderOutput(dataTable, element);\n",
              "          const docLink = document.createElement('div');\n",
              "          docLink.innerHTML = docLinkHtml;\n",
              "          element.appendChild(docLink);\n",
              "        }\n",
              "      </script>\n",
              "    </div>\n",
              "  </div>\n",
              "  "
            ],
            "text/plain": [
              "    city_date  Количество_покупок\n",
              "30 2021-01-18                  98"
            ]
          },
          "execution_count": 18,
          "metadata": {},
          "output_type": "execute_result"
        }
      ],
      "source": [
        "trans.groupby('city_date')['city_date'].agg(['count']).sort_values(\n",
        "    by='count', ascending=False).reset_index().rename(\n",
        "        columns = {'count': 'Количество_покупок'}).tail(1)"
      ]
    },
    {
      "cell_type": "markdown",
      "metadata": {
        "id": "bWwxipsdIwL6"
      },
      "source": [
        "Добавьте к данным информацию о типе дня недели: рабочий или выходной (это можно сделать, используя встроенные функции pandas). Выведите количество и сумму покупок в рабочие и в выходные дни. "
      ]
    },
    {
      "cell_type": "code",
      "execution_count": null,
      "metadata": {
        "id": "OHRUCQw6R93G"
      },
      "outputs": [],
      "source": [
        "def weekday(row):\n",
        "  if row['city_date'].dayofweek >= 5:\n",
        "    return 'Выходной день'\n",
        "  else:\n",
        "    return 'Рабочий день'"
      ]
    },
    {
      "cell_type": "code",
      "execution_count": null,
      "metadata": {
        "id": "e6obNI68SThk"
      },
      "outputs": [],
      "source": [
        "trans['weekday'] = trans.apply(weekday, axis=1)"
      ]
    },
    {
      "cell_type": "code",
      "execution_count": null,
      "metadata": {
        "colab": {
          "base_uri": "https://localhost:8080/",
          "height": 112
        },
        "id": "YMPPC_lLWEDW",
        "outputId": "9b0259be-e3f9-4419-ef14-b7278bd870b7"
      },
      "outputs": [
        {
          "data": {
            "text/html": [
              "\n",
              "  <div id=\"df-710a9d63-2dee-4f70-b5fa-460fde32a640\">\n",
              "    <div class=\"colab-df-container\">\n",
              "      <div>\n",
              "<style scoped>\n",
              "    .dataframe tbody tr th:only-of-type {\n",
              "        vertical-align: middle;\n",
              "    }\n",
              "\n",
              "    .dataframe tbody tr th {\n",
              "        vertical-align: top;\n",
              "    }\n",
              "\n",
              "    .dataframe thead th {\n",
              "        text-align: right;\n",
              "    }\n",
              "</style>\n",
              "<table border=\"1\" class=\"dataframe\">\n",
              "  <thead>\n",
              "    <tr style=\"text-align: right;\">\n",
              "      <th></th>\n",
              "      <th>weekday</th>\n",
              "      <th>Количество_покупок</th>\n",
              "      <th>Сумма_покупок</th>\n",
              "    </tr>\n",
              "  </thead>\n",
              "  <tbody>\n",
              "    <tr>\n",
              "      <th>0</th>\n",
              "      <td>Выходной день</td>\n",
              "      <td>1900</td>\n",
              "      <td>1979092.54</td>\n",
              "    </tr>\n",
              "    <tr>\n",
              "      <th>1</th>\n",
              "      <td>Рабочий день</td>\n",
              "      <td>2850</td>\n",
              "      <td>2741733.83</td>\n",
              "    </tr>\n",
              "  </tbody>\n",
              "</table>\n",
              "</div>\n",
              "      <button class=\"colab-df-convert\" onclick=\"convertToInteractive('df-710a9d63-2dee-4f70-b5fa-460fde32a640')\"\n",
              "              title=\"Convert this dataframe to an interactive table.\"\n",
              "              style=\"display:none;\">\n",
              "        \n",
              "  <svg xmlns=\"http://www.w3.org/2000/svg\" height=\"24px\"viewBox=\"0 0 24 24\"\n",
              "       width=\"24px\">\n",
              "    <path d=\"M0 0h24v24H0V0z\" fill=\"none\"/>\n",
              "    <path d=\"M18.56 5.44l.94 2.06.94-2.06 2.06-.94-2.06-.94-.94-2.06-.94 2.06-2.06.94zm-11 1L8.5 8.5l.94-2.06 2.06-.94-2.06-.94L8.5 2.5l-.94 2.06-2.06.94zm10 10l.94 2.06.94-2.06 2.06-.94-2.06-.94-.94-2.06-.94 2.06-2.06.94z\"/><path d=\"M17.41 7.96l-1.37-1.37c-.4-.4-.92-.59-1.43-.59-.52 0-1.04.2-1.43.59L10.3 9.45l-7.72 7.72c-.78.78-.78 2.05 0 2.83L4 21.41c.39.39.9.59 1.41.59.51 0 1.02-.2 1.41-.59l7.78-7.78 2.81-2.81c.8-.78.8-2.07 0-2.86zM5.41 20L4 18.59l7.72-7.72 1.47 1.35L5.41 20z\"/>\n",
              "  </svg>\n",
              "      </button>\n",
              "      \n",
              "  <style>\n",
              "    .colab-df-container {\n",
              "      display:flex;\n",
              "      flex-wrap:wrap;\n",
              "      gap: 12px;\n",
              "    }\n",
              "\n",
              "    .colab-df-convert {\n",
              "      background-color: #E8F0FE;\n",
              "      border: none;\n",
              "      border-radius: 50%;\n",
              "      cursor: pointer;\n",
              "      display: none;\n",
              "      fill: #1967D2;\n",
              "      height: 32px;\n",
              "      padding: 0 0 0 0;\n",
              "      width: 32px;\n",
              "    }\n",
              "\n",
              "    .colab-df-convert:hover {\n",
              "      background-color: #E2EBFA;\n",
              "      box-shadow: 0px 1px 2px rgba(60, 64, 67, 0.3), 0px 1px 3px 1px rgba(60, 64, 67, 0.15);\n",
              "      fill: #174EA6;\n",
              "    }\n",
              "\n",
              "    [theme=dark] .colab-df-convert {\n",
              "      background-color: #3B4455;\n",
              "      fill: #D2E3FC;\n",
              "    }\n",
              "\n",
              "    [theme=dark] .colab-df-convert:hover {\n",
              "      background-color: #434B5C;\n",
              "      box-shadow: 0px 1px 3px 1px rgba(0, 0, 0, 0.15);\n",
              "      filter: drop-shadow(0px 1px 2px rgba(0, 0, 0, 0.3));\n",
              "      fill: #FFFFFF;\n",
              "    }\n",
              "  </style>\n",
              "\n",
              "      <script>\n",
              "        const buttonEl =\n",
              "          document.querySelector('#df-710a9d63-2dee-4f70-b5fa-460fde32a640 button.colab-df-convert');\n",
              "        buttonEl.style.display =\n",
              "          google.colab.kernel.accessAllowed ? 'block' : 'none';\n",
              "\n",
              "        async function convertToInteractive(key) {\n",
              "          const element = document.querySelector('#df-710a9d63-2dee-4f70-b5fa-460fde32a640');\n",
              "          const dataTable =\n",
              "            await google.colab.kernel.invokeFunction('convertToInteractive',\n",
              "                                                     [key], {});\n",
              "          if (!dataTable) return;\n",
              "\n",
              "          const docLinkHtml = 'Like what you see? Visit the ' +\n",
              "            '<a target=\"_blank\" href=https://colab.research.google.com/notebooks/data_table.ipynb>data table notebook</a>'\n",
              "            + ' to learn more about interactive tables.';\n",
              "          element.innerHTML = '';\n",
              "          dataTable['output_type'] = 'display_data';\n",
              "          await google.colab.output.renderOutput(dataTable, element);\n",
              "          const docLink = document.createElement('div');\n",
              "          docLink.innerHTML = docLinkHtml;\n",
              "          element.appendChild(docLink);\n",
              "        }\n",
              "      </script>\n",
              "    </div>\n",
              "  </div>\n",
              "  "
            ],
            "text/plain": [
              "         weekday  Количество_покупок  Сумма_покупок\n",
              "0  Выходной день                1900     1979092.54\n",
              "1   Рабочий день                2850     2741733.83"
            ]
          },
          "execution_count": 21,
          "metadata": {},
          "output_type": "execute_result"
        }
      ],
      "source": [
        "trans.groupby('weekday')['amt_depers'].agg(['count', 'sum']).reset_index().rename(columns = {'sum': 'Сумма_покупок', 'count': 'Количество_покупок'})"
      ]
    },
    {
      "cell_type": "markdown",
      "metadata": {
        "id": "3H-l7kA_IwL7"
      },
      "source": [
        "#### 3. Adhoc-запросы"
      ]
    },
    {
      "cell_type": "markdown",
      "metadata": {
        "id": "WhB8R4QwIwL7"
      },
      "source": [
        "Выведите список из топ-10 брендов по сумме трат за период. Для каждого бренда укажите число покупок, сумму трат и средний чек"
      ]
    },
    {
      "cell_type": "code",
      "execution_count": null,
      "metadata": {
        "colab": {
          "base_uri": "https://localhost:8080/",
          "height": 363
        },
        "id": "pzgcP8OxXYmZ",
        "outputId": "912b9c53-b252-4419-9ecd-6337a6225365"
      },
      "outputs": [
        {
          "data": {
            "text/html": [
              "\n",
              "  <div id=\"df-7a678b7c-36ce-42da-854f-729e1e44ec4e\">\n",
              "    <div class=\"colab-df-container\">\n",
              "      <div>\n",
              "<style scoped>\n",
              "    .dataframe tbody tr th:only-of-type {\n",
              "        vertical-align: middle;\n",
              "    }\n",
              "\n",
              "    .dataframe tbody tr th {\n",
              "        vertical-align: top;\n",
              "    }\n",
              "\n",
              "    .dataframe thead th {\n",
              "        text-align: right;\n",
              "    }\n",
              "</style>\n",
              "<table border=\"1\" class=\"dataframe\">\n",
              "  <thead>\n",
              "    <tr style=\"text-align: right;\">\n",
              "      <th></th>\n",
              "      <th>Наименование_бренда</th>\n",
              "      <th>Количество_покупок</th>\n",
              "      <th>Сумма_трат</th>\n",
              "      <th>Средний_чек</th>\n",
              "    </tr>\n",
              "  </thead>\n",
              "  <tbody>\n",
              "    <tr>\n",
              "      <th>0</th>\n",
              "      <td>Бренд 333</td>\n",
              "      <td>977</td>\n",
              "      <td>820374.62</td>\n",
              "      <td>839.69</td>\n",
              "    </tr>\n",
              "    <tr>\n",
              "      <th>1</th>\n",
              "      <td>Бренд 119</td>\n",
              "      <td>203</td>\n",
              "      <td>309091.64</td>\n",
              "      <td>1522.62</td>\n",
              "    </tr>\n",
              "    <tr>\n",
              "      <th>2</th>\n",
              "      <td>Бренд 212</td>\n",
              "      <td>123</td>\n",
              "      <td>160840.20</td>\n",
              "      <td>1307.64</td>\n",
              "    </tr>\n",
              "    <tr>\n",
              "      <th>3</th>\n",
              "      <td>Бренд 345</td>\n",
              "      <td>76</td>\n",
              "      <td>134589.28</td>\n",
              "      <td>1770.91</td>\n",
              "    </tr>\n",
              "    <tr>\n",
              "      <th>4</th>\n",
              "      <td>Бренд 319</td>\n",
              "      <td>58</td>\n",
              "      <td>128605.02</td>\n",
              "      <td>2217.33</td>\n",
              "    </tr>\n",
              "    <tr>\n",
              "      <th>5</th>\n",
              "      <td>Бренд 426</td>\n",
              "      <td>50</td>\n",
              "      <td>123804.41</td>\n",
              "      <td>2476.09</td>\n",
              "    </tr>\n",
              "    <tr>\n",
              "      <th>6</th>\n",
              "      <td>Бренд 104</td>\n",
              "      <td>72</td>\n",
              "      <td>121549.90</td>\n",
              "      <td>1688.19</td>\n",
              "    </tr>\n",
              "    <tr>\n",
              "      <th>7</th>\n",
              "      <td>Бренд 298</td>\n",
              "      <td>38</td>\n",
              "      <td>87954.62</td>\n",
              "      <td>2314.60</td>\n",
              "    </tr>\n",
              "    <tr>\n",
              "      <th>8</th>\n",
              "      <td>Бренд 347</td>\n",
              "      <td>71</td>\n",
              "      <td>85259.17</td>\n",
              "      <td>1200.83</td>\n",
              "    </tr>\n",
              "    <tr>\n",
              "      <th>9</th>\n",
              "      <td>Бренд 425</td>\n",
              "      <td>35</td>\n",
              "      <td>81049.86</td>\n",
              "      <td>2315.71</td>\n",
              "    </tr>\n",
              "  </tbody>\n",
              "</table>\n",
              "</div>\n",
              "      <button class=\"colab-df-convert\" onclick=\"convertToInteractive('df-7a678b7c-36ce-42da-854f-729e1e44ec4e')\"\n",
              "              title=\"Convert this dataframe to an interactive table.\"\n",
              "              style=\"display:none;\">\n",
              "        \n",
              "  <svg xmlns=\"http://www.w3.org/2000/svg\" height=\"24px\"viewBox=\"0 0 24 24\"\n",
              "       width=\"24px\">\n",
              "    <path d=\"M0 0h24v24H0V0z\" fill=\"none\"/>\n",
              "    <path d=\"M18.56 5.44l.94 2.06.94-2.06 2.06-.94-2.06-.94-.94-2.06-.94 2.06-2.06.94zm-11 1L8.5 8.5l.94-2.06 2.06-.94-2.06-.94L8.5 2.5l-.94 2.06-2.06.94zm10 10l.94 2.06.94-2.06 2.06-.94-2.06-.94-.94-2.06-.94 2.06-2.06.94z\"/><path d=\"M17.41 7.96l-1.37-1.37c-.4-.4-.92-.59-1.43-.59-.52 0-1.04.2-1.43.59L10.3 9.45l-7.72 7.72c-.78.78-.78 2.05 0 2.83L4 21.41c.39.39.9.59 1.41.59.51 0 1.02-.2 1.41-.59l7.78-7.78 2.81-2.81c.8-.78.8-2.07 0-2.86zM5.41 20L4 18.59l7.72-7.72 1.47 1.35L5.41 20z\"/>\n",
              "  </svg>\n",
              "      </button>\n",
              "      \n",
              "  <style>\n",
              "    .colab-df-container {\n",
              "      display:flex;\n",
              "      flex-wrap:wrap;\n",
              "      gap: 12px;\n",
              "    }\n",
              "\n",
              "    .colab-df-convert {\n",
              "      background-color: #E8F0FE;\n",
              "      border: none;\n",
              "      border-radius: 50%;\n",
              "      cursor: pointer;\n",
              "      display: none;\n",
              "      fill: #1967D2;\n",
              "      height: 32px;\n",
              "      padding: 0 0 0 0;\n",
              "      width: 32px;\n",
              "    }\n",
              "\n",
              "    .colab-df-convert:hover {\n",
              "      background-color: #E2EBFA;\n",
              "      box-shadow: 0px 1px 2px rgba(60, 64, 67, 0.3), 0px 1px 3px 1px rgba(60, 64, 67, 0.15);\n",
              "      fill: #174EA6;\n",
              "    }\n",
              "\n",
              "    [theme=dark] .colab-df-convert {\n",
              "      background-color: #3B4455;\n",
              "      fill: #D2E3FC;\n",
              "    }\n",
              "\n",
              "    [theme=dark] .colab-df-convert:hover {\n",
              "      background-color: #434B5C;\n",
              "      box-shadow: 0px 1px 3px 1px rgba(0, 0, 0, 0.15);\n",
              "      filter: drop-shadow(0px 1px 2px rgba(0, 0, 0, 0.3));\n",
              "      fill: #FFFFFF;\n",
              "    }\n",
              "  </style>\n",
              "\n",
              "      <script>\n",
              "        const buttonEl =\n",
              "          document.querySelector('#df-7a678b7c-36ce-42da-854f-729e1e44ec4e button.colab-df-convert');\n",
              "        buttonEl.style.display =\n",
              "          google.colab.kernel.accessAllowed ? 'block' : 'none';\n",
              "\n",
              "        async function convertToInteractive(key) {\n",
              "          const element = document.querySelector('#df-7a678b7c-36ce-42da-854f-729e1e44ec4e');\n",
              "          const dataTable =\n",
              "            await google.colab.kernel.invokeFunction('convertToInteractive',\n",
              "                                                     [key], {});\n",
              "          if (!dataTable) return;\n",
              "\n",
              "          const docLinkHtml = 'Like what you see? Visit the ' +\n",
              "            '<a target=\"_blank\" href=https://colab.research.google.com/notebooks/data_table.ipynb>data table notebook</a>'\n",
              "            + ' to learn more about interactive tables.';\n",
              "          element.innerHTML = '';\n",
              "          dataTable['output_type'] = 'display_data';\n",
              "          await google.colab.output.renderOutput(dataTable, element);\n",
              "          const docLink = document.createElement('div');\n",
              "          docLink.innerHTML = docLinkHtml;\n",
              "          element.appendChild(docLink);\n",
              "        }\n",
              "      </script>\n",
              "    </div>\n",
              "  </div>\n",
              "  "
            ],
            "text/plain": [
              "  Наименование_бренда  Количество_покупок  Сумма_трат  Средний_чек\n",
              "0           Бренд 333                 977   820374.62       839.69\n",
              "1           Бренд 119                 203   309091.64      1522.62\n",
              "2           Бренд 212                 123   160840.20      1307.64\n",
              "3           Бренд 345                  76   134589.28      1770.91\n",
              "4           Бренд 319                  58   128605.02      2217.33\n",
              "5           Бренд 426                  50   123804.41      2476.09\n",
              "6           Бренд 104                  72   121549.90      1688.19\n",
              "7           Бренд 298                  38    87954.62      2314.60\n",
              "8           Бренд 347                  71    85259.17      1200.83\n",
              "9           Бренд 425                  35    81049.86      2315.71"
            ]
          },
          "execution_count": 22,
          "metadata": {},
          "output_type": "execute_result"
        }
      ],
      "source": [
        "trans.groupby('brand_depers')['amt_depers'].agg(['count', 'sum', 'mean']).sort_values(\n",
        "    by='sum', ascending=False).reset_index().rename(columns = {\n",
        "        'brand_depers' : 'Наименование_бренда', 'sum': 'Сумма_трат', 'count': 'Количество_покупок', 'mean' : 'Средний_чек'}).head(10)"
      ]
    },
    {
      "cell_type": "markdown",
      "metadata": {
        "id": "8RchOhDKIwL7"
      },
      "source": [
        "Выведите список из топ-3 брендов по сумме трат для каждой категории за период. Для каждого бренда укажите число покупок, сумму трат и средний чек"
      ]
    },
    {
      "cell_type": "code",
      "execution_count": null,
      "metadata": {
        "colab": {
          "base_uri": "https://localhost:8080/",
          "height": 206
        },
        "id": "IZuVHFNbYjr4",
        "outputId": "dade3e55-6939-4bb2-af38-8ea640a13b7a"
      },
      "outputs": [
        {
          "data": {
            "text/html": [
              "\n",
              "  <div id=\"df-bac3f205-64da-45c4-9ffb-a4202bc8d90a\">\n",
              "    <div class=\"colab-df-container\">\n",
              "      <div>\n",
              "<style scoped>\n",
              "    .dataframe tbody tr th:only-of-type {\n",
              "        vertical-align: middle;\n",
              "    }\n",
              "\n",
              "    .dataframe tbody tr th {\n",
              "        vertical-align: top;\n",
              "    }\n",
              "\n",
              "    .dataframe thead tr th {\n",
              "        text-align: left;\n",
              "    }\n",
              "\n",
              "    .dataframe thead tr:last-of-type th {\n",
              "        text-align: right;\n",
              "    }\n",
              "</style>\n",
              "<table border=\"1\" class=\"dataframe\">\n",
              "  <thead>\n",
              "    <tr>\n",
              "      <th></th>\n",
              "      <th colspan=\"3\" halign=\"left\">sum</th>\n",
              "      <th colspan=\"3\" halign=\"left\">count</th>\n",
              "      <th colspan=\"3\" halign=\"left\">mean</th>\n",
              "    </tr>\n",
              "    <tr>\n",
              "      <th>category_depers</th>\n",
              "      <th>Категория 1</th>\n",
              "      <th>Категория 16</th>\n",
              "      <th>Категория 17</th>\n",
              "      <th>Категория 1</th>\n",
              "      <th>Категория 16</th>\n",
              "      <th>Категория 17</th>\n",
              "      <th>Категория 1</th>\n",
              "      <th>Категория 16</th>\n",
              "      <th>Категория 17</th>\n",
              "    </tr>\n",
              "    <tr>\n",
              "      <th>brand_depers</th>\n",
              "      <th></th>\n",
              "      <th></th>\n",
              "      <th></th>\n",
              "      <th></th>\n",
              "      <th></th>\n",
              "      <th></th>\n",
              "      <th></th>\n",
              "      <th></th>\n",
              "      <th></th>\n",
              "    </tr>\n",
              "  </thead>\n",
              "  <tbody>\n",
              "    <tr>\n",
              "      <th>Бренд 119</th>\n",
              "      <td>NaN</td>\n",
              "      <td>NaN</td>\n",
              "      <td>309091.64</td>\n",
              "      <td>NaN</td>\n",
              "      <td>NaN</td>\n",
              "      <td>203.00</td>\n",
              "      <td>NaN</td>\n",
              "      <td>NaN</td>\n",
              "      <td>1522.62</td>\n",
              "    </tr>\n",
              "    <tr>\n",
              "      <th>Бренд 212</th>\n",
              "      <td>160840.20</td>\n",
              "      <td>NaN</td>\n",
              "      <td>NaN</td>\n",
              "      <td>123.00</td>\n",
              "      <td>NaN</td>\n",
              "      <td>NaN</td>\n",
              "      <td>1307.64</td>\n",
              "      <td>NaN</td>\n",
              "      <td>NaN</td>\n",
              "    </tr>\n",
              "    <tr>\n",
              "      <th>Бренд 333</th>\n",
              "      <td>NaN</td>\n",
              "      <td>820374.62</td>\n",
              "      <td>NaN</td>\n",
              "      <td>NaN</td>\n",
              "      <td>977.00</td>\n",
              "      <td>NaN</td>\n",
              "      <td>NaN</td>\n",
              "      <td>839.69</td>\n",
              "      <td>NaN</td>\n",
              "    </tr>\n",
              "  </tbody>\n",
              "</table>\n",
              "</div>\n",
              "      <button class=\"colab-df-convert\" onclick=\"convertToInteractive('df-bac3f205-64da-45c4-9ffb-a4202bc8d90a')\"\n",
              "              title=\"Convert this dataframe to an interactive table.\"\n",
              "              style=\"display:none;\">\n",
              "        \n",
              "  <svg xmlns=\"http://www.w3.org/2000/svg\" height=\"24px\"viewBox=\"0 0 24 24\"\n",
              "       width=\"24px\">\n",
              "    <path d=\"M0 0h24v24H0V0z\" fill=\"none\"/>\n",
              "    <path d=\"M18.56 5.44l.94 2.06.94-2.06 2.06-.94-2.06-.94-.94-2.06-.94 2.06-2.06.94zm-11 1L8.5 8.5l.94-2.06 2.06-.94-2.06-.94L8.5 2.5l-.94 2.06-2.06.94zm10 10l.94 2.06.94-2.06 2.06-.94-2.06-.94-.94-2.06-.94 2.06-2.06.94z\"/><path d=\"M17.41 7.96l-1.37-1.37c-.4-.4-.92-.59-1.43-.59-.52 0-1.04.2-1.43.59L10.3 9.45l-7.72 7.72c-.78.78-.78 2.05 0 2.83L4 21.41c.39.39.9.59 1.41.59.51 0 1.02-.2 1.41-.59l7.78-7.78 2.81-2.81c.8-.78.8-2.07 0-2.86zM5.41 20L4 18.59l7.72-7.72 1.47 1.35L5.41 20z\"/>\n",
              "  </svg>\n",
              "      </button>\n",
              "      \n",
              "  <style>\n",
              "    .colab-df-container {\n",
              "      display:flex;\n",
              "      flex-wrap:wrap;\n",
              "      gap: 12px;\n",
              "    }\n",
              "\n",
              "    .colab-df-convert {\n",
              "      background-color: #E8F0FE;\n",
              "      border: none;\n",
              "      border-radius: 50%;\n",
              "      cursor: pointer;\n",
              "      display: none;\n",
              "      fill: #1967D2;\n",
              "      height: 32px;\n",
              "      padding: 0 0 0 0;\n",
              "      width: 32px;\n",
              "    }\n",
              "\n",
              "    .colab-df-convert:hover {\n",
              "      background-color: #E2EBFA;\n",
              "      box-shadow: 0px 1px 2px rgba(60, 64, 67, 0.3), 0px 1px 3px 1px rgba(60, 64, 67, 0.15);\n",
              "      fill: #174EA6;\n",
              "    }\n",
              "\n",
              "    [theme=dark] .colab-df-convert {\n",
              "      background-color: #3B4455;\n",
              "      fill: #D2E3FC;\n",
              "    }\n",
              "\n",
              "    [theme=dark] .colab-df-convert:hover {\n",
              "      background-color: #434B5C;\n",
              "      box-shadow: 0px 1px 3px 1px rgba(0, 0, 0, 0.15);\n",
              "      filter: drop-shadow(0px 1px 2px rgba(0, 0, 0, 0.3));\n",
              "      fill: #FFFFFF;\n",
              "    }\n",
              "  </style>\n",
              "\n",
              "      <script>\n",
              "        const buttonEl =\n",
              "          document.querySelector('#df-bac3f205-64da-45c4-9ffb-a4202bc8d90a button.colab-df-convert');\n",
              "        buttonEl.style.display =\n",
              "          google.colab.kernel.accessAllowed ? 'block' : 'none';\n",
              "\n",
              "        async function convertToInteractive(key) {\n",
              "          const element = document.querySelector('#df-bac3f205-64da-45c4-9ffb-a4202bc8d90a');\n",
              "          const dataTable =\n",
              "            await google.colab.kernel.invokeFunction('convertToInteractive',\n",
              "                                                     [key], {});\n",
              "          if (!dataTable) return;\n",
              "\n",
              "          const docLinkHtml = 'Like what you see? Visit the ' +\n",
              "            '<a target=\"_blank\" href=https://colab.research.google.com/notebooks/data_table.ipynb>data table notebook</a>'\n",
              "            + ' to learn more about interactive tables.';\n",
              "          element.innerHTML = '';\n",
              "          dataTable['output_type'] = 'display_data';\n",
              "          await google.colab.output.renderOutput(dataTable, element);\n",
              "          const docLink = document.createElement('div');\n",
              "          docLink.innerHTML = docLinkHtml;\n",
              "          element.appendChild(docLink);\n",
              "        }\n",
              "      </script>\n",
              "    </div>\n",
              "  </div>\n",
              "  "
            ],
            "text/plain": [
              "                        sum               ...         mean             \n",
              "category_depers Категория 1 Категория 16  ... Категория 16 Категория 17\n",
              "brand_depers                              ...                          \n",
              "Бренд 119               NaN          NaN  ...          NaN      1522.62\n",
              "Бренд 212         160840.20          NaN  ...          NaN          NaN\n",
              "Бренд 333               NaN    820374.62  ...       839.69          NaN\n",
              "\n",
              "[3 rows x 9 columns]"
            ]
          },
          "execution_count": 23,
          "metadata": {},
          "output_type": "execute_result"
        }
      ],
      "source": [
        "# не понял формулировку задания, сделал как в текста, определил топ-3 бренда по суммат трат, и вывел их для каждой категории\n",
        "\n",
        "df = trans[(trans['brand_depers'] == 'Бренд 333') |\n",
        "           (trans['brand_depers'] == 'Бренд 119') |\n",
        "           (trans['brand_depers'] == 'Бренд 212')\n",
        " ]\n",
        "df= df.pivot_table(index=['brand_depers'], columns = 'category_depers', values='amt_depers', aggfunc=['sum', 'count', 'mean'])\n",
        "df"
      ]
    },
    {
      "cell_type": "markdown",
      "metadata": {
        "id": "ohlH6v_nIwL8"
      },
      "source": [
        "Покажите распределение количества покупок за каждый день из периода (визуализация приветствуется) "
      ]
    },
    {
      "cell_type": "code",
      "execution_count": null,
      "metadata": {
        "colab": {
          "base_uri": "https://localhost:8080/",
          "height": 350
        },
        "id": "UYAFHux1e5DS",
        "outputId": "a627fb29-b477-432f-dacb-fb34a4dfa802"
      },
      "outputs": [
        {
          "data": {
            "image/png": "[encoded data removed]",
            "text/plain": [
              "<Figure size 1080x360 with 1 Axes>"
            ]
          },
          "metadata": {
            "needs_background": "light"
          },
          "output_type": "display_data"
        }
      ],
      "source": [
        "kol = trans.groupby('city_date')['amt_depers'].agg('count').reset_index()\n",
        "plt.figure(figsize=(15, 5))\n",
        "sns.barplot(data=kol, x=kol['city_date'].dt.day.value_counts().index, y=\"amt_depers\")\n",
        "plt.title('Количество покупок за каждый день ')\n",
        "plt.ylabel('Количество совершенных покупок, шт.')\n",
        "plt.xlabel('День')\n",
        "plt.grid(color='grey', axis='both', alpha=0.5)\n",
        "plt.yticks(np.arange(0, 250, 15))\n",
        "plt.show()"
      ]
    },
    {
      "cell_type": "code",
      "execution_count": null,
      "metadata": {
        "colab": {
          "base_uri": "https://localhost:8080/",
          "height": 424
        },
        "id": "OvsbASDlg4fW",
        "outputId": "f075e697-bc83-4c88-becc-0e7a97df9247"
      },
      "outputs": [
        {
          "data": {
            "text/html": [
              "\n",
              "  <div id=\"df-509f39c2-3f07-402f-8e6a-618413396748\">\n",
              "    <div class=\"colab-df-container\">\n",
              "      <div>\n",
              "<style scoped>\n",
              "    .dataframe tbody tr th:only-of-type {\n",
              "        vertical-align: middle;\n",
              "    }\n",
              "\n",
              "    .dataframe tbody tr th {\n",
              "        vertical-align: top;\n",
              "    }\n",
              "\n",
              "    .dataframe thead th {\n",
              "        text-align: right;\n",
              "    }\n",
              "</style>\n",
              "<table border=\"1\" class=\"dataframe\">\n",
              "  <thead>\n",
              "    <tr style=\"text-align: right;\">\n",
              "      <th></th>\n",
              "      <th>city_date</th>\n",
              "      <th>city_time</th>\n",
              "      <th>brand_depers</th>\n",
              "      <th>category_depers</th>\n",
              "      <th>amt_depers</th>\n",
              "      <th>weekday</th>\n",
              "    </tr>\n",
              "  </thead>\n",
              "  <tbody>\n",
              "    <tr>\n",
              "      <th>0</th>\n",
              "      <td>2021-01-12</td>\n",
              "      <td>2021-01-12 13:09:22</td>\n",
              "      <td>Бренд 403</td>\n",
              "      <td>Категория 12</td>\n",
              "      <td>165.11</td>\n",
              "      <td>Рабочий день</td>\n",
              "    </tr>\n",
              "    <tr>\n",
              "      <th>1</th>\n",
              "      <td>2021-01-24</td>\n",
              "      <td>2021-01-24 12:23:49</td>\n",
              "      <td>Бренд 426</td>\n",
              "      <td>Категория 10</td>\n",
              "      <td>2520.17</td>\n",
              "      <td>Выходной день</td>\n",
              "    </tr>\n",
              "    <tr>\n",
              "      <th>2</th>\n",
              "      <td>2021-01-01</td>\n",
              "      <td>2021-01-01 19:04:06</td>\n",
              "      <td>Бренд 192</td>\n",
              "      <td>Категория 9</td>\n",
              "      <td>737.58</td>\n",
              "      <td>Рабочий день</td>\n",
              "    </tr>\n",
              "    <tr>\n",
              "      <th>3</th>\n",
              "      <td>2021-01-04</td>\n",
              "      <td>2021-01-04 15:32:53</td>\n",
              "      <td>Бренд 119</td>\n",
              "      <td>Категория 17</td>\n",
              "      <td>3563.71</td>\n",
              "      <td>Рабочий день</td>\n",
              "    </tr>\n",
              "    <tr>\n",
              "      <th>4</th>\n",
              "      <td>2021-01-11</td>\n",
              "      <td>2021-01-11 15:28:53</td>\n",
              "      <td>Бренд 119</td>\n",
              "      <td>Категория 17</td>\n",
              "      <td>5435.01</td>\n",
              "      <td>Рабочий день</td>\n",
              "    </tr>\n",
              "    <tr>\n",
              "      <th>...</th>\n",
              "      <td>...</td>\n",
              "      <td>...</td>\n",
              "      <td>...</td>\n",
              "      <td>...</td>\n",
              "      <td>...</td>\n",
              "      <td>...</td>\n",
              "    </tr>\n",
              "    <tr>\n",
              "      <th>4995</th>\n",
              "      <td>2021-01-10</td>\n",
              "      <td>2021-01-10 12:40:26</td>\n",
              "      <td>Бренд 333</td>\n",
              "      <td>Категория 16</td>\n",
              "      <td>69.73</td>\n",
              "      <td>Выходной день</td>\n",
              "    </tr>\n",
              "    <tr>\n",
              "      <th>4996</th>\n",
              "      <td>2021-01-05</td>\n",
              "      <td>2021-01-05 14:11:13</td>\n",
              "      <td>Бренд 406</td>\n",
              "      <td>Категория 9</td>\n",
              "      <td>943.72</td>\n",
              "      <td>Рабочий день</td>\n",
              "    </tr>\n",
              "    <tr>\n",
              "      <th>4997</th>\n",
              "      <td>2021-01-08</td>\n",
              "      <td>2021-01-08 15:27:21</td>\n",
              "      <td>Бренд 378</td>\n",
              "      <td>Категория 18</td>\n",
              "      <td>4263.13</td>\n",
              "      <td>Рабочий день</td>\n",
              "    </tr>\n",
              "    <tr>\n",
              "      <th>4998</th>\n",
              "      <td>2021-01-26</td>\n",
              "      <td>2021-01-26 17:59:43</td>\n",
              "      <td>Бренд 333</td>\n",
              "      <td>Категория 16</td>\n",
              "      <td>1771.36</td>\n",
              "      <td>Рабочий день</td>\n",
              "    </tr>\n",
              "    <tr>\n",
              "      <th>4999</th>\n",
              "      <td>2021-01-14</td>\n",
              "      <td>2021-01-14 14:00:09</td>\n",
              "      <td>Бренд 192</td>\n",
              "      <td>Категория 9</td>\n",
              "      <td>170.13</td>\n",
              "      <td>Рабочий день</td>\n",
              "    </tr>\n",
              "  </tbody>\n",
              "</table>\n",
              "<p>5000 rows × 6 columns</p>\n",
              "</div>\n",
              "      <button class=\"colab-df-convert\" onclick=\"convertToInteractive('df-509f39c2-3f07-402f-8e6a-618413396748')\"\n",
              "              title=\"Convert this dataframe to an interactive table.\"\n",
              "              style=\"display:none;\">\n",
              "        \n",
              "  <svg xmlns=\"http://www.w3.org/2000/svg\" height=\"24px\"viewBox=\"0 0 24 24\"\n",
              "       width=\"24px\">\n",
              "    <path d=\"M0 0h24v24H0V0z\" fill=\"none\"/>\n",
              "    <path d=\"M18.56 5.44l.94 2.06.94-2.06 2.06-.94-2.06-.94-.94-2.06-.94 2.06-2.06.94zm-11 1L8.5 8.5l.94-2.06 2.06-.94-2.06-.94L8.5 2.5l-.94 2.06-2.06.94zm10 10l.94 2.06.94-2.06 2.06-.94-2.06-.94-.94-2.06-.94 2.06-2.06.94z\"/><path d=\"M17.41 7.96l-1.37-1.37c-.4-.4-.92-.59-1.43-.59-.52 0-1.04.2-1.43.59L10.3 9.45l-7.72 7.72c-.78.78-.78 2.05 0 2.83L4 21.41c.39.39.9.59 1.41.59.51 0 1.02-.2 1.41-.59l7.78-7.78 2.81-2.81c.8-.78.8-2.07 0-2.86zM5.41 20L4 18.59l7.72-7.72 1.47 1.35L5.41 20z\"/>\n",
              "  </svg>\n",
              "      </button>\n",
              "      \n",
              "  <style>\n",
              "    .colab-df-container {\n",
              "      display:flex;\n",
              "      flex-wrap:wrap;\n",
              "      gap: 12px;\n",
              "    }\n",
              "\n",
              "    .colab-df-convert {\n",
              "      background-color: #E8F0FE;\n",
              "      border: none;\n",
              "      border-radius: 50%;\n",
              "      cursor: pointer;\n",
              "      display: none;\n",
              "      fill: #1967D2;\n",
              "      height: 32px;\n",
              "      padding: 0 0 0 0;\n",
              "      width: 32px;\n",
              "    }\n",
              "\n",
              "    .colab-df-convert:hover {\n",
              "      background-color: #E2EBFA;\n",
              "      box-shadow: 0px 1px 2px rgba(60, 64, 67, 0.3), 0px 1px 3px 1px rgba(60, 64, 67, 0.15);\n",
              "      fill: #174EA6;\n",
              "    }\n",
              "\n",
              "    [theme=dark] .colab-df-convert {\n",
              "      background-color: #3B4455;\n",
              "      fill: #D2E3FC;\n",
              "    }\n",
              "\n",
              "    [theme=dark] .colab-df-convert:hover {\n",
              "      background-color: #434B5C;\n",
              "      box-shadow: 0px 1px 3px 1px rgba(0, 0, 0, 0.15);\n",
              "      filter: drop-shadow(0px 1px 2px rgba(0, 0, 0, 0.3));\n",
              "      fill: #FFFFFF;\n",
              "    }\n",
              "  </style>\n",
              "\n",
              "      <script>\n",
              "        const buttonEl =\n",
              "          document.querySelector('#df-509f39c2-3f07-402f-8e6a-618413396748 button.colab-df-convert');\n",
              "        buttonEl.style.display =\n",
              "          google.colab.kernel.accessAllowed ? 'block' : 'none';\n",
              "\n",
              "        async function convertToInteractive(key) {\n",
              "          const element = document.querySelector('#df-509f39c2-3f07-402f-8e6a-618413396748');\n",
              "          const dataTable =\n",
              "            await google.colab.kernel.invokeFunction('convertToInteractive',\n",
              "                                                     [key], {});\n",
              "          if (!dataTable) return;\n",
              "\n",
              "          const docLinkHtml = 'Like what you see? Visit the ' +\n",
              "            '<a target=\"_blank\" href=https://colab.research.google.com/notebooks/data_table.ipynb>data table notebook</a>'\n",
              "            + ' to learn more about interactive tables.';\n",
              "          element.innerHTML = '';\n",
              "          dataTable['output_type'] = 'display_data';\n",
              "          await google.colab.output.renderOutput(dataTable, element);\n",
              "          const docLink = document.createElement('div');\n",
              "          docLink.innerHTML = docLinkHtml;\n",
              "          element.appendChild(docLink);\n",
              "        }\n",
              "      </script>\n",
              "    </div>\n",
              "  </div>\n",
              "  "
            ],
            "text/plain": [
              "      city_date            city_time  ... amt_depers        weekday\n",
              "0    2021-01-12  2021-01-12 13:09:22  ...     165.11   Рабочий день\n",
              "1    2021-01-24  2021-01-24 12:23:49  ...    2520.17  Выходной день\n",
              "2    2021-01-01  2021-01-01 19:04:06  ...     737.58   Рабочий день\n",
              "3    2021-01-04  2021-01-04 15:32:53  ...    3563.71   Рабочий день\n",
              "4    2021-01-11  2021-01-11 15:28:53  ...    5435.01   Рабочий день\n",
              "...         ...                  ...  ...        ...            ...\n",
              "4995 2021-01-10  2021-01-10 12:40:26  ...      69.73  Выходной день\n",
              "4996 2021-01-05  2021-01-05 14:11:13  ...     943.72   Рабочий день\n",
              "4997 2021-01-08  2021-01-08 15:27:21  ...    4263.13   Рабочий день\n",
              "4998 2021-01-26  2021-01-26 17:59:43  ...    1771.36   Рабочий день\n",
              "4999 2021-01-14  2021-01-14 14:00:09  ...     170.13   Рабочий день\n",
              "\n",
              "[5000 rows x 6 columns]"
            ]
          },
          "execution_count": 36,
          "metadata": {},
          "output_type": "execute_result"
        }
      ],
      "source": [
        "trans"
      ]
    },
    {
      "cell_type": "markdown",
      "metadata": {
        "id": "3zn1QpM6IwL_"
      },
      "source": [
        "Представим, что к каждой транзакции мы добавили признак `client_id` - уникальный идентификатор клиента, совершившего покупку. Теперь мы хотим сегментировать нашу аудиторию. Какие из имеющихся признаков можно для этого использовать? Какие дополнительные признаки могут понадобиться?  "
      ]
    },
    {
      "cell_type": "markdown",
      "metadata": {
        "id": "I3q9wm_gIwL_"
      },
      "source": [
        "_Ваш ответ:_\n"
      ]
    },
    {
      "cell_type": "markdown",
      "metadata": {
        "id": "xv2eQwTjg_8N"
      },
      "source": [
        "Из имеющихся признаков можно использовать для сегментирования аудитории:   \n",
        "- `brand_depers`\n",
        "- `category_depers`\n",
        "- `amt_depers`\n",
        "- `weekday`"
      ]
    },
    {
      "cell_type": "markdown",
      "metadata": {
        "id": "aFrDBVCUIwL_"
      },
      "source": [
        "Дополнительные признаки, которы могли бы нам понадобиться:  \n",
        "\n",
        "- `пол, возраст, образование, семейное положение, количество детей`;\n",
        "- `страна, город, в каких магазинах совершают покупки`;\n",
        "- `средний чек, время покупки (перед праздником, в выходные дни, в будние дни)`."
      ]
    },
    {
      "cell_type": "markdown",
      "metadata": {
        "id": "6IEJQ83oIwL_"
      },
      "source": [
        "#### 4. SQL-запросы\n",
        "\n"
      ]
    },
    {
      "cell_type": "markdown",
      "metadata": {
        "id": "litTH5AMIwMA"
      },
      "source": [
        "_Задача 1._\n",
        "\n",
        "Есть таблица **transactions** вида \n",
        "\n",
        "| date       | Cash_flow |\n",
        "| ---        | --- |\n",
        "| 2021-05-11 | -110 |\n",
        "| 2021-05-12 | -50 |\n",
        "\n",
        "Переменная Сash_flow (денежный поток) = выручка - затраты за день.\n",
        "\n",
        "Рассчитайте нарастающий итог денежного потока за каждый день."
      ]
    },
    {
      "cell_type": "code",
      "execution_count": null,
      "metadata": {
        "id": "D3UhByGmIwMB"
      },
      "outputs": [],
      "source": [
        "SELECT a.\"date\" as \"Дата\", SUM(b.\"Cash_flow\") as \"Нарастающий итог\"\n",
        "FROM transactions a\n",
        "JOIN transactions b ON a.\"date\" >= b.\"date\"\n",
        "GROUP BY a.\"date\"\n",
        "ORDER BY 1;"
      ]
    },
    {
      "cell_type": "markdown",
      "metadata": {
        "id": "m6FP4wNVIwMB"
      },
      "source": [
        "_Задача 2._\n",
        "\n",
        "Есть таблица **salaries** вида \n",
        "\n",
        "| depname    | Emp_id | salary |\n",
        "| ---        | --- | --- |\n",
        "| develop    | 1   | 100000|\n",
        "| sales      | 2   | 50000 |\n",
        "\n",
        "Переменная depname – название департамента, emp_id – идентификатор сотрудника, salary – суммарная зарплата.\n",
        "\n",
        "Найдите сотрудника с самой большой зарплатой (учитывая случай одинаковых зарплат)."
      ]
    },
    {
      "cell_type": "code",
      "execution_count": null,
      "metadata": {
        "id": "Cvy-DwWnIwMB"
      },
      "outputs": [],
      "source": [
        "SELECT \"Emp_id\", salary\n",
        "FROM salaries\n",
        "WHERE salary = (SELECT MAX(salary) FROM salaries);"
      ]
    },
    {
      "cell_type": "markdown",
      "metadata": {
        "id": "aWEEzVaFIwMC"
      },
      "source": [
        "_Задача 3._\n",
        "\n",
        "Используя предыдущую таблицу добавьте столбец, в котором будет указана средняя зарплата в департаменте."
      ]
    },
    {
      "cell_type": "code",
      "execution_count": null,
      "metadata": {
        "id": "tU1yxXkCIwMC"
      },
      "outputs": [],
      "source": [
        "SELECT depname, AVG(salary) as avg_salary\n",
        "FROM salaries\n",
        "GROUP BY depname\n",
        "ORDER BY 2;"
      ]
    },
    {
      "cell_type": "markdown",
      "metadata": {
        "id": "ovtGm2qFIwMC"
      },
      "source": [
        "_Задача 4._\n",
        "\n",
        "Есть таблица **sessions** вида \n",
        "\n",
        "| session_id    | length_sec | \n",
        "| ---        | --- | \n",
        "| 1   | 12|\n",
        "| 2   | 34 |\n",
        "\n",
        "Переменная session_id – уникальный идентификатор сессии, length_sec – продолжительность сессии в секундах.\n",
        "\n",
        "Найдите количество сеансов, которые попадают в промежутки по 5 секунд."
      ]
    },
    {
      "cell_type": "code",
      "execution_count": null,
      "metadata": {
        "id": "IbvoVZ6qIwMC"
      },
      "outputs": [],
      "source": [
        "SELECT COUNT(session_id) AS \"Количество сеансов по 5 секунд\"\n",
        "FROM sessions\n",
        "WHERE length_sec = 5;"
      ]
    },
    {
      "cell_type": "markdown",
      "metadata": {
        "id": "4bn0xPMUIwMC"
      },
      "source": [
        "_Задача 5._\n",
        "\n",
        "Есть таблица **covid** вида \n",
        "\n",
        "| region    | ttl | \n",
        "| ---        | --- | \n",
        "| Москва   | 34523 |\n",
        "| Московская область   | 18775 |\n",
        "\n",
        "Переменная region – регион РФ, ttl – общее количество заболевших за определенный период.\n",
        "\n",
        "Найдите пары регионов с общим количеством заболевших в пределах тысячи друг от друга (учитывая, что пары типа регион1 – регион2 и регион2 – регион1 одинаковые)."
      ]
    },
    {
      "cell_type": "code",
      "execution_count": null,
      "metadata": {
        "id": "3uL-gy_vIwMD"
      },
      "outputs": [],
      "source": [
        "SELECT a.region as \"Первый регион\", b.region \"Второй регион\"\n",
        "FROM covid a\n",
        "CROSS JOIN covid b\n",
        "WHERE ABS(a.ttl - b.ttl) <= 1000 AND a.ttl < b.ttl;"
      ]
    },
    {
      "cell_type": "markdown",
      "metadata": {
        "id": "5qVJ5XL-IwMD"
      },
      "source": [
        "_____"
      ]
    }
  ],
  "metadata": {
    "colab": {
      "collapsed_sections": [],
      "name": "Воронко_Тестовое_задание_2.ipynb",
      "provenance": [],
      "toc_visible": true
    },
    "kernelspec": {
      "display_name": "Python 3 (ipykernel)",
      "language": "python",
      "name": "python3"
    },
    "language_info": {
      "codemirror_mode": {
        "name": "ipython",
        "version": 3
      },
      "file_extension": ".py",
      "mimetype": "text/x-python",
      "name": "python",
      "nbconvert_exporter": "python",
      "pygments_lexer": "ipython3",
      "version": "3.9.7"
    },
    "toc": {
      "base_numbering": 1,
      "nav_menu": {},
      "number_sections": true,
      "sideBar": true,
      "skip_h1_title": false,
      "title_cell": "Table of Contents",
      "title_sidebar": "Contents",
      "toc_cell": false,
      "toc_position": {},
      "toc_section_display": true,
      "toc_window_display": false
    }
  },
  "nbformat": 4,
  "nbformat_minor": 0
}